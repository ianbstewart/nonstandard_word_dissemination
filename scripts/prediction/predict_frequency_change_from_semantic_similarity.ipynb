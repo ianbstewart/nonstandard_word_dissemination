{
 "cells": [
  {
   "cell_type": "markdown",
   "metadata": {},
   "source": [
    "# Predict frequency change from semantic similarity\n",
    "In which we try to test whether semantic similarity can predict word success."
   ]
  },
  {
   "cell_type": "code",
   "execution_count": 85,
   "metadata": {
    "collapsed": true
   },
   "outputs": [],
   "source": [
    "from gensim.models import Word2Vec\n",
    "import pandas as pd\n",
    "import matplotlib\n",
    "%matplotlib inline\n",
    "import matplotlib.pyplot as plt\n",
    "import seaborn as sns\n",
    "from scipy.stats import linregress"
   ]
  },
  {
   "cell_type": "markdown",
   "metadata": {},
   "source": [
    "## Load data\n",
    "Get embeddings first for vocabulary, then get frequencies for the relevant words."
   ]
  },
  {
   "cell_type": "code",
   "execution_count": 4,
   "metadata": {
    "collapsed": false
   },
   "outputs": [],
   "source": [
    "embeddings = Word2Vec.load_word2vec_format('../../data/embeddings/2015_2016_wang2vec_embeddings_12000000',\n",
    "                                           binary=True)"
   ]
  },
  {
   "cell_type": "code",
   "execution_count": 35,
   "metadata": {
    "collapsed": false
   },
   "outputs": [],
   "source": [
    "all_vocab = embeddings.vocab.keys()"
   ]
  },
  {
   "cell_type": "code",
   "execution_count": 37,
   "metadata": {
    "collapsed": false
   },
   "outputs": [
    {
     "name": "stdout",
     "output_type": "stream",
     "text": [
      "87425 vocab\n",
      "87425 test vocab\n"
     ]
    }
   ],
   "source": [
    "test_vocab = list(set(all_vocab) & set(monthly_tf.index.tolist()))\n",
    "print('%d vocab'%(len(all_vocab)))\n",
    "print('%d test vocab'%(len(test_vocab)))"
   ]
  },
  {
   "cell_type": "code",
   "execution_count": 43,
   "metadata": {
    "collapsed": false
   },
   "outputs": [],
   "source": [
    "# monthly_tf = pd.read_csv('../../data/frequency/2015_2016_tf_norm.tsv', sep='\\t', index_col=0)\n",
    "all_vocab = list(set(all_vocab) & set(monthly_tf.index.tolist()))\n",
    "monthly_tf = monthly_tf.loc[all_vocab]"
   ]
  },
  {
   "cell_type": "markdown",
   "metadata": {},
   "source": [
    "## Compute semantic similarities\n",
    "We need average similarities with top-k neighbors...this will take a while unless we pre-compute the graph somehow. Hmm."
   ]
  },
  {
   "cell_type": "code",
   "execution_count": 15,
   "metadata": {
    "collapsed": false
   },
   "outputs": [],
   "source": [
    "avg_semantic_similarities = {}\n",
    "top_k = 5\n",
    "for i,v in enumerate(all_vocab):\n",
    "    top_sims = embeddings.most_similar(v, topn=top_k)\n",
    "    _, top_sims = zip(*top_sims)\n",
    "    avg_sim = pd.np.mean(top_sims)\n",
    "    avg_semantic_similarities[v] = avg_sim\n",
    "    if(i % 1000 == 0):\n",
    "        print('processed %d words'%(i))\n",
    "avg_semantic_similarities = pd.Series(avg_semantic_similarities)"
   ]
  },
  {
   "cell_type": "code",
   "execution_count": 16,
   "metadata": {
    "collapsed": false
   },
   "outputs": [
    {
     "data": {
      "text/plain": [
       "!             0.741539\n",
       "(             0.748721\n",
       ")             0.739010\n",
       ",             0.804133\n",
       ".             0.790791\n",
       "/             0.673524\n",
       ":             0.716038\n",
       ";             0.710268\n",
       "</s>          0.356398\n",
       "?             0.757418\n",
       "CAP-UNK       0.772775\n",
       "CHAR-UNK      0.747194\n",
       "NUM-UNK       0.725956\n",
       "SUB           0.639030\n",
       "USER          0.680707\n",
       "[             0.716782\n",
       "]             0.724182\n",
       "a             0.647477\n",
       "aa            0.827994\n",
       "aaa           0.722281\n",
       "aaah          0.812785\n",
       "aaahh         0.850008\n",
       "aaahhh        0.815105\n",
       "aaand         0.753547\n",
       "aaargh        0.857988\n",
       "aac           0.849630\n",
       "aadhar        0.795854\n",
       "aadmi         0.950927\n",
       "aah           0.787812\n",
       "aahh          0.853860\n",
       "                ...   \n",
       "zuschauer     0.990132\n",
       "zustimmen     0.990116\n",
       "zuvor         0.992872\n",
       "zven          0.903878\n",
       "zvp           0.880640\n",
       "zvt           0.877016\n",
       "zvz           0.847931\n",
       "zwar          0.983164\n",
       "zwarte        0.799348\n",
       "zwave         0.838027\n",
       "zwei          0.894492\n",
       "zweig         0.771829\n",
       "zweihander    0.853450\n",
       "zweite        0.977938\n",
       "zweiten       0.987891\n",
       "zwischen      0.982621\n",
       "zx            0.782171\n",
       "zygarde       0.862531\n",
       "zygons        0.882597\n",
       "zygote        0.830139\n",
       "zygotes       0.806143\n",
       "zyklon        0.849579\n",
       "zyori         0.850357\n",
       "zyra          0.872388\n",
       "zyrtec        0.870601\n",
       "zyzz          0.852289\n",
       "zz            0.712242\n",
       "zzrot         0.857501\n",
       "zztop         0.830001\n",
       "zzz           0.733444\n",
       "dtype: float64"
      ]
     },
     "execution_count": 16,
     "metadata": {},
     "output_type": "execute_result"
    }
   ],
   "source": [
    "avg_semantic_similarities"
   ]
  },
  {
   "cell_type": "code",
   "execution_count": 48,
   "metadata": {
    "collapsed": false
   },
   "outputs": [],
   "source": [
    "avg_semantic_similarities = avg_semantic_similarities.loc[all_vocab]"
   ]
  },
  {
   "cell_type": "code",
   "execution_count": 49,
   "metadata": {
    "collapsed": false
   },
   "outputs": [
    {
     "data": {
      "text/plain": [
       "False"
      ]
     },
     "execution_count": 49,
     "metadata": {},
     "output_type": "execute_result"
    }
   ],
   "source": [
    "'shouldn\\'t' in avg_semantic_similarities.index"
   ]
  },
  {
   "cell_type": "code",
   "execution_count": 50,
   "metadata": {
    "collapsed": false
   },
   "outputs": [
    {
     "data": {
      "text/plain": [
       "87236"
      ]
     },
     "execution_count": 50,
     "metadata": {},
     "output_type": "execute_result"
    }
   ],
   "source": [
    "len(avg_semantic_similarities)"
   ]
  },
  {
   "cell_type": "markdown",
   "metadata": {},
   "source": [
    "Let's visualize the distribution."
   ]
  },
  {
   "cell_type": "code",
   "execution_count": 18,
   "metadata": {
    "collapsed": false
   },
   "outputs": [
    {
     "data": {
      "image/png": "[encoded data removed]",
      "text/plain": [
       "<matplotlib.figure.Figure at 0x7fd7618e8ed0>"
      ]
     },
     "metadata": {},
     "output_type": "display_data"
    }
   ],
   "source": [
    "plt.figure(figsize=(5,5))\n",
    "plt.hist(avg_semantic_similarities)\n",
    "plt.show()"
   ]
  },
  {
   "cell_type": "markdown",
   "metadata": {},
   "source": [
    "So most words tend to be semantically similar to their neighbors. Makes sense!"
   ]
  },
  {
   "cell_type": "markdown",
   "metadata": {},
   "source": [
    "## Compute frequency deltas\n",
    "What exactly are we trying to predict? Success? \n",
    "\n",
    "Let's define success $s_{w}$ for word $w$ as a scalar based on normalized frequency $f_{t,w}$:\n",
    "\n",
    "$s_{w}=f_{w,12} - f_{w,0}$"
   ]
  },
  {
   "cell_type": "code",
   "execution_count": 57,
   "metadata": {
    "collapsed": true
   },
   "outputs": [],
   "source": [
    "all_dates = sorted(monthly_tf.columns)\n",
    "delta = monthly_tf[all_dates[-1]] - monthly_tf[all_dates[0]]"
   ]
  },
  {
   "cell_type": "code",
   "execution_count": 58,
   "metadata": {
    "collapsed": false
   },
   "outputs": [
    {
     "data": {
      "image/png": "[encoded data removed]",
      "text/plain": [
       "<matplotlib.figure.Figure at 0x7fd7686bee10>"
      ]
     },
     "metadata": {},
     "output_type": "display_data"
    }
   ],
   "source": [
    "plt.figure(figsize=(5,5))\n",
    "# nbins=20\n",
    "# plt.hist(success.values, bins=nbins)\n",
    "plt.boxplot(delta.values)\n",
    "plt.show()"
   ]
  },
  {
   "cell_type": "markdown",
   "metadata": {
    "collapsed": true
   },
   "source": [
    "So most words don't change a lot in frequency. What if we take out the zeros?"
   ]
  },
  {
   "cell_type": "code",
   "execution_count": 63,
   "metadata": {
    "collapsed": false
   },
   "outputs": [
    {
     "data": {
      "image/png": "[encoded data removed]",
      "text/plain": [
       "<matplotlib.figure.Figure at 0x7fd76845e950>"
      ]
     },
     "metadata": {},
     "output_type": "display_data"
    }
   ],
   "source": [
    "success = delta[delta > 0]\n",
    "plt.figure(figsize=(5,5))\n",
    "plt.boxplot(success.values)\n",
    "plt.yscale('log')\n",
    "plt.show()"
   ]
  },
  {
   "cell_type": "code",
   "execution_count": 64,
   "metadata": {
    "collapsed": false
   },
   "outputs": [
    {
     "name": "stdout",
     "output_type": "stream",
     "text": [
      "Index([u'removed', u'trump', u'hillary', u'bernie', u'please', u'clinton',\n",
      "       u'bot', u'automatically', u'questions', u'post',\n",
      "       ...\n",
      "       u'alloys', u'blanco', u'bombcast', u'prattle', u'elezen', u'undiluted',\n",
      "       u'cristian', u'philippe', u'glueing', u'gazpacho'],\n",
      "      dtype='object', length=40824)\n"
     ]
    }
   ],
   "source": [
    "success.sort_values(inplace=True, ascending=False)\n",
    "print(success.index)"
   ]
  },
  {
   "cell_type": "markdown",
   "metadata": {},
   "source": [
    "Again, only small deltas but they seem interesting!"
   ]
  },
  {
   "cell_type": "markdown",
   "metadata": {},
   "source": [
    "## Predict\n",
    "Start with just successes to keep things easy."
   ]
  },
  {
   "cell_type": "code",
   "execution_count": 88,
   "metadata": {
    "collapsed": true
   },
   "outputs": [],
   "source": [
    "y = pd.np.log10(success.values)\n",
    "x = [avg_semantic_similarities[w] for w in success.index]\n",
    "data = pd.DataFrame({'freq_delta' : y, 'semantic_sim' : x})"
   ]
  },
  {
   "cell_type": "code",
   "execution_count": 89,
   "metadata": {
    "collapsed": false
   },
   "outputs": [
    {
     "data": {
      "image/png": "[encoded data removed]",
      "text/plain": [
       "<matplotlib.figure.Figure at 0x7fd76097ba50>"
      ]
     },
     "metadata": {},
     "output_type": "display_data"
    }
   ],
   "source": [
    "# visualize first\n",
    "plt.figure(figsize=(5,5))\n",
    "sns.regplot('semantic_sim', 'freq_delta', data=data)\n",
    "plt.show()"
   ]
  },
  {
   "cell_type": "code",
   "execution_count": 90,
   "metadata": {
    "collapsed": false
   },
   "outputs": [
    {
     "name": "stdout",
     "output_type": "stream",
     "text": [
      "R2=-4.675E-02 (p=3.340E-21)\n"
     ]
    }
   ],
   "source": [
    "slope, intercept, rvalue, pvalue, stderr = linregress(x, y=y)\n",
    "print('R2=%.3E (p=%.3E)'%(rvalue, pvalue))"
   ]
  },
  {
   "cell_type": "markdown",
   "metadata": {},
   "source": [
    "The fit sucks! It's a very weak negative fit between semantic similarity and change in frequency: words with more similar neighbors tend to have a smaller frequency increase."
   ]
  },
  {
   "cell_type": "markdown",
   "metadata": {},
   "source": [
    "What about using all nonzero delta values?"
   ]
  },
  {
   "cell_type": "code",
   "execution_count": 87,
   "metadata": {
    "collapsed": false
   },
   "outputs": [
    {
     "data": {
      "image/png": "[encoded data removed]",
      "text/plain": [
       "<matplotlib.figure.Figure at 0x7fd75bb1add0>"
      ]
     },
     "metadata": {},
     "output_type": "display_data"
    },
    {
     "name": "stdout",
     "output_type": "stream",
     "text": [
      "R2=-9.575E-03 (p=4.682E-03)\n"
     ]
    }
   ],
   "source": [
    "y = delta\n",
    "x = [avg_semantic_similarities[w] for w in delta.index]\n",
    "data = pd.DataFrame({'freq_delta' : y, 'semantic_sim' : x})\n",
    "plt.figure(figsize=(5,5))\n",
    "sns.regplot('semantic_sim', 'freq_delta', data=data)\n",
    "plt.yscale('log')\n",
    "plt.show()\n",
    "slope, intercept, rvalue, pvalue, stderr = linregress(x, y=y)\n",
    "print('R2=%.3E (p=%.3E)'%(rvalue, pvalue))"
   ]
  },
  {
   "cell_type": "markdown",
   "metadata": {},
   "source": [
    "Fit is even worse. So we can be reasonably sure that semantic similarity to nearest neighbors doesn't accurately predict frequency change."
   ]
  },
  {
   "cell_type": "markdown",
   "metadata": {},
   "source": [
    "What if we define success as $Spearman(w)>0.5$? That way we only get words with consistent growth."
   ]
  },
  {
   "cell_type": "code",
   "execution_count": 95,
   "metadata": {
    "collapsed": false
   },
   "outputs": [
    {
     "data": {
      "text/html": [
       "<div>\n",
       "<table border=\"1\" class=\"dataframe\">\n",
       "  <thead>\n",
       "    <tr style=\"text-align: right;\">\n",
       "      <th></th>\n",
       "      <th>correl</th>\n",
       "      <th>pvalue</th>\n",
       "    </tr>\n",
       "  </thead>\n",
       "  <tbody>\n",
       "    <tr>\n",
       "      <th>discord</th>\n",
       "      <td>1.000000</td>\n",
       "      <td>0.000000e+00</td>\n",
       "    </tr>\n",
       "    <tr>\n",
       "      <th>rn</th>\n",
       "      <td>1.000000</td>\n",
       "      <td>0.000000e+00</td>\n",
       "    </tr>\n",
       "    <tr>\n",
       "      <th>feelsbadman</th>\n",
       "      <td>1.000000</td>\n",
       "      <td>0.000000e+00</td>\n",
       "    </tr>\n",
       "    <tr>\n",
       "      <th>kandidaten</th>\n",
       "      <td>1.000000</td>\n",
       "      <td>0.000000e+00</td>\n",
       "    </tr>\n",
       "    <tr>\n",
       "      <th>tbh</th>\n",
       "      <td>0.993007</td>\n",
       "      <td>1.301673e-10</td>\n",
       "    </tr>\n",
       "    <tr>\n",
       "      <th>cucked</th>\n",
       "      <td>0.993007</td>\n",
       "      <td>1.301673e-10</td>\n",
       "    </tr>\n",
       "    <tr>\n",
       "      <th>boku</th>\n",
       "      <td>0.993007</td>\n",
       "      <td>1.301673e-10</td>\n",
       "    </tr>\n",
       "    <tr>\n",
       "      <th>friendo</th>\n",
       "      <td>0.993007</td>\n",
       "      <td>1.301673e-10</td>\n",
       "    </tr>\n",
       "    <tr>\n",
       "      <th>berners</th>\n",
       "      <td>0.993007</td>\n",
       "      <td>1.301673e-10</td>\n",
       "    </tr>\n",
       "    <tr>\n",
       "      <th>doggo</th>\n",
       "      <td>0.993007</td>\n",
       "      <td>1.301673e-10</td>\n",
       "    </tr>\n",
       "    <tr>\n",
       "      <th>scanlan</th>\n",
       "      <td>0.993007</td>\n",
       "      <td>1.301673e-10</td>\n",
       "    </tr>\n",
       "    <tr>\n",
       "      <th>downticket</th>\n",
       "      <td>0.993007</td>\n",
       "      <td>1.301673e-10</td>\n",
       "    </tr>\n",
       "    <tr>\n",
       "      <th>berner</th>\n",
       "      <td>0.993007</td>\n",
       "      <td>1.301673e-10</td>\n",
       "    </tr>\n",
       "    <tr>\n",
       "      <th>sanches</th>\n",
       "      <td>0.993007</td>\n",
       "      <td>1.301673e-10</td>\n",
       "    </tr>\n",
       "    <tr>\n",
       "      <th>meirl</th>\n",
       "      <td>0.993007</td>\n",
       "      <td>1.301673e-10</td>\n",
       "    </tr>\n",
       "    <tr>\n",
       "      <th>ultraboosts</th>\n",
       "      <td>0.993007</td>\n",
       "      <td>1.301673e-10</td>\n",
       "    </tr>\n",
       "    <tr>\n",
       "      <th>dokkaned</th>\n",
       "      <td>0.992982</td>\n",
       "      <td>1.324698e-10</td>\n",
       "    </tr>\n",
       "    <tr>\n",
       "      <th>hillbots</th>\n",
       "      <td>0.992982</td>\n",
       "      <td>1.324698e-10</td>\n",
       "    </tr>\n",
       "    <tr>\n",
       "      <th>myreminders</th>\n",
       "      <td>0.991245</td>\n",
       "      <td>3.992044e-10</td>\n",
       "    </tr>\n",
       "    <tr>\n",
       "      <th>fam</th>\n",
       "      <td>0.986014</td>\n",
       "      <td>4.116896e-09</td>\n",
       "    </tr>\n",
       "  </tbody>\n",
       "</table>\n",
       "</div>"
      ],
      "text/plain": [
       "               correl        pvalue\n",
       "discord      1.000000  0.000000e+00\n",
       "rn           1.000000  0.000000e+00\n",
       "feelsbadman  1.000000  0.000000e+00\n",
       "kandidaten   1.000000  0.000000e+00\n",
       "tbh          0.993007  1.301673e-10\n",
       "cucked       0.993007  1.301673e-10\n",
       "boku         0.993007  1.301673e-10\n",
       "friendo      0.993007  1.301673e-10\n",
       "berners      0.993007  1.301673e-10\n",
       "doggo        0.993007  1.301673e-10\n",
       "scanlan      0.993007  1.301673e-10\n",
       "downticket   0.993007  1.301673e-10\n",
       "berner       0.993007  1.301673e-10\n",
       "sanches      0.993007  1.301673e-10\n",
       "meirl        0.993007  1.301673e-10\n",
       "ultraboosts  0.993007  1.301673e-10\n",
       "dokkaned     0.992982  1.324698e-10\n",
       "hillbots     0.992982  1.324698e-10\n",
       "myreminders  0.991245  3.992044e-10\n",
       "fam          0.986014  4.116896e-09"
      ]
     },
     "execution_count": 95,
     "metadata": {},
     "output_type": "execute_result"
    }
   ],
   "source": [
    "correls = pd.read_csv('../../data/frequency/2015_2016_norm_tf_correls.tsv', \n",
    "                      sep='\\t', index_col=0)\n",
    "correls.sort_values(['correl', 'pvalue'], ascending=False, inplace=True)\n",
    "correls.head(n=20)"
   ]
  },
  {
   "cell_type": "code",
   "execution_count": 105,
   "metadata": {
    "collapsed": false
   },
   "outputs": [],
   "source": [
    "min_thresh = 0.5\n",
    "p_val = 0.05\n",
    "success = correls[(correls['correl'] >= min_thresh) & (correls['pvalue'] < p_val)]\n",
    "success_vocab = list(set(all_vocab) & set(success.index))\n",
    "success = success.loc[success_vocab]"
   ]
  },
  {
   "cell_type": "code",
   "execution_count": 107,
   "metadata": {
    "collapsed": false
   },
   "outputs": [
    {
     "data": {
      "text/plain": [
       "correl    9.930070e-01\n",
       "pvalue    1.301673e-10\n",
       "Name: berner, dtype: float64"
      ]
     },
     "execution_count": 107,
     "metadata": {},
     "output_type": "execute_result"
    }
   ],
   "source": [
    "success.loc['berner']"
   ]
  },
  {
   "cell_type": "code",
   "execution_count": 108,
   "metadata": {
    "collapsed": false
   },
   "outputs": [
    {
     "data": {
      "image/png": "[encoded data removed]",
      "text/plain": [
       "<matplotlib.figure.Figure at 0x7fd767ac1510>"
      ]
     },
     "metadata": {},
     "output_type": "display_data"
    },
    {
     "name": "stdout",
     "output_type": "stream",
     "text": [
      "R2=8.805E-02 (p=1.278E-19)\n"
     ]
    }
   ],
   "source": [
    "y = success['correl']\n",
    "x = [avg_semantic_similarities[w] for w in success.index]\n",
    "data = pd.DataFrame({'spearman_r' : y, 'semantic_sim' : x})\n",
    "plt.figure(figsize=(5,5))\n",
    "sns.regplot('semantic_sim', 'spearman_r', data=data)\n",
    "plt.yscale('log')\n",
    "plt.show()\n",
    "slope, intercept, rvalue, pvalue, stderr = linregress(x, y=y)\n",
    "print('R2=%.3E (p=%.3E)'%(rvalue, pvalue))"
   ]
  },
  {
   "cell_type": "markdown",
   "metadata": {},
   "source": [
    "Slightly stronger correlation here, so semantic similarity can be tied more strongly to consistent growth (measured with $\\rho$). Maybe log-success will be better."
   ]
  },
  {
   "cell_type": "code",
   "execution_count": 109,
   "metadata": {
    "collapsed": false
   },
   "outputs": [
    {
     "data": {
      "image/png": "[encoded data removed]",
      "text/plain": [
       "<matplotlib.figure.Figure at 0x7fd7675bc390>"
      ]
     },
     "metadata": {},
     "output_type": "display_data"
    },
    {
     "name": "stdout",
     "output_type": "stream",
     "text": [
      "R2=8.657E-02 (p=5.108E-19)\n"
     ]
    }
   ],
   "source": [
    "y = pd.np.log10(success['correl'])\n",
    "x = [avg_semantic_similarities[w] for w in success.index]\n",
    "data = pd.DataFrame({'log(spearman_r)' : y, 'semantic_sim' : x})\n",
    "plt.figure(figsize=(5,5))\n",
    "sns.regplot('semantic_sim', 'log(spearman_r)', data=data)\n",
    "# plt.yscale('log')\n",
    "plt.show()\n",
    "slope, intercept, rvalue, pvalue, stderr = linregress(x, y=y)\n",
    "print('R2=%.3E (p=%.3E)'%(rvalue, pvalue))"
   ]
  },
  {
   "cell_type": "markdown",
   "metadata": {},
   "source": [
    "Slightly worse correlation, but we see here a big gap between 0.9 and 1.0 in $semantic_sim$ values. I guess nearest neighbors tend to be all very close to 1.0 or have a lot of variance."
   ]
  },
  {
   "cell_type": "markdown",
   "metadata": {},
   "source": [
    "## Nearest-neighbor semantic similarity\n",
    "TODO: Same tests as above but with $k=1$."
   ]
  },
  {
   "cell_type": "markdown",
   "metadata": {},
   "source": [
    "## Semantic similarity to most popular term\n",
    "Instead of semantic similarity to neighbors, why not measure semantic similarity to the most popular nearest neighbor? Mimicking prototype theory.\n",
    "\n",
    "What counts as \"popularity\"? Frequency at beginning of time, or over all time?"
   ]
  },
  {
   "cell_type": "code",
   "execution_count": 110,
   "metadata": {
    "collapsed": false
   },
   "outputs": [
    {
     "data": {
      "text/plain": [
       "fawn             1.045755e-06\n",
       "fawk             2.193183e-07\n",
       "redistributes    1.626512e-07\n",
       "deferment        4.443028e-07\n",
       "massdrop         2.230416e-06\n",
       "dtype: float64"
      ]
     },
     "execution_count": 110,
     "metadata": {},
     "output_type": "execute_result"
    }
   ],
   "source": [
    "mean_monthly_tf = monthly_tf.mean(axis=1)\n",
    "mean_monthly_tf.head()"
   ]
  },
  {
   "cell_type": "code",
   "execution_count": 121,
   "metadata": {
    "collapsed": false
   },
   "outputs": [
    {
     "name": "stdout",
     "output_type": "stream",
     "text": [
      "processed 0 words\n",
      "processed 1000 words\n",
      "processed 2000 words\n",
      "processed 3000 words\n",
      "processed 4000 words\n",
      "processed 5000 words\n",
      "processed 6000 words\n",
      "processed 7000 words\n",
      "processed 8000 words\n",
      "processed 9000 words\n",
      "processed 10000 words\n",
      "processed 11000 words\n",
      "processed 12000 words\n",
      "processed 13000 words\n",
      "processed 14000 words\n",
      "processed 15000 words\n",
      "processed 16000 words\n",
      "processed 17000 words\n",
      "processed 18000 words\n",
      "processed 19000 words\n",
      "processed 20000 words\n",
      "processed 21000 words\n",
      "processed 22000 words\n",
      "processed 23000 words\n",
      "processed 24000 words\n",
      "processed 25000 words\n",
      "processed 26000 words\n",
      "processed 27000 words\n",
      "processed 28000 words\n",
      "processed 29000 words\n",
      "processed 30000 words\n",
      "processed 31000 words\n",
      "processed 32000 words\n",
      "processed 33000 words\n",
      "processed 34000 words\n",
      "processed 35000 words\n",
      "processed 36000 words\n",
      "processed 37000 words\n",
      "processed 38000 words\n",
      "processed 39000 words\n",
      "processed 40000 words\n",
      "processed 41000 words\n",
      "processed 42000 words\n",
      "processed 43000 words\n",
      "processed 44000 words\n",
      "processed 45000 words\n",
      "processed 46000 words\n",
      "processed 47000 words\n",
      "processed 48000 words\n",
      "processed 49000 words\n",
      "processed 50000 words\n",
      "processed 51000 words\n",
      "processed 52000 words\n"
     ]
    },
    {
     "ename": "KeyError",
     "evalue": "'None of [[u\\'his\\', u\\'whom\\', u\"who\\'s\", u\\'who\\', u\\'their\\']] are in the [index]'",
     "output_type": "error",
     "traceback": [
      "\u001b[1;31m---------------------------------------------------------------------------\u001b[0m",
      "\u001b[1;31mKeyError\u001b[0m                                  Traceback (most recent call last)",
      "\u001b[1;32m<ipython-input-121-3b23bcea3de5>\u001b[0m in \u001b[0;36m<module>\u001b[1;34m()\u001b[0m\n\u001b[0;32m      7\u001b[0m \u001b[1;31m#           (v, str(neighbors)))\u001b[0m\u001b[1;33m\u001b[0m\u001b[1;33m\u001b[0m\u001b[0m\n\u001b[0;32m      8\u001b[0m     \u001b[1;31m# popularity = mean norm popularity\u001b[0m\u001b[1;33m\u001b[0m\u001b[1;33m\u001b[0m\u001b[0m\n\u001b[1;32m----> 9\u001b[1;33m     sorted_pops = mean_monthly_tf.loc[list(neighbors)].sort_values(ascending=False, \n\u001b[0m\u001b[0;32m     10\u001b[0m                                                                    inplace=False)\n\u001b[0;32m     11\u001b[0m \u001b[1;31m#     print('neighbor popularity %s'%(sorted_pops))\u001b[0m\u001b[1;33m\u001b[0m\u001b[1;33m\u001b[0m\u001b[0m\n",
      "\u001b[1;32m/usr/local/lib/python2.7/dist-packages/pandas/core/indexing.pyc\u001b[0m in \u001b[0;36m__getitem__\u001b[1;34m(self, key)\u001b[0m\n\u001b[0;32m   1309\u001b[0m             \u001b[1;32mreturn\u001b[0m \u001b[0mself\u001b[0m\u001b[1;33m.\u001b[0m\u001b[0m_getitem_tuple\u001b[0m\u001b[1;33m(\u001b[0m\u001b[0mkey\u001b[0m\u001b[1;33m)\u001b[0m\u001b[1;33m\u001b[0m\u001b[0m\n\u001b[0;32m   1310\u001b[0m         \u001b[1;32melse\u001b[0m\u001b[1;33m:\u001b[0m\u001b[1;33m\u001b[0m\u001b[0m\n\u001b[1;32m-> 1311\u001b[1;33m             \u001b[1;32mreturn\u001b[0m \u001b[0mself\u001b[0m\u001b[1;33m.\u001b[0m\u001b[0m_getitem_axis\u001b[0m\u001b[1;33m(\u001b[0m\u001b[0mkey\u001b[0m\u001b[1;33m,\u001b[0m \u001b[0maxis\u001b[0m\u001b[1;33m=\u001b[0m\u001b[1;36m0\u001b[0m\u001b[1;33m)\u001b[0m\u001b[1;33m\u001b[0m\u001b[0m\n\u001b[0m\u001b[0;32m   1312\u001b[0m \u001b[1;33m\u001b[0m\u001b[0m\n\u001b[0;32m   1313\u001b[0m     \u001b[1;32mdef\u001b[0m \u001b[0m_getitem_axis\u001b[0m\u001b[1;33m(\u001b[0m\u001b[0mself\u001b[0m\u001b[1;33m,\u001b[0m \u001b[0mkey\u001b[0m\u001b[1;33m,\u001b[0m \u001b[0maxis\u001b[0m\u001b[1;33m=\u001b[0m\u001b[1;36m0\u001b[0m\u001b[1;33m)\u001b[0m\u001b[1;33m:\u001b[0m\u001b[1;33m\u001b[0m\u001b[0m\n",
      "\u001b[1;32m/usr/local/lib/python2.7/dist-packages/pandas/core/indexing.pyc\u001b[0m in \u001b[0;36m_getitem_axis\u001b[1;34m(self, key, axis)\u001b[0m\n\u001b[0;32m   1469\u001b[0m                     \u001b[1;32mraise\u001b[0m \u001b[0mValueError\u001b[0m\u001b[1;33m(\u001b[0m\u001b[1;34m'Cannot index with multidimensional key'\u001b[0m\u001b[1;33m)\u001b[0m\u001b[1;33m\u001b[0m\u001b[0m\n\u001b[0;32m   1470\u001b[0m \u001b[1;33m\u001b[0m\u001b[0m\n\u001b[1;32m-> 1471\u001b[1;33m                 \u001b[1;32mreturn\u001b[0m \u001b[0mself\u001b[0m\u001b[1;33m.\u001b[0m\u001b[0m_getitem_iterable\u001b[0m\u001b[1;33m(\u001b[0m\u001b[0mkey\u001b[0m\u001b[1;33m,\u001b[0m \u001b[0maxis\u001b[0m\u001b[1;33m=\u001b[0m\u001b[0maxis\u001b[0m\u001b[1;33m)\u001b[0m\u001b[1;33m\u001b[0m\u001b[0m\n\u001b[0m\u001b[0;32m   1472\u001b[0m \u001b[1;33m\u001b[0m\u001b[0m\n\u001b[0;32m   1473\u001b[0m             \u001b[1;31m# nested tuple slicing\u001b[0m\u001b[1;33m\u001b[0m\u001b[1;33m\u001b[0m\u001b[0m\n",
      "\u001b[1;32m/usr/local/lib/python2.7/dist-packages/pandas/core/indexing.pyc\u001b[0m in \u001b[0;36m_getitem_iterable\u001b[1;34m(self, key, axis)\u001b[0m\n\u001b[0;32m   1033\u001b[0m     \u001b[1;32mdef\u001b[0m \u001b[0m_getitem_iterable\u001b[0m\u001b[1;33m(\u001b[0m\u001b[0mself\u001b[0m\u001b[1;33m,\u001b[0m \u001b[0mkey\u001b[0m\u001b[1;33m,\u001b[0m \u001b[0maxis\u001b[0m\u001b[1;33m=\u001b[0m\u001b[1;36m0\u001b[0m\u001b[1;33m)\u001b[0m\u001b[1;33m:\u001b[0m\u001b[1;33m\u001b[0m\u001b[0m\n\u001b[0;32m   1034\u001b[0m         \u001b[1;32mif\u001b[0m \u001b[0mself\u001b[0m\u001b[1;33m.\u001b[0m\u001b[0m_should_validate_iterable\u001b[0m\u001b[1;33m(\u001b[0m\u001b[0maxis\u001b[0m\u001b[1;33m)\u001b[0m\u001b[1;33m:\u001b[0m\u001b[1;33m\u001b[0m\u001b[0m\n\u001b[1;32m-> 1035\u001b[1;33m             \u001b[0mself\u001b[0m\u001b[1;33m.\u001b[0m\u001b[0m_has_valid_type\u001b[0m\u001b[1;33m(\u001b[0m\u001b[0mkey\u001b[0m\u001b[1;33m,\u001b[0m \u001b[0maxis\u001b[0m\u001b[1;33m)\u001b[0m\u001b[1;33m\u001b[0m\u001b[0m\n\u001b[0m\u001b[0;32m   1036\u001b[0m \u001b[1;33m\u001b[0m\u001b[0m\n\u001b[0;32m   1037\u001b[0m         \u001b[0mlabels\u001b[0m \u001b[1;33m=\u001b[0m \u001b[0mself\u001b[0m\u001b[1;33m.\u001b[0m\u001b[0mobj\u001b[0m\u001b[1;33m.\u001b[0m\u001b[0m_get_axis\u001b[0m\u001b[1;33m(\u001b[0m\u001b[0maxis\u001b[0m\u001b[1;33m)\u001b[0m\u001b[1;33m\u001b[0m\u001b[0m\n",
      "\u001b[1;32m/usr/local/lib/python2.7/dist-packages/pandas/core/indexing.pyc\u001b[0m in \u001b[0;36m_has_valid_type\u001b[1;34m(self, key, axis)\u001b[0m\n\u001b[0;32m   1392\u001b[0m \u001b[1;33m\u001b[0m\u001b[0m\n\u001b[0;32m   1393\u001b[0m                 raise KeyError(\"None of [%s] are in the [%s]\" %\n\u001b[1;32m-> 1394\u001b[1;33m                                (key, self.obj._get_axis_name(axis)))\n\u001b[0m\u001b[0;32m   1395\u001b[0m \u001b[1;33m\u001b[0m\u001b[0m\n\u001b[0;32m   1396\u001b[0m             \u001b[1;32mreturn\u001b[0m \u001b[0mTrue\u001b[0m\u001b[1;33m\u001b[0m\u001b[0m\n",
      "\u001b[1;31mKeyError\u001b[0m: 'None of [[u\\'his\\', u\\'whom\\', u\"who\\'s\", u\\'who\\', u\\'their\\']] are in the [index]'"
     ]
    }
   ],
   "source": [
    "prototype_semantic_similarities = {}\n",
    "for i, v in enumerate(all_vocab):\n",
    "    # find most popular nearest neighbor\n",
    "    top_sims = dict(embeddings.most_similar(v, topn=top_k))\n",
    "    neighbors, _ = zip(*top_sims.items())\n",
    "#     print('word %s got neighbors %s'%\n",
    "#           (v, str(neighbors)))\n",
    "    # popularity = mean norm popularity\n",
    "    sorted_pops = mean_monthly_tf.loc[list(neighbors)].sort_values(ascending=False, \n",
    "                                                                   inplace=False)\n",
    "#     print('neighbor popularity %s'%(sorted_pops))\n",
    "    prototype = sorted_pops.index[0]\n",
    "#     print('prototype %s has similarity %.3E (out of neighbors %s)'%\n",
    "#          (prototype, top_sims[prototype], top_sims))\n",
    "    prototype_sim = top_sims[prototype]\n",
    "    prototype_semantic_similarities[v] = prototype_sim\n",
    "    if(i % 1000 == 0):\n",
    "        print('processed %d words'%(i))"
   ]
  },
  {
   "cell_type": "markdown",
   "metadata": {},
   "source": [
    "Same tests as before, defining $success(w) = Spearman(w) > 0.5$."
   ]
  },
  {
   "cell_type": "code",
   "execution_count": null,
   "metadata": {
    "collapsed": true
   },
   "outputs": [],
   "source": [
    "min_thresh = 0.5\n",
    "p_val = 0.05\n",
    "success = correls[(correls['correl'] >= min_thresh) & (correls['pvalue'] < p_val)]\n",
    "success_vocab = list(set(all_vocab) & set(success.index))\n",
    "success = success.loc[success_vocab]\n",
    "y = success['correl']\n",
    "x = [avg_semantic_similarities[w] for w in success.index]\n",
    "data = pd.DataFrame({'spearman_r' : y, 'prototype_sim' : x})\n",
    "plt.figure(figsize=(5,5))\n",
    "sns.regplot('prototype_sim', 'spearman_r', data=data)\n",
    "plt.yscale('log')\n",
    "plt.show()\n",
    "slope, intercept, rvalue, pvalue, stderr = linregress(x, y=y)\n",
    "print('R2=%.3E (p=%.3E)'%(rvalue, pvalue))"
   ]
  }
 ],
 "metadata": {
  "kernelspec": {
   "display_name": "Python 2",
   "language": "python",
   "name": "python2"
  },
  "language_info": {
   "codemirror_mode": {
    "name": "ipython",
    "version": 2
   },
   "file_extension": ".py",
   "mimetype": "text/x-python",
   "name": "python",
   "nbconvert_exporter": "python",
   "pygments_lexer": "ipython2",
   "version": "2.7.6"
  }
 },
 "nbformat": 4,
 "nbformat_minor": 0
}
