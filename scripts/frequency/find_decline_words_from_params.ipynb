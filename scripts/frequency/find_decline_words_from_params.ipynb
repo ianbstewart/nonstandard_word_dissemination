{
 "cells": [
  {
   "cell_type": "markdown",
   "metadata": {},
   "source": [
    "# Find failed words from parameters\n",
    "In which we set a lower threshold for the \"failed\" condition using the parameters we've computed from the piecewise and logistic distribution fitting."
   ]
  },
  {
   "cell_type": "code",
   "execution_count": 1,
   "metadata": {
    "collapsed": false
   },
   "outputs": [],
   "source": [
    "import pandas as pd\n",
    "import matplotlib\n",
    "%matplotlib inline\n",
    "import matplotlib.pyplot as plt"
   ]
  },
  {
   "cell_type": "code",
   "execution_count": 2,
   "metadata": {
    "collapsed": true
   },
   "outputs": [],
   "source": [
    "# load frequency for sanity checks\n",
    "tf = pd.read_csv('../../data/frequency/2013_2016_tf_norm_log.tsv', sep='\\t', index_col=0)"
   ]
  },
  {
   "cell_type": "markdown",
   "metadata": {},
   "source": [
    "## Test discrete piecewise parameter optimization\n",
    "Something's off with the piecewise parameters...we should debug this."
   ]
  },
  {
   "cell_type": "code",
   "execution_count": 3,
   "metadata": {
    "collapsed": false
   },
   "outputs": [
    {
     "data": {
      "image/png": "[encoded data removed]",
      "text/plain": [
       "<matplotlib.figure.Figure at 0x7fe4589c8e10>"
      ]
     },
     "metadata": {},
     "output_type": "display_data"
    }
   ],
   "source": [
    "test_word = 'sorta'\n",
    "test_series = tf.loc[test_word, :]\n",
    "plt.plot(pd.np.arange(1,len(test_series)+1,1), test_series)\n",
    "plt.show()"
   ]
  },
  {
   "cell_type": "code",
   "execution_count": 4,
   "metadata": {
    "collapsed": false
   },
   "outputs": [
    {
     "name": "stdout",
     "output_type": "stream",
     "text": [
      "y1=9.042E-04*x + -4.868\n",
      "y2=-2.588E-03*x + -4.776\n",
      "R2=4.846E-01\n"
     ]
    }
   ],
   "source": [
    "from scipy.stats import linregress\n",
    "from sklearn.metrics import r2_score\n",
    "s = 25\n",
    "X = pd.np.arange(1, len(test_series)+1, 1)\n",
    "m1, b1, _, _, _ = linregress(X[:s], test_series[:s])\n",
    "m2, b2, _, _, _ = linregress(X[s:], test_series[s:])\n",
    "y1_pred = m1*X[:s] + b1\n",
    "y2_pred = m2*X[s:] + b2\n",
    "y_pred = pd.np.concatenate([y1_pred, y2_pred])\n",
    "r2 = r2_score(test_series, y_pred)\n",
    "print('y1=%.3E*x + %.3f'%(m1, b1))\n",
    "print('y2=%.3E*x + %.3f'%(m2, b2))\n",
    "print('R2=%.3E'%(r2))"
   ]
  },
  {
   "cell_type": "markdown",
   "metadata": {},
   "source": [
    "## Load data"
   ]
  },
  {
   "cell_type": "code",
   "execution_count": 5,
   "metadata": {
    "collapsed": false
   },
   "outputs": [
    {
     "name": "stdout",
     "output_type": "stream",
     "text": [
      "99963 valid series\n",
      "         t        m1        m2         b        R2\n",
      "just   3.0  0.000275 -0.000261 -2.266512  0.203569\n",
      "like  25.0  0.000195 -0.000272 -2.299323 -0.055207\n",
      "can    7.0  0.002810 -0.000260 -2.415319  0.496094\n",
      "one   27.0 -0.000517 -0.000142 -2.450930  0.824565\n",
      "get    4.0  0.002783 -0.000029 -2.469688  0.272360\n",
      "t     14.000000\n",
      "m1     0.001004\n",
      "m2    -0.000514\n",
      "b     -6.668942\n",
      "R2     0.327022\n",
      "dtype: float64\n"
     ]
    }
   ],
   "source": [
    "piecewise_params = pd.read_csv('../../data/frequency/2013_2016_tf_norm_log_2_piecewise_discrete.tsv', sep='\\t', index_col=0, header=0)\n",
    "N = 36\n",
    "piecewise_params_valid = piecewise_params[(piecewise_params.loc[:, 't'] > 0) & (piecewise_params.loc[:, 't'] < N)]\n",
    "print('%d valid series'%(piecewise_params_valid.shape[0]))\n",
    "print(piecewise_params_valid.head())\n",
    "print(piecewise_params_valid.median(axis=0))"
   ]
  },
  {
   "cell_type": "code",
   "execution_count": 6,
   "metadata": {
    "collapsed": false
   },
   "outputs": [
    {
     "name": "stdout",
     "output_type": "stream",
     "text": [
      "35558 piecewise candidates\n",
      "0.300181932618\n"
     ]
    },
    {
     "data": {
      "image/png": "[encoded data removed]",
      "text/plain": [
       "<matplotlib.figure.Figure at 0x7fe4589c8390>"
      ]
     },
     "metadata": {},
     "output_type": "display_data"
    }
   ],
   "source": [
    "piecewise_params_grow_decline = piecewise_params_valid[(piecewise_params_valid.loc[:, 'm1'] > 0) &\n",
    "                                                       (piecewise_params_valid.loc[:, 'm2'] < 0)]\n",
    "print('%d piecewise candidates'%(piecewise_params_grow_decline.shape[0]))\n",
    "print(pd.np.percentile(piecewise_params_grow_decline.loc[:, 'R2'], 50))\n",
    "plt.hist(piecewise_params_grow_decline.loc[:, 'R2'], 20)\n",
    "plt.show()"
   ]
  },
  {
   "cell_type": "code",
   "execution_count": 7,
   "metadata": {
    "collapsed": false
   },
   "outputs": [
    {
     "name": "stdout",
     "output_type": "stream",
     "text": [
      "t     27.000000\n",
      "m1     0.000976\n",
      "m2    -0.000634\n",
      "b     -4.867335\n",
      "R2     0.494155\n",
      "Name: sorta, dtype: float64\n"
     ]
    }
   ],
   "source": [
    "# sorta is buried too far down!! but how do we get it without compromising everything else?\n",
    "test_word = 'sorta'\n",
    "print(piecewise_params_valid.loc[test_word])"
   ]
  },
  {
   "cell_type": "code",
   "execution_count": 99,
   "metadata": {
    "collapsed": false
   },
   "outputs": [
    {
     "name": "stdout",
     "output_type": "stream",
     "text": [
      "0.817174529902\n",
      "1778 potential fail words\n"
     ]
    }
   ],
   "source": [
    "piecewise_params_fail = piecewise_params[(piecewise_params.loc[:, 'm1'] > 0) &\n",
    "                                         (piecewise_params.loc[:, 'm2'] < 0)]\n",
    "cutoff_pct = 95\n",
    "piecewise_r2_cutoff = pd.np.percentile(piecewise_params_fail.loc[:, 'R2'], cutoff_pct)\n",
    "print(piecewise_r2_cutoff)\n",
    "piecewise_params_fail = piecewise_params_fail[piecewise_params_fail.loc[:, 'R2'] >= piecewise_r2_cutoff]\n",
    "piecewise_params_fail.sort_values('R2', inplace=True, ascending=False)\n",
    "print('%d potential fail words'%(piecewise_params_fail.shape[0]))"
   ]
  },
  {
   "cell_type": "code",
   "execution_count": 100,
   "metadata": {
    "collapsed": false
   },
   "outputs": [
    {
     "name": "stdout",
     "output_type": "stream",
     "text": [
      "               t        m1        m2         b        R2\n",
      "keks        18.0  0.099356 -0.002392 -8.188397  0.985142\n",
      "csgolounge  10.0  0.349313 -0.003336 -9.494655  0.981867\n",
      "gofundme    23.0  0.067455 -0.001525 -7.459256  0.980533\n",
      "gfycat       7.0  0.534409 -0.014307 -9.327465  0.976068\n",
      "little       2.0  0.000032 -0.001832 -3.099887  0.974297\n",
      "memed       33.0  0.054024 -0.004735 -7.695905  0.974259\n",
      "judgmental   2.0  0.019845 -0.008085 -5.347350  0.971911\n",
      "gah          2.0  0.012871 -0.008269 -5.370777  0.971352\n",
      "terribly     4.0  0.002271 -0.003103 -4.707355  0.971133\n",
      "patreon     16.0  0.160791 -0.002747 -8.186165  0.970677\n",
      "itt          4.0  0.025387 -0.010817 -4.772015  0.968183\n",
      "rekts       18.0  0.128854 -0.002115 -9.076885  0.967398\n",
      "paging      30.0  0.019778 -0.001888 -5.975587  0.967266\n",
      "weebs       30.0  0.046330 -0.000584 -7.622069  0.966710\n",
      "skrub       13.0  0.107716 -0.013351 -7.862140  0.966240\n",
      "fdev        27.0  0.130393 -0.007904 -9.562193  0.965055\n",
      "leterally    6.0  0.017797 -0.032573 -6.881306  0.963820\n",
      "pogchamp    28.0  0.072960 -0.001226 -8.074368  0.963026\n",
      "defening     8.0  0.297696 -0.032084 -8.566960  0.962953\n",
      "sayin        2.0  0.003689 -0.006426 -5.387087  0.962907\n"
     ]
    }
   ],
   "source": [
    "print(piecewise_params_fail.head(20))"
   ]
  },
  {
   "cell_type": "code",
   "execution_count": 101,
   "metadata": {
    "collapsed": true
   },
   "outputs": [],
   "source": [
    "piecewise_fail_candidates = piecewise_params_fail.index.tolist()"
   ]
  },
  {
   "cell_type": "markdown",
   "metadata": {},
   "source": [
    "### Logistic"
   ]
  },
  {
   "cell_type": "code",
   "execution_count": 9,
   "metadata": {
    "collapsed": false
   },
   "outputs": [
    {
     "name": "stdout",
     "output_type": "stream",
     "text": [
      "99729 valid logistic candidates\n",
      "            loc     scale        R2\n",
      "just  15.004176  7.921824 -0.675196\n",
      "like  17.854175  7.871330 -0.581077\n",
      "can   17.355896  6.778966  0.255427\n",
      "one    8.869916  6.444788  0.512292\n",
      "get   18.705448  6.864276  0.208423\n"
     ]
    }
   ],
   "source": [
    "# same thing but with logistic\n",
    "logistic_params = pd.read_csv('../../data/frequency/2013_2016_tf_norm_logistic_params.tsv', sep='\\t', index_col=0)\n",
    "N = 36\n",
    "logistic_params_valid = logistic_params[(logistic_params.loc[:, 'loc'] > 0) &\n",
    "                                        (logistic_params.loc[:, 'loc'] < N)]\n",
    "print('%d valid logistic candidates'%(logistic_params_valid.shape[0]))\n",
    "print(logistic_params_valid.head())"
   ]
  },
  {
   "cell_type": "code",
   "execution_count": 10,
   "metadata": {
    "collapsed": false
   },
   "outputs": [
    {
     "name": "stdout",
     "output_type": "stream",
     "text": [
      "logistic R2 cutoff = 0.824\n",
      "998 valid logistic candidates\n",
      "              loc     scale        R2\n",
      "max     26.418651  5.068906  0.874237\n",
      "wrote    1.812639  2.062033  0.902602\n",
      "trump   32.123220  2.615133  0.900826\n",
      "hunter  24.363479  5.157777  0.828841\n",
      "bernie  30.968358  3.207631  0.885849\n"
     ]
    },
    {
     "name": "stderr",
     "output_type": "stream",
     "text": [
      "/usr/local/lib/python2.7/site-packages/ipykernel/__main__.py:4: UserWarning: Boolean Series key will be reindexed to match DataFrame index.\n"
     ]
    }
   ],
   "source": [
    "cutoff_pct = 99\n",
    "logistic_r2_cutoff = pd.np.percentile(logistic_params_valid.loc[:, 'R2'], cutoff_pct)\n",
    "print('logistic R2 cutoff = %.3f'%(logistic_r2_cutoff))\n",
    "logistic_params_fail = logistic_params_valid[logistic_params.loc[:, 'R2'] >= logistic_r2_cutoff]\n",
    "print('%d valid logistic candidates'%(logistic_params_fail.shape[0]))\n",
    "print(logistic_params_fail.head())"
   ]
  },
  {
   "cell_type": "code",
   "execution_count": 29,
   "metadata": {
    "collapsed": true
   },
   "outputs": [],
   "source": [
    "logistic_fail_candidates = logistic_params_fail.index.tolist()"
   ]
  },
  {
   "cell_type": "code",
   "execution_count": 151,
   "metadata": {
    "collapsed": false
   },
   "outputs": [
    {
     "data": {
      "image/png": "[encoded data removed]",
      "text/plain": [
       "<matplotlib.figure.Figure at 0x7f6d289846d0>"
      ]
     },
     "metadata": {},
     "output_type": "display_data"
    }
   ],
   "source": [
    "N = 36\n",
    "time_steps = range(0, N)\n",
    "test_word = 'coffeeshops'\n",
    "plt.plot(time_steps, tf.loc[test_word])\n",
    "plt.ylabel('frequency')\n",
    "plt.show()"
   ]
  },
  {
   "cell_type": "markdown",
   "metadata": {},
   "source": [
    "## Combine candidate lists"
   ]
  },
  {
   "cell_type": "code",
   "execution_count": 30,
   "metadata": {
    "collapsed": false
   },
   "outputs": [
    {
     "name": "stdout",
     "output_type": "stream",
     "text": [
      "1232 piecewise candidates\n",
      "998 logistic candidates\n",
      "2130 combined candidates\n"
     ]
    }
   ],
   "source": [
    "print('%d piecewise candidates'%(len(piecewise_fail_candidates)))\n",
    "print('%d logistic candidates'%(len(logistic_fail_candidates)))\n",
    "combined_fail_candidates = set(piecewise_fail_candidates) | set(logistic_fail_candidates)\n",
    "print('%d combined candidates'%(len(combined_fail_candidates)))"
   ]
  },
  {
   "cell_type": "code",
   "execution_count": 31,
   "metadata": {
    "collapsed": false
   },
   "outputs": [
    {
     "name": "stdout",
     "output_type": "stream",
     "text": [
      "aaaand\n",
      "aaaannnd\n",
      "aaayyy\n",
      "abathur\n",
      "abbrev\n",
      "abend\n",
      "aber\n",
      "acasis\n",
      "aciv\n",
      "acro\n"
     ]
    }
   ],
   "source": [
    "print('\\n'.join(sorted(combined_fail_candidates)[:10]))"
   ]
  },
  {
   "cell_type": "markdown",
   "metadata": {},
   "source": [
    "Let's write these to file and come back after we're done annotating."
   ]
  },
  {
   "cell_type": "code",
   "execution_count": 33,
   "metadata": {
    "collapsed": true
   },
   "outputs": [],
   "source": [
    "candidate_out_file = '../../data/frequency/word_lists/2013_2016_fail_candidate_list.tsv'\n",
    "with open(candidate_out_file, 'w') as candidate_out:\n",
    "    for c in sorted(combined_fail_candidates):\n",
    "        candidate_out.write('%s,\\n'%(c))"
   ]
  },
  {
   "cell_type": "markdown",
   "metadata": {},
   "source": [
    "Initial tests find that this method doesn't generate enough interesting piecewise stuff."
   ]
  },
  {
   "cell_type": "markdown",
   "metadata": {},
   "source": [
    "## Generate candidate scores"
   ]
  },
  {
   "cell_type": "code",
   "execution_count": 104,
   "metadata": {
    "collapsed": false
   },
   "outputs": [
    {
     "name": "stderr",
     "output_type": "stream",
     "text": [
      "/usr/local/lib/python2.7/site-packages/sklearn/preprocessing/data.py:586: DeprecationWarning: Passing 1d arrays as data is deprecated in 0.17 and will raise ValueError in 0.19. Reshape your data either using X.reshape(-1, 1) if your data has a single feature or X.reshape(1, -1) if it contains a single sample.\n",
      "  warnings.warn(DEPRECATION_MSG_1D, DeprecationWarning)\n",
      "/usr/local/lib/python2.7/site-packages/sklearn/preprocessing/data.py:649: DeprecationWarning: Passing 1d arrays as data is deprecated in 0.17 and will raise ValueError in 0.19. Reshape your data either using X.reshape(-1, 1) if your data has a single feature or X.reshape(1, -1) if it contains a single sample.\n",
      "  warnings.warn(DEPRECATION_MSG_1D, DeprecationWarning)\n"
     ]
    },
    {
     "data": {
      "text/html": [
       "<div>\n",
       "<style>\n",
       "    .dataframe thead tr:only-child th {\n",
       "        text-align: right;\n",
       "    }\n",
       "\n",
       "    .dataframe thead th {\n",
       "        text-align: left;\n",
       "    }\n",
       "\n",
       "    .dataframe tbody tr th {\n",
       "        vertical-align: top;\n",
       "    }\n",
       "</style>\n",
       "<table border=\"1\" class=\"dataframe\">\n",
       "  <thead>\n",
       "    <tr style=\"text-align: right;\">\n",
       "      <th></th>\n",
       "      <th>t</th>\n",
       "      <th>m1</th>\n",
       "      <th>m2</th>\n",
       "      <th>b</th>\n",
       "      <th>R2</th>\n",
       "      <th>score</th>\n",
       "    </tr>\n",
       "  </thead>\n",
       "  <tbody>\n",
       "    <tr>\n",
       "      <th>keks</th>\n",
       "      <td>18.0</td>\n",
       "      <td>0.099356</td>\n",
       "      <td>-0.002392</td>\n",
       "      <td>-8.188397</td>\n",
       "      <td>0.985142</td>\n",
       "      <td>3.860825</td>\n",
       "    </tr>\n",
       "    <tr>\n",
       "      <th>csgolounge</th>\n",
       "      <td>10.0</td>\n",
       "      <td>0.349313</td>\n",
       "      <td>-0.003336</td>\n",
       "      <td>-9.494655</td>\n",
       "      <td>0.981867</td>\n",
       "      <td>3.846172</td>\n",
       "    </tr>\n",
       "    <tr>\n",
       "      <th>gofundme</th>\n",
       "      <td>23.0</td>\n",
       "      <td>0.067455</td>\n",
       "      <td>-0.001525</td>\n",
       "      <td>-7.459256</td>\n",
       "      <td>0.980533</td>\n",
       "      <td>3.840201</td>\n",
       "    </tr>\n",
       "    <tr>\n",
       "      <th>gfycat</th>\n",
       "      <td>7.0</td>\n",
       "      <td>0.534409</td>\n",
       "      <td>-0.014307</td>\n",
       "      <td>-9.327465</td>\n",
       "      <td>0.976068</td>\n",
       "      <td>3.820220</td>\n",
       "    </tr>\n",
       "    <tr>\n",
       "      <th>little</th>\n",
       "      <td>2.0</td>\n",
       "      <td>0.000032</td>\n",
       "      <td>-0.001832</td>\n",
       "      <td>-3.099887</td>\n",
       "      <td>0.974297</td>\n",
       "      <td>3.812292</td>\n",
       "    </tr>\n",
       "  </tbody>\n",
       "</table>\n",
       "</div>"
      ],
      "text/plain": [
       "               t        m1        m2         b        R2     score\n",
       "keks        18.0  0.099356 -0.002392 -8.188397  0.985142  3.860825\n",
       "csgolounge  10.0  0.349313 -0.003336 -9.494655  0.981867  3.846172\n",
       "gofundme    23.0  0.067455 -0.001525 -7.459256  0.980533  3.840201\n",
       "gfycat       7.0  0.534409 -0.014307 -9.327465  0.976068  3.820220\n",
       "little       2.0  0.000032 -0.001832 -3.099887  0.974297  3.812292"
      ]
     },
     "execution_count": 104,
     "metadata": {},
     "output_type": "execute_result"
    }
   ],
   "source": [
    "from sklearn.preprocessing import StandardScaler\n",
    "scaler = StandardScaler()\n",
    "piecewise_params_scored = piecewise_params_valid.copy()\n",
    "piecewise_params_scored.loc[:, 'score'] = (piecewise_params_scored.loc[:, 'm1'].apply(lambda x: int(x>0))*\n",
    "                                           piecewise_params_scored.loc[:, 'm2'].apply(lambda x: int(x<0))*\n",
    "                                           piecewise_params_scored.loc[:, 'R2'])\n",
    "# piecewise_params_scored.loc[:, 'score'] = (piecewise_params_scored.loc[:, 'k1'].apply(lambda x: int(x>0))*\n",
    "#                                            piecewise_params_scored.loc[:, 'k2'].apply(lambda x: int(x<0))*\n",
    "#                                            piecewise_params_scored.loc[:, 'R2'])\n",
    "piecewise_params_scored.loc[:, 'score'] = scaler.fit_transform(piecewise_params_scored.loc[:, 'score'])\n",
    "piecewise_params_scored.sort_values('score', inplace=True, ascending=False)\n",
    "piecewise_params_scored.head()"
   ]
  },
  {
   "cell_type": "code",
   "execution_count": 105,
   "metadata": {
    "collapsed": false
   },
   "outputs": [
    {
     "data": {
      "image/png": "[encoded data removed]",
      "text/plain": [
       "<matplotlib.figure.Figure at 0x7f6d28a13a50>"
      ]
     },
     "metadata": {},
     "output_type": "display_data"
    }
   ],
   "source": [
    "plt.boxplot(piecewise_params_scored.loc[:, 'score'])\n",
    "plt.show()"
   ]
  },
  {
   "cell_type": "code",
   "execution_count": 106,
   "metadata": {
    "collapsed": false
   },
   "outputs": [
    {
     "data": {
      "image/png": "[encoded data removed]",
      "text/plain": [
       "<matplotlib.figure.Figure at 0x7f6d28a64150>"
      ]
     },
     "metadata": {},
     "output_type": "display_data"
    }
   ],
   "source": [
    "plt.hist(piecewise_params_scored.loc[:, 'score'], bins=100)\n",
    "plt.show()"
   ]
  },
  {
   "cell_type": "code",
   "execution_count": 107,
   "metadata": {
    "collapsed": false
   },
   "outputs": [
    {
     "name": "stdout",
     "output_type": "stream",
     "text": [
      "t        27.000000\n",
      "m1        0.000976\n",
      "m2       -0.000634\n",
      "b        -4.867335\n",
      "R2        0.494155\n",
      "score     1.663585\n",
      "Name: sorta, dtype: float64\n"
     ]
    }
   ],
   "source": [
    "test_word = 'sorta'\n",
    "print(piecewise_params_scored.loc[test_word])"
   ]
  },
  {
   "cell_type": "markdown",
   "metadata": {},
   "source": [
    "There we go! That could put `sorta` back on top."
   ]
  },
  {
   "cell_type": "code",
   "execution_count": 84,
   "metadata": {
    "collapsed": false
   },
   "outputs": [
    {
     "name": "stdout",
     "output_type": "stream",
     "text": [
      "0.374131439881\n",
      "43801\n"
     ]
    }
   ],
   "source": [
    "print(piecewise_params_valid.loc[:, 'R2'].median())\n",
    "print(len(piecewise_params_valid[piecewise_params_valid.loc[:, 'R2'] >= piecewise_params_valid.loc[:, 'R2'].median()]))"
   ]
  },
  {
   "cell_type": "code",
   "execution_count": 156,
   "metadata": {
    "collapsed": false
   },
   "outputs": [
    {
     "name": "stdout",
     "output_type": "stream",
     "text": [
      "1.06780337115\n",
      "0.361026707783\n",
      "14995 candidates discovered from score function\n",
      "15665 candidates total\n",
      "aaaah,aaaannd,aaaannnd,aaaannnddd,aaah,aaargh,aaaw,aadmi,aahh,aaj,aalewis,aam,aang,aap,aarons,aback,abarth,abathur,abbas,abbasid,abbott,abbrev,abd,abdullah,abend,aber,abhi,abkhazia,ablative,able,abm,abner,abnormally,abolisher,abomasnow,abot,abotu,abras,absently,absentmindedly,absol,absolument,absorb,absorbed,abstergo,abstractions,abv,abyssea,abysses,abzan,academic,academically,acadian,acara,acasis,accelerant,accelgor,accentuating,accept,acceptance,accepts,accessory,accidently,accolade,accommodating,accompanies,accustom,aced,aceh,acer,acestream,acetaminophen,acetyl,acf,acg\n"
     ]
    }
   ],
   "source": [
    "cutoff_pct = 85\n",
    "piecewise_cutoff_score = pd.np.percentile(piecewise_params_scored.loc[:, 'score'], cutoff_pct)\n",
    "print(piecewise_cutoff_score)\n",
    "piecewise_score = piecewise_params_scored[piecewise_params_scored.loc[:, 'score'] >= piecewise_cutoff_score]\n",
    "print(piecewise_score.loc[:, 'R2'].min())\n",
    "piecewise_scored_fail_candidates = piecewise_score.index.tolist()\n",
    "print('%d candidates discovered from score function'%(len(piecewise_scored_fail_candidates)))\n",
    "print('%d candidates total'%(len(set(piecewise_scored_fail_candidates) | set(logistic_fail_candidates))))\n",
    "print(','.join(sorted(piecewise_scored_fail_candidates)[:75]))"
   ]
  },
  {
   "cell_type": "code",
   "execution_count": 113,
   "metadata": {
    "collapsed": false
   },
   "outputs": [
    {
     "data": {
      "image/png": "[encoded data removed]",
      "text/plain": [
       "<matplotlib.figure.Figure at 0x7f6d2ae46710>"
      ]
     },
     "metadata": {},
     "output_type": "display_data"
    }
   ],
   "source": [
    "N = tf.shape[1]\n",
    "X = pd.np.arange(0,N,1)\n",
    "plt.plot(X, tf.loc['aced'])\n",
    "plt.show()"
   ]
  },
  {
   "cell_type": "markdown",
   "metadata": {},
   "source": [
    "Recombine candidates and write to new file."
   ]
  },
  {
   "cell_type": "code",
   "execution_count": 90,
   "metadata": {
    "collapsed": true
   },
   "outputs": [],
   "source": [
    "# old code\n",
    "# combined_score_fail_candidates = set(piecewise_scored_fail_candidates) | set(logistic_fail_candidates)\n",
    "# candidate_out_file = '../../data/frequency/word_lists/2013_2016_fail_scored_candidate_list.tsv'\n",
    "# with open(candidate_out_file, 'w') as candidate_out:\n",
    "#     for c in sorted(combined_score_fail_candidates):\n",
    "#         candidate_out.write('%s,\\n'%(c))"
   ]
  },
  {
   "cell_type": "code",
   "execution_count": 159,
   "metadata": {
    "collapsed": false
   },
   "outputs": [
    {
     "name": "stdout",
     "output_type": "stream",
     "text": [
      "5414 new candidates\n",
      "3744 old candidates\n",
      "               1\n",
      "gowipe         N\n",
      "addictiveness  N\n",
      "fawk           R\n",
      "userscripts    N\n",
      "holyrood       N\n",
      "15665 candidates\n"
     ]
    }
   ],
   "source": [
    "# this time, with data from piecewise discrete parameter fit\n",
    "candidate_file = '../../data/frequency/word_lists/2013_2016_fail_scored_candidate_list.tsv'\n",
    "old_candidate_data = pd.read_csv(candidate_file, \n",
    "                                 sep=',', index_col=0, header=None)\n",
    "new_candidates = sorted((set(piecewise_scored_fail_candidates) | set(logistic_fail_candidates)) - set(old_candidate_data.index.tolist()))\n",
    "old_candidates = set(old_candidate_data.index.tolist()) - (set(piecewise_scored_fail_candidates) | set(logistic_fail_candidates))\n",
    "overlap_candidates = (set(old_candidate_data.index.tolist()) & set(piecewise_scored_fail_candidates) | \n",
    "                      set(old_candidate_data.index.tolist()) & set(logistic_fail_candidates))\n",
    "print('%d new candidates'%(len(new_candidates)))\n",
    "print('%d old candidates'%(len(old_candidates)))\n",
    "new_candidate_data = old_candidate_data.loc[overlap_candidates]\n",
    "new_candidate_data = new_candidate_data.append(pd.DataFrame(['?']*len(new_candidates), index=new_candidates, columns=[1]))\n",
    "print(new_candidate_data.head())\n",
    "print('%d candidates'%(new_candidate_data.shape[0]))\n",
    "# write to file...again\n",
    "new_candidate_file = '../../data/frequency/word_lists/2013_2016_fail_scored_candidate_list_2.csv'\n",
    "new_candidate_data.to_csv(new_candidate_file, sep=',', header=False)"
   ]
  },
  {
   "cell_type": "code",
   "execution_count": null,
   "metadata": {
    "collapsed": true
   },
   "outputs": [],
   "source": []
  }
 ],
 "metadata": {
  "kernelspec": {
   "display_name": "Python 2",
   "language": "python",
   "name": "python2"
  },
  "language_info": {
   "codemirror_mode": {
    "name": "ipython",
    "version": 2
   },
   "file_extension": ".py",
   "mimetype": "text/x-python",
   "name": "python",
   "nbconvert_exporter": "python",
   "pygments_lexer": "ipython2",
   "version": "2.7.10"
  }
 },
 "nbformat": 4,
 "nbformat_minor": 0
}
