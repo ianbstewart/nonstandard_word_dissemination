{
 "cells": [
  {
   "cell_type": "markdown",
   "metadata": {},
   "source": [
    "# Growth word neighbor frequency\n",
    "In which we test if growth words have different relative neighbor frequencies as compared to non-growth words."
   ]
  },
  {
   "cell_type": "code",
   "execution_count": 4,
   "metadata": {
    "collapsed": true
   },
   "outputs": [],
   "source": [
    "import pandas as pd\n",
    "import matplotlib\n",
    "%matplotlib inline\n",
    "import matplotlib.pyplot as plt\n",
    "from gensim.models import Word2Vec"
   ]
  },
  {
   "cell_type": "markdown",
   "metadata": {},
   "source": [
    "## Load data"
   ]
  },
  {
   "cell_type": "code",
   "execution_count": 3,
   "metadata": {
    "collapsed": false
   },
   "outputs": [],
   "source": [
    "tf_2015_2016 = pd.read_csv('../../data/frequency/2015_2016_tf_norm.tsv', sep='\\t', index_col=0)"
   ]
  },
  {
   "cell_type": "code",
   "execution_count": 44,
   "metadata": {
    "collapsed": false
   },
   "outputs": [],
   "source": [
    "struc_embeddings_2016_05 = Word2Vec.load_word2vec_format('../../data/embeddings/2016-05_wang2vec_100_5_embeddings', binary=True)\n",
    "struc_embeddings_2016_05_vocab = set(struc_embeddings_2016_05.vocab.keys())"
   ]
  },
  {
   "cell_type": "markdown",
   "metadata": {},
   "source": [
    "## Neighbor frequency"
   ]
  },
  {
   "cell_type": "code",
   "execution_count": 57,
   "metadata": {
    "collapsed": false
   },
   "outputs": [
    {
     "name": "stdout",
     "output_type": "stream",
     "text": [
      "af,airburst,altspace,antifa,asf,astroturfers,atm,baity,berner,berners,berniebot,berniebots,berning,bernout,bernouts,biebs,birther,boi,boop,booped,bork,botters,bourgeoisie,boutta,bricking,bullshittery,bussy,cammer,choreo,chummy,clickbaity,collabs,comeup,credentialed,cringefest,cringeworthy,cringey,cringiest,cringy,critchance,crossplay,crybullies,cuck,cucked,cuckhold,cucking,cuckold,cuckolds,cucks,cuckservative,cuckservatives,cummies,cummy,daaamn,dabbed,dabbing,damnn,datapoints,deadass,debuffing,decarbed,decrypting,defo,destress,dgaf,dicked,diffs,doggo,doggos,dogshit,dogwhistle,droprates,drumpf,dumpstered,dutchies,dutchy,earworm,edgelord,edgey,edgy,fam,fanarts,firming,floof,floofy,flopped,flowey,flowy,flubbing,fml,forgetti,friendo,fsils,fucc,fuck,fuckbois,fuckery,fucko,fucky,fuckyou,funtime,gangbanged,gfriend,ghosted,ghosting,gope,gopers,gotchu,grinded,grinding,gtfoh,gurl,habibi,hapa,hapas,headcannon,headcanon,hella,hellscape,hilldawg,hilldog,hitlery,hmu,huffpo,huffpost,huuuge,hypebeasts,hyperfocus,illiberal,imao,incels,instakilled,insufflated,jfc,killary,killcam,killcams,lesbos,lit,lmao,lmfaoo,lmfaooo,loosies,lowkey,lvling,mansplaining,meirl,memed,memeing,memelord,memery,memester,millenial,millenials,mils,mlem,modpost,mollys,mooks,moslem,muling,multiversal,murdery,murked,muzzies,naded,neet,nonbinary,nonstarter,nooch,nutted,ofc,opioids,overbought,oversharing,overstuffed,pasting,pdq,peekers,perf,platinumed,playspace,pourover,preciate,prodrug,proletariat,psychs,pupper,puppers,purps,pussys,quippy,ragequitting,randos,recked,regressive,regressives,rehosted,repub,respeck,respek,resubmit,retweeted,reupload,rn,rt,safespace,sandernista,sandernistas,sandinista,sandinistas,savagery,savescum,savescumming,scaremongering,schizoid,screencapping,scumming,sekrit,sexting,shadiness,shambolic,shillary,shilled,shilling,shills,shitbot,shitfest,shitlord,shitlords,shitpost,shitposter,shitsauce,shitshow,shitshows,shotted,shotting,shtick,sideload,sideloading,smd,smdh,smh,smol,smthing,snakey,snarking,snoot,spammer,squaddie,stanning,stickied,suicider,superthread,supps,swifties,swingy,tankie,tankier,tankies,tbf,tbh,tbis,tbqh,thta,tiering,tldw,tmw,toot,transness,trappy,triggered,tronald,tropey,trumper,trumpers,trynna,tsawww,twink,undercosted,unfuck,unfuckable,unfucked,unkillable,unlistenable,unstickied,unsticky,untagged,untruth,unwatchable,unwearable,veterancy,viewbotting,vlogging,voluntarism,waddup,walkies,webcast,weeb,wehraboo,wehraboos,wfh,whaddup,whelmed,whitesplaining,wht,wonk,wonks,words,wowie,wth,wubs,wutface,xans,yaas,yas,yasss,yday,yknow,yolos,youtubers,yt,yuge,yuuuge,zuck\n"
     ]
    }
   ],
   "source": [
    "growth_words_2015_2016 = pd.read_csv('../../data/frequency/growth_words/2015_2016_growth_word_categories_ratio.csv', \n",
    "                          index_col=None, header=None)\n",
    "growth_words_2015_2016 = sorted(reduce(lambda x,y: x+y, growth_words_2015_2016[1].apply(lambda x: str(x).split('/'))))\n",
    "print(','.join(growth_words_2015_2016))"
   ]
  },
  {
   "cell_type": "markdown",
   "metadata": {},
   "source": [
    "Get growth word neighbors.\n",
    "\n",
    "TODO: should neighbors not be growth words?? Otherwise it's an easy prediction problem??"
   ]
  },
  {
   "cell_type": "code",
   "execution_count": 58,
   "metadata": {
    "collapsed": false
   },
   "outputs": [
    {
     "name": "stdout",
     "output_type": "stream",
     "text": [
      "318\n"
     ]
    }
   ],
   "source": [
    "top_k = 10\n",
    "embedding_growth_words = list(set(growth_words_2015_2016) & struc_embeddings_2016_05_vocab)\n",
    "print(len(embedding_growth_words))\n",
    "growth_word_neighbor_pairs = {w : struc_embeddings_2016_05.most_similar(w, topn=top_k) for w in embedding_growth_words}\n",
    "growth_word_neighbors = {w : list(zip(*ns)[0]) for w,ns in growth_word_neighbor_pairs.iteritems()}"
   ]
  },
  {
   "cell_type": "code",
   "execution_count": 231,
   "metadata": {
    "collapsed": false
   },
   "outputs": [
    {
     "name": "stdout",
     "output_type": "stream",
     "text": [
      "af,airburst,altspace,antifa,asf,astroturfers,atm,baity,berner,berners,berniebot,berniebots,berning,bernout,biebs,birther,boi,boop,booped,bork,botters,bourgeoisie,boutta,bricking,bullshittery,bussy,cammer,choreo,chummy,clickbaity,collabs,comeup,credentialed,cringefest,cringeworthy,cringey,cringiest,cringy,critchance,crossplay,crybullies,cuck,cucked,cuckhold,cucking,cuckold,cuckolds,cucks,cuckservative,cuckservatives,cummies,cummy,daaamn,dabbed,dabbing,damnn,datapoints,deadass,debuffing,decarbed,decrypting,defo,destress,dgaf,dicked,diffs,doggo,dogshit,dogwhistle,droprates,drumpf,dumpstered,dutchies,dutchy,earworm,edgelord,edgey,edgy,fam,fanarts,firming,floof,floofy,flopped,flowey,flowy,flubbing,fml,forgetti,friendo,fucc,fuck,fuckbois,fuckery,fucko,fucky,fuckyou,funtime,gangbanged,gfriend,ghosted,ghosting,gope,gopers,gotchu,grinded,grinding,gtfoh,gurl,habibi,hapa,hapas,headcannon,headcanon,hella,hellscape,hilldawg,hilldog,hitlery,hmu,huffpo,huffpost,huuuge,hypebeasts,hyperfocus,illiberal,imao,incels,instakilled,insufflated,jfc,killary,killcam,killcams,lesbos,lit,lmao,lmfaoo,lmfaooo,loosies,lowkey,lvling,mansplaining,meirl,memed,memeing,memelord,memery,memester,millenial,millenials,mils,mlem,modpost,mollys,mooks,moslem,muling,multiversal,murdery,murked,muzzies,naded,neet,nonbinary,nonstarter,nooch,nutted,ofc,opioids,overbought,oversharing,overstuffed,pasting,pdq,peekers,perf,platinumed,playspace,pourover,preciate,prodrug,proletariat,psychs,pupper,puppers,purps,pussys,quippy,ragequitting,randos,recked,regressive,regressives,rehosted,repub,respeck,respek,resubmit,retweeted,reupload,rn,rt,safespace,sandernistas,sandinistas,savagery,savescum,savescumming,scaremongering,schizoid,screencapping,scumming,sekrit,sexting,shadiness,shambolic,shillary,shilled,shilling,shills,shitbot,shitfest,shitlord,shitlords,shitpost,shitposter,shitsauce,shitshow,shitshows,shotted,shotting,shtick,sideload,sideloading,smd,smdh,smh,smol,smthing,snakey,snarking,snoot,spammer,squaddie,stanning,stickied,suicider,superthread,supps,swifties,swingy,tankie,tankier,tankies,tbf,tbh,tbis,tbqh,thta,tiering,tldw,tmw,toot,transness,trappy,triggered,tronald,tropey,trumpers,trynna,twink,undercosted,unfuck,unfuckable,unfucked,unkillable,unlistenable,unstickied,unsticky,untagged,untruth,unwatchable,unwearable,veterancy,viewbotting,vlogging,voluntarism,waddup,walkies,webcast,weeb,wehraboo,wehraboos,wfh,whaddup,whelmed,whitesplaining,wht,wonk,wonks,words,wowie,wth,wubs,wutface,xans,yaas,yas,yasss,yday,yknow,yolos,youtubers,yt,yuge,yuuuge,zuck\n"
     ]
    }
   ],
   "source": [
    "embedding_growth_words = sorted(embedding_growth_words)\n",
    "print(','.join(embedding_growth_words))"
   ]
  },
  {
   "cell_type": "code",
   "execution_count": 60,
   "metadata": {
    "collapsed": false
   },
   "outputs": [
    {
     "data": {
      "text/plain": [
       "[u'asf',\n",
       " u'azz',\n",
       " u'mofo',\n",
       " u'enuff',\n",
       " u'mofos',\n",
       " u'dood',\n",
       " u'ass',\n",
       " u'fck',\n",
       " u'shittt',\n",
       " u'fuckk']"
      ]
     },
     "execution_count": 60,
     "metadata": {},
     "output_type": "execute_result"
    }
   ],
   "source": [
    "growth_word_neighbors['af']"
   ]
  },
  {
   "cell_type": "markdown",
   "metadata": {},
   "source": [
    "Plot all growth word trajectories just for sanity."
   ]
  },
  {
   "cell_type": "code",
   "execution_count": 239,
   "metadata": {
    "collapsed": false
   },
   "outputs": [
    {
     "data": {
      "text/plain": [
       "<matplotlib.figure.Figure at 0x7fead4d422d0>"
      ]
     },
     "metadata": {},
     "output_type": "display_data"
    },
    {
     "data": {
      "image/png": "[encoded data removed]",
      "text/plain": [
       "<matplotlib.figure.Figure at 0x7fead138cf90>"
      ]
     },
     "metadata": {},
     "output_type": "display_data"
    }
   ],
   "source": [
    "N = len(embedding_growth_words)\n",
    "cols = 5\n",
    "rows = int(N / cols) + 1\n",
    "size = 4\n",
    "plt.figure(figsize=(cols * size, rows * size))\n",
    "X = range(tf_2015_2016_smooth.shape[1])\n",
    "x_labels = sorted(tf_2015_2016.columns)\n",
    "x_ticks, x_labels = zip(*zip(X, x_labels)[::4])\n",
    "f, axarr = plt.subplots(rows, cols)\n",
    "for r in range(rows):\n",
    "    for c in range(cols):\n",
    "        ax = axarr[r,c]\n",
    "        ax.plot(X, tf_2015_2016_smooth.loc[g], 'r-')\n",
    "        ax.set_title(g)\n",
    "        ax.set_xticks(x_ticks, x_labels)\n",
    "f.subplots_adjust(hspace=0.3)\n",
    "plt.show()\n",
    "# for i, g in enumerate(embedding_growth_words):\n",
    "#     plt.subplot(rows, cols, i+1)\n",
    "# plt.tight_layout()\n",
    "# plt.show()"
   ]
  },
  {
   "cell_type": "markdown",
   "metadata": {},
   "source": [
    "## Test correlation between growth word frequencies and neighbor frequencies\n",
    "Correlation first because that's easier."
   ]
  },
  {
   "cell_type": "code",
   "execution_count": 207,
   "metadata": {
    "collapsed": true
   },
   "outputs": [],
   "source": [
    "from scipy.stats import spearmanr"
   ]
  },
  {
   "cell_type": "code",
   "execution_count": null,
   "metadata": {
    "collapsed": false,
    "scrolled": true
   },
   "outputs": [],
   "source": [
    "top_k = 25\n",
    "p_thresh = 0.05\n",
    "all_valid_correls = {}\n",
    "struc_embeddings_2015_06 = Word2Vec.load_word2vec_format('../../data/embeddings/2015-06_wang2vec_100_5_embeddings', binary=True)\n",
    "for i, g in enumerate(growth_words):\n",
    "    g_tf = tf_2015_2016.loc[g]\n",
    "    neighbor_pairs = struc_embeddings_2015_06.most_similar(g, topn=top_k)\n",
    "#     print('got neighbor pairs %s'%(neighbor_pairs))\n",
    "    neighbors, sims = zip(*neighbor_pairs)\n",
    "    correl_pval_pairs = [(n, spearmanr(g_tf, tf_2015_2016.loc[n])) for n in neighbors if n in tf_2015_2016.index]\n",
    "    valid_correls = [(n, r, p) for n,(r,p) in correl_pval_pairs if p < p_thresh]\n",
    "    all_valid_correls[g] = valid_correls\n",
    "    if(i % 10 == 0):\n",
    "        print(i)"
   ]
  },
  {
   "cell_type": "code",
   "execution_count": 206,
   "metadata": {
    "collapsed": false
   },
   "outputs": [
    {
     "name": "stdout",
     "output_type": "stream",
     "text": [
      "af\n"
     ]
    },
    {
     "ename": "NameError",
     "evalue": "name 'all_valid_correls' is not defined",
     "output_type": "error",
     "traceback": [
      "\u001b[1;31m---------------------------------------------------------------------------\u001b[0m",
      "\u001b[1;31mNameError\u001b[0m                                 Traceback (most recent call last)",
      "\u001b[1;32m<ipython-input-206-7d11f9fbbd7d>\u001b[0m in \u001b[0;36m<module>\u001b[1;34m()\u001b[0m\n\u001b[0;32m      2\u001b[0m \u001b[1;32mfor\u001b[0m \u001b[0mw\u001b[0m \u001b[1;32min\u001b[0m \u001b[0mtest_words\u001b[0m\u001b[1;33m:\u001b[0m\u001b[1;33m\u001b[0m\u001b[0m\n\u001b[0;32m      3\u001b[0m     \u001b[1;32mprint\u001b[0m\u001b[1;33m(\u001b[0m\u001b[0mw\u001b[0m\u001b[1;33m)\u001b[0m\u001b[1;33m\u001b[0m\u001b[0m\n\u001b[1;32m----> 4\u001b[1;33m     \u001b[1;32mprint\u001b[0m\u001b[1;33m(\u001b[0m\u001b[0mall_valid_correls\u001b[0m\u001b[1;33m[\u001b[0m\u001b[0mw\u001b[0m\u001b[1;33m]\u001b[0m\u001b[1;33m)\u001b[0m\u001b[1;33m\u001b[0m\u001b[0m\n\u001b[0m",
      "\u001b[1;31mNameError\u001b[0m: name 'all_valid_correls' is not defined"
     ]
    }
   ],
   "source": [
    "test_words = ['af', 'ghosting', 'cuck', 'tbh']\n",
    "for w in test_words:\n",
    "    print(w)\n",
    "    print(all_valid_correls[w])"
   ]
  },
  {
   "cell_type": "code",
   "execution_count": 248,
   "metadata": {
    "collapsed": false
   },
   "outputs": [
    {
     "data": {
      "image/png": "[encoded data removed]",
      "text/plain": [
       "<matplotlib.figure.Figure at 0x7feafc31a2d0>"
      ]
     },
     "metadata": {},
     "output_type": "display_data"
    }
   ],
   "source": [
    "test_words = ['af', 'ghosting', 'cuck', 'tbh']\n",
    "matches = ['niggah', 'strobing', 'feminazi', 'ehh']\n",
    "X = range(tf_2015_2016.shape[1])\n",
    "x_labels = sorted(tf_2015_2016.columns)\n",
    "x_ticks, x_labels = zip(*zip(X, x_labels)[::4])\n",
    "cols = 4\n",
    "rows = int(len(test_words) / cols)\n",
    "size = 4\n",
    "plt.figure(figsize=(cols * size, rows * size))\n",
    "for i, (w, m) in enumerate(zip(test_words, matches)):\n",
    "    plt.subplot(rows, cols, i+1)\n",
    "    plt.plot(X, tf_2015_2016.loc[w], 'r-', label=w)\n",
    "    plt.plot(X, tf_2015_2016.loc[m], 'b-.', label=m)\n",
    "    plt.legend(loc='upper right')\n",
    "    plt.yscale('log')\n",
    "    correl = [c for m1, c, _ in all_valid_correls[w] if m1 == m][0]\n",
    "    plt.annotate('Spearman=%.3f'%(correl), xy=(0.1, 0.1), xycoords='figure fraction')\n",
    "plt.tight_layout()\n",
    "plt.show()"
   ]
  },
  {
   "cell_type": "markdown",
   "metadata": {},
   "source": [
    "Prove that these correlations are more common among neighbors than among randomly-paired words (with similar neighbor frequency?"
   ]
  },
  {
   "cell_type": "code",
   "execution_count": null,
   "metadata": {
    "collapsed": true
   },
   "outputs": [],
   "source": []
  },
  {
   "cell_type": "markdown",
   "metadata": {},
   "source": [
    "Also plot neighbor frequencies vs. log delta frequency (similar to Altmann et al. dissemination graphs) for all words b/c I hate myself."
   ]
  },
  {
   "cell_type": "code",
   "execution_count": null,
   "metadata": {
    "collapsed": true
   },
   "outputs": [],
   "source": []
  },
  {
   "cell_type": "markdown",
   "metadata": {},
   "source": [
    "Plot "
   ]
  },
  {
   "cell_type": "markdown",
   "metadata": {},
   "source": [
    "Do words with more social diffusion tend to displace fewer of their neighbors?"
   ]
  },
  {
   "cell_type": "markdown",
   "metadata": {},
   "source": [
    "## Match words on initial frequency"
   ]
  },
  {
   "cell_type": "markdown",
   "metadata": {},
   "source": [
    "Match each growth word with a non-growth word that has a similar initial frequency."
   ]
  },
  {
   "cell_type": "code",
   "execution_count": null,
   "metadata": {
    "collapsed": true
   },
   "outputs": [],
   "source": [
    "tf_2015_2016_correls = pd.read_csv('../../data/frequency/2015_2016_tf_norm_correls.tsv', sep='\\t', index_col=0)"
   ]
  },
  {
   "cell_type": "code",
   "execution_count": null,
   "metadata": {
    "collapsed": false,
    "scrolled": true
   },
   "outputs": [],
   "source": [
    "growth_word_matches = []\n",
    "non_growth_vocab = struc_embeddings_2016_05_vocab - set(embedding_growth_words)\n",
    "# TODO: also ensure that vocab is non-growth i.e. non-topical\n",
    "tf_2015_2016_non_growth = tf_2015_2016.ix[non_growth_vocab, 0]\n",
    "for i, w in enumerate(embedding_growth_words):\n",
    "    match = abs(tf_2015_2016_non_growth - tf_2015_2016.ix[w, 0]).argmin()\n",
    "    growth_word_matches.append(match)\n",
    "    if(i % 50 == 0):\n",
    "        print('%d matches'%(i))"
   ]
  },
  {
   "cell_type": "code",
   "execution_count": 99,
   "metadata": {
    "collapsed": false
   },
   "outputs": [
    {
     "data": {
      "image/png": "[encoded data removed]",
      "text/plain": [
       "<matplotlib.figure.Figure at 0x7febaf1c6d10>"
      ]
     },
     "metadata": {},
     "output_type": "display_data"
    }
   ],
   "source": [
    "# plot example growth word and match\n",
    "w = embedding_growth_words[2]\n",
    "m = growth_word_matches[2]\n",
    "X = range(tf_2015_2016.shape[1])\n",
    "plt.figure(figsize=(5,5))\n",
    "plt.plot(X, tf_2015_2016.loc[w], 'r-.', label=w)\n",
    "plt.plot(X, tf_2015_2016.loc[m], 'b-', label=m)\n",
    "plt.legend(loc='upper left')\n",
    "plt.show()"
   ]
  },
  {
   "cell_type": "code",
   "execution_count": 151,
   "metadata": {
    "collapsed": false
   },
   "outputs": [
    {
     "data": {
      "image/png": "[encoded data removed]",
      "text/plain": [
       "<matplotlib.figure.Figure at 0x7febae860f50>"
      ]
     },
     "metadata": {},
     "output_type": "display_data"
    }
   ],
   "source": [
    "# example cringy plot\n",
    "w = 'cringy'\n",
    "pair_words = ['unfunny', 'cringeworthy', 'corny']\n",
    "all_dates = sorted(tf_2015_2016.columns)\n",
    "x_pos = range(1, len(all_dates)+1)\n",
    "x_ticks, x_labels = zip(*(zip(x_pos, all_dates)[::4]))\n",
    "plt.figure(figsize=(len(pair_words) * 5, 5))\n",
    "for i, p in enumerate(pair_words):\n",
    "    plt.subplot(1, len(pair_words), i+1)\n",
    "    plt.plot(x_pos, tf_2015_2016.loc[w], 'b-', label=w)\n",
    "    plt.plot(x_pos, tf_2015_2016.loc[p], 'r-.', label=p)\n",
    "    plt.title('%s vs. %s'%(w, p))\n",
    "    plt.xlabel('Time')\n",
    "    plt.ylabel('Frequency')\n",
    "    plt.legend(loc='lower right')\n",
    "    plt.xticks(x_ticks, x_labels)\n",
    "    plt.ylim((3e-6, 6e-6))\n",
    "plt.tight_layout()\n",
    "plt.show()"
   ]
  },
  {
   "cell_type": "code",
   "execution_count": 345,
   "metadata": {
    "collapsed": false
   },
   "outputs": [
    {
     "data": {
      "image/png": "[encoded data removed]",
      "text/plain": [
       "<matplotlib.figure.Figure at 0x7fead377b510>"
      ]
     },
     "metadata": {},
     "output_type": "display_data"
    }
   ],
   "source": [
    "# combined cringy plot\n",
    "from __future__ import division\n",
    "w = 'cringy'\n",
    "pair_words = ['unfunny', 'cringeworthy', 'corny']\n",
    "all_words = [w] + pair_words\n",
    "all_dates = sorted(tf_2015_2016.columns)\n",
    "x_pos = range(1, len(all_dates)+1)\n",
    "x_ticks, x_labels = zip(*(zip(x_pos, all_dates)[::3]))\n",
    "plt.figure(figsize=(10, 5))\n",
    "cmap = plt.get_cmap('spring')\n",
    "markers = ['o', '*', '^', 's']\n",
    "# linestyles = ['-.', '--', '-', ':']\n",
    "linestyles = ['-']\n",
    "for i, word in enumerate(all_words):\n",
    "    if(word == w):\n",
    "        color = 'r'\n",
    "    else:\n",
    "        color = 'b'\n",
    "#     color = cmap(i / len(all_words))\n",
    "    marker = markers[i % len(all_words)]\n",
    "    linestyle = linestyles[i % len(linestyles)]\n",
    "    plt.plot(x_pos, tf_2015_2016.loc[word], color=color, marker=marker, linestyle=linestyle, label=word)\n",
    "plt.xticks(x_ticks, x_labels)\n",
    "plt.legend(loc='lower right')\n",
    "plt.title('%s vs. competitors'%(w))\n",
    "plt.xlabel('Date')\n",
    "plt.ylabel('Frequency')\n",
    "# plt.yscale('log')\n",
    "plt.show()"
   ]
  },
  {
   "cell_type": "markdown",
   "metadata": {},
   "source": [
    "## Prepare neighbor tf"
   ]
  },
  {
   "cell_type": "code",
   "execution_count": 160,
   "metadata": {
    "collapsed": false
   },
   "outputs": [],
   "source": [
    "# get neighbors for matches\n",
    "top_k = 10\n",
    "match_neighbor_pairs = [(w, struc_embeddings_2016_05.most_similar(w, topn=top_k)) for w in growth_word_matches]\n",
    "match_neighbors = [(w, ns) for w, ns in match_neighbor_pairs]\n",
    "match_neighbor_dict = dict(match_neighbors)"
   ]
  },
  {
   "cell_type": "code",
   "execution_count": 123,
   "metadata": {
    "collapsed": false
   },
   "outputs": [
    {
     "name": "stdout",
     "output_type": "stream",
     "text": [
      "318\n"
     ]
    }
   ],
   "source": [
    "print(len(match_neighbors))"
   ]
  },
  {
   "cell_type": "code",
   "execution_count": 161,
   "metadata": {
    "collapsed": false
   },
   "outputs": [],
   "source": [
    "# get normalized neighbor tf\n",
    "tf_2015_2016_smoothr = tf_2015_2016[tf_2015_2016 > 0].min().min()\n",
    "tf_2015_2016_smooth = tf_2015_2016 + tf_2015_2016_smoothr\n",
    "growth_word_neighbor_tf_list = [tf_2015_2016_smooth.ix[ns, 0] / tf_2015_2016_smooth.ix[w, 0] \n",
    "                                for w, ns in growth_word_neighbors.iteritems()]\n",
    "match_neighbor_tf_list = [tf_2015_2016_smooth.ix[ns, 0] / tf_2015_2016_smooth.ix[w, 0] \n",
    "                          for w, ns in match_neighbors]\n",
    "growth_word_neighbor_tf = pd.np.array([x.fillna(0, inplace=False) for x in growth_word_neighbor_tf_list])\n",
    "match_neighbor_tf = pd.np.array([x.fillna(0, inplace=False) for x in match_neighbor_tf_list])"
   ]
  },
  {
   "cell_type": "code",
   "execution_count": 162,
   "metadata": {
    "collapsed": false
   },
   "outputs": [
    {
     "name": "stdout",
     "output_type": "stream",
     "text": [
      "(318, 10)\n",
      "(318, 10)\n",
      "318\n",
      "318\n"
     ]
    }
   ],
   "source": [
    "print(growth_word_neighbor_tf.shape)\n",
    "print(match_neighbor_tf.shape)\n",
    "print(len(growth_word_neighbors))\n",
    "print(len(match_neighbors))"
   ]
  },
  {
   "cell_type": "code",
   "execution_count": 87,
   "metadata": {
    "collapsed": false
   },
   "outputs": [
    {
     "data": {
      "text/plain": [
       "asf        0.023708\n",
       "azz        0.009226\n",
       "mofo       0.113778\n",
       "enuff      0.013010\n",
       "mofos      0.032336\n",
       "dood       0.057869\n",
       "ass       13.590478\n",
       "fck        0.050653\n",
       "shittt     0.021942\n",
       "fuckk      0.009074\n",
       "Name: 2015-06, dtype: float64"
      ]
     },
     "execution_count": 87,
     "metadata": {},
     "output_type": "execute_result"
    }
   ],
   "source": [
    "w = 'af'\n",
    "ns = growth_word_neighbors[w]\n",
    "tf_2015_2016_smooth.ix[ns, 0] / tf_2015_2016_smooth.ix[w, 0]"
   ]
  },
  {
   "cell_type": "code",
   "execution_count": 154,
   "metadata": {
    "collapsed": false
   },
   "outputs": [
    {
     "data": {
      "image/png": "[encoded data removed]",
      "text/plain": [
       "<matplotlib.figure.Figure at 0x7febaf2b7dd0>"
      ]
     },
     "metadata": {},
     "output_type": "display_data"
    }
   ],
   "source": [
    "# need to invert ratios because we divided neighbors by word frequency\n",
    "# but we're interested in word / neighbors\n",
    "growth_word_neighbor_tf = 1. / pd.np.array(growth_word_neighbor_tf).flatten()\n",
    "match_neighbor_tf = 1. / pd.np.array(match_neighbor_tf).flatten()\n",
    "growth_word_neighbor_tf[pd.np.isinf(growth_word_neighbor_tf)] = 0\n",
    "match_neighbor_tf[pd.np.isinf(match_neighbor_tf)] = 0\n",
    "boxplot_data = [growth_word_neighbor_tf, match_neighbor_tf]\n",
    "plt.figure(figsize=(5,5))\n",
    "plt.boxplot(boxplot_data)\n",
    "plt.xticks([1,2], ['Growth', 'Non-growth'])\n",
    "plt.yscale('log')\n",
    "plt.ylabel('Neighbor frequency')\n",
    "plt.show()"
   ]
  },
  {
   "cell_type": "code",
   "execution_count": 155,
   "metadata": {
    "collapsed": false
   },
   "outputs": [
    {
     "name": "stdout",
     "output_type": "stream",
     "text": [
      "growth neighbor ratios: median = 3.362E-01, mean = 2.805E+01 +/- 6.888E+02\n",
      "non-growth neighbor ratios: median = 6.455E-01, mean = 9.788E+00 +/- 1.949E+02\n"
     ]
    }
   ],
   "source": [
    "print('growth neighbor ratios: median = %.3E, mean = %.3E +/- %.3E'%(pd.np.median(growth_word_neighbor_tf),\n",
    "                                                                     pd.np.mean(growth_word_neighbor_tf), \n",
    "                                                                     pd.np.std(growth_word_neighbor_tf)))\n",
    "print('non-growth neighbor ratios: median = %.3E, mean = %.3E +/- %.3E'%(pd.np.median(match_neighbor_tf),\n",
    "                                                                         pd.np.mean(match_neighbor_tf), \n",
    "                                                                         pd.np.std(match_neighbor_tf)))"
   ]
  },
  {
   "cell_type": "markdown",
   "metadata": {},
   "source": [
    "According to median, growth words tend to have lower frequency than their neighbors, which makes sense if they start low and end up high. But according to mean, growth words have higher frequency than neighbors? Must be due to the higher variance in growth words."
   ]
  },
  {
   "cell_type": "markdown",
   "metadata": {},
   "source": [
    "## Classification: growth vs. non-growth"
   ]
  },
  {
   "cell_type": "markdown",
   "metadata": {},
   "source": [
    "Reframe as classification? I.e. can we predict if a word will grow based on its nearest neighbors. Order first by semantic distance and then by frequency."
   ]
  },
  {
   "cell_type": "code",
   "execution_count": null,
   "metadata": {
    "collapsed": true
   },
   "outputs": [],
   "source": [
    "from sklearn.cross_validation import cross_val_score\n",
    "from sklearn.linear_model import LogisticRegression\n",
    "from sklearn.preprocessing import MinMaxScaler`"
   ]
  },
  {
   "cell_type": "code",
   "execution_count": 187,
   "metadata": {
    "collapsed": false
   },
   "outputs": [
    {
     "name": "stdout",
     "output_type": "stream",
     "text": [
      "[ 0.5  0.5  0.5  0.5  0.5  0.5  0.5  0.5  0.5  0.5]\n"
     ]
    }
   ],
   "source": [
    "# baseline prediction\n",
    "lr = LogisticRegression()\n",
    "embedding_growth_words_tf = tf_2015_2016.ix[embedding_growth_words, 0]\n",
    "match_growth_words_tf = tf_2015_2016.ix[growth_word_matches, 0]\n",
    "X = pd.np.hstack([embedding_growth_words_tf, match_growth_words_tf]).reshape(-1,1)\n",
    "Y = pd.np.array([[1,]*len(embedding_growth_words_tf) + [0,]*len(match_growth_words_tf)]).T[:,0]\n",
    "cv = 10\n",
    "scores = cross_val_score(lr, X, Y, cv=cv)\n",
    "print(scores)"
   ]
  },
  {
   "cell_type": "markdown",
   "metadata": {},
   "source": [
    "Sanity check: including more tf data should make prediction easier."
   ]
  },
  {
   "cell_type": "code",
   "execution_count": 196,
   "metadata": {
    "collapsed": false
   },
   "outputs": [
    {
     "name": "stdout",
     "output_type": "stream",
     "text": [
      "0.500 +/- 0.000\n",
      "0.553 +/- 0.069\n",
      "0.555 +/- 0.061\n",
      "0.553 +/- 0.052\n",
      "0.612 +/- 0.065\n",
      "0.612 +/- 0.064\n",
      "0.608 +/- 0.061\n",
      "0.648 +/- 0.056\n",
      "0.652 +/- 0.056\n",
      "0.775 +/- 0.039\n",
      "0.830 +/- 0.066\n"
     ]
    }
   ],
   "source": [
    "# score should increase over time!\n",
    "N = tf_2015_2016.shape[1]\n",
    "lr = LogisticRegression()\n",
    "for i in range(1, N):\n",
    "    embedding_growth_words_tf = tf_2015_2016_smooth.ix[embedding_growth_words, :i]\n",
    "    match_growth_words_tf = tf_2015_2016_smooth.ix[growth_word_matches, :i]\n",
    "    growth_words_tf_norm = embedding_growth_words_tf.values / match_growth_words_tf.values\n",
    "    match_words_tf_norm = match_growth_words_tf.values / embedding_growth_words_tf.values\n",
    "    X = pd.np.vstack([growth_words_tf_norm, match_words_tf_norm])#.reshape(-1,1)\n",
    "    Y = pd.np.array([[1,]*len(embedding_growth_words_tf) + [0,]*len(match_growth_words_tf)]).T[:,0]\n",
    "    cv = 10\n",
    "    scores = cross_val_score(lr, X, Y, cv=cv)\n",
    "    print('%.3f +/- %.3f'%(pd.np.mean(scores), pd.np.std(scores)))\n",
    "#     print(scores)"
   ]
  },
  {
   "cell_type": "markdown",
   "metadata": {},
   "source": [
    "Logical! More frequency data => better discrimination between growth/non-growth."
   ]
  },
  {
   "cell_type": "markdown",
   "metadata": {},
   "source": [
    "### Prepare all stats"
   ]
  },
  {
   "cell_type": "code",
   "execution_count": 261,
   "metadata": {
    "collapsed": false
   },
   "outputs": [],
   "source": [
    "## prepare all stats\n",
    "import sys\n",
    "if('..' not in sys.path):\n",
    "    sys.path.append('..')\n",
    "from data_processing.data_handler import get_default_vocab\n",
    "vocab = get_default_vocab()\n",
    "top_k = 10\n",
    "stat_names = ['f', 'D_U', 'D_S', 'D_T', 'C2', 'C3'] + ['struc_%d'%(i) for i in range(top_k)] + ['unstruc_%d'%(i) for i in range(top_k)]\n",
    "tf = pd.read_csv('../../data/frequency/2015_2016_tf_norm.tsv', sep='\\t', index_col=0).loc[vocab]\n",
    "D_U = pd.read_csv('../../data/frequency/2015_2016_user_diffusion.tsv', sep='\\t', index_col=0)\n",
    "D_S = pd.read_csv('../../data/frequency/2015_2016_subreddit_diffusion.tsv', sep='\\t', index_col=0)\n",
    "D_T = pd.read_csv('../../data/frequency/2015_2016_thread_diffusion.tsv', sep='\\t', index_col=0)\n",
    "C2 = pd.read_csv('../../data/frequency/2015_2016_2gram_resids.tsv', sep='\\t', index_col=0)\n",
    "C3 = pd.read_csv('../../data/frequency/2015_2016_3gram_resids.tsv', sep='\\t' ,index_col=0)\n",
    "struc_embeddings = Word2Vec.load_word2vec_format('../../data/embeddings/2015-06_wang2vec_100_5_embeddings', binary=True)\n",
    "unstruc_embeddings = Word2Vec.load_word2vec_format('../../data/embeddings/2015-06_word2vec_100_5_embeddings', binary=True)\n"
   ]
  },
  {
   "cell_type": "code",
   "execution_count": 298,
   "metadata": {
    "collapsed": true
   },
   "outputs": [],
   "source": [
    "oov = 'OOV'\n",
    "oov_sim = 0\n",
    "growth_word_struc_neighbor_pairs = [struc_embeddings.most_similar(w, topn=top_k) \n",
    "                                    if w in set(struc_embeddings.vocab.keys()) else [(oov,oov_sim),] * top_k \n",
    "                                    for w in embedding_growth_words]\n",
    "growth_word_unstruc_neighbor_pairs = [unstruc_embeddings.most_similar(w, topn=top_k) \n",
    "                                      if w in set(unstruc_embeddings.vocab.keys()) else [(oov,oov_sim),] * top_k\n",
    "                                      for w in embedding_growth_words]\n",
    "match_word_struc_neighbor_pairs = [struc_embeddings.most_similar(w, topn=top_k) \n",
    "                                   if w in set(struc_embeddings.vocab.keys()) else [(oov,oov_sim),] * top_k \n",
    "                                   for w in growth_word_matches]\n",
    "match_word_unstruc_neighbor_pairs = [unstruc_embeddings.most_similar(w, topn=top_k) \n",
    "                                     if w in set(unstruc_embeddings.vocab.keys()) else [(oov,oov_sim),] * top_k\n",
    "                                     for w in growth_word_matches]\n",
    "growth_word_struc_neighbors = [zip(*ns)[0] for ns in growth_word_struc_neighbor_pairs]\n",
    "growth_word_unstruc_neighbors = [zip(*ns)[0] for ns in growth_word_unstruc_neighbor_pairs]\n",
    "match_word_struc_neighbors = [zip(*ns)[0] for ns in match_word_struc_neighbor_pairs]\n",
    "match_word_unstruc_neighbors = [zip(*ns)[0] for ns in match_word_unstruc_neighbor_pairs]"
   ]
  },
  {
   "cell_type": "code",
   "execution_count": 297,
   "metadata": {
    "collapsed": false
   },
   "outputs": [
    {
     "data": {
      "text/plain": [
       "False"
      ]
     },
     "execution_count": 297,
     "metadata": {},
     "output_type": "execute_result"
    }
   ],
   "source": [
    "'bernouts' in vocab"
   ]
  },
  {
   "cell_type": "code",
   "execution_count": 309,
   "metadata": {
    "collapsed": true
   },
   "outputs": [],
   "source": [
    "def get_median_neighbor_tf(words, neighbors, tf):\n",
    "    neighbor_tf_norm_medians = {}\n",
    "    for w, ns in zip(words, neighbors):\n",
    "        neighbor_tf = tf.ix[ns, :]\n",
    "        neighbor_tf.fillna(0, inplace=True)\n",
    "        w_tf = tf.ix[w, :]\n",
    "        neighbor_tf_norm = neighbor_tf / w_tf\n",
    "        neighbor_tf_norm_median = neighbor_tf_norm.median(axis=0)\n",
    "        neighbor_tf_norm_medians[w] = neighbor_tf_norm_median\n",
    "    neighbor_tf_norm_medians = pd.DataFrame(neighbor_tf_norm_medians).transpose()\n",
    "    return neighbor_tf_norm_medians"
   ]
  },
  {
   "cell_type": "code",
   "execution_count": 310,
   "metadata": {
    "collapsed": false
   },
   "outputs": [
    {
     "name": "stdout",
     "output_type": "stream",
     "text": [
      "            2015-06    2015-07   2015-08    2015-09    2015-10   2015-11  \\\n",
      "af         0.003322   0.005455  0.003732   0.007491   0.007281  0.007745   \n",
      "airburst   6.677038   5.048075  5.490128   7.782310   9.115795  9.294999   \n",
      "altspace  11.397165  12.014783  7.229988  10.888304  10.343462  8.184927   \n",
      "antifa     3.208560   2.552355  1.558566   1.289449   2.114083  1.488927   \n",
      "asf        0.798865   0.598409  0.549374   0.534454   0.607853  0.549677   \n",
      "\n",
      "            2015-12    2016-01   2016-02   2016-03   2016-04   2016-05  \n",
      "af         0.004905   0.005214  0.003842  0.002479  0.002991  0.002649  \n",
      "airburst   8.760146   4.958239  7.276752  2.899361  4.252193  5.945613  \n",
      "altspace  26.673049  27.504620  3.370121  3.129934  1.555573  0.944444  \n",
      "antifa     1.212851   1.327407  1.321709  0.664843  0.955740  1.314892  \n",
      "asf        0.515527   0.503425  0.562601  0.578505  0.519115  0.418713  \n"
     ]
    }
   ],
   "source": [
    "# get median normalized neighbor tf\n",
    "all_dates = sorted(tf.columns)\n",
    "tf_smoothr = tf[tf > 0.].min().min()\n",
    "tf_smooth = tf + tf_smoothr\n",
    "growth_word_tf_norm_medians = get_median_neighbor_tf(embedding_growth_words, growth_word_struc_neighbors, tf_smooth)\n",
    "print(growth_word_tf_norm_medians.head())\n",
    "match_word_tf_norm_medians = get_median_neighbor_tf(growth_word_matches, match_word_struc_neighbors, tf_smooth)\n",
    "N_med_tf = pd.concat([growth_word_tf_norm_medians, match_word_tf_norm_medians])"
   ]
  },
  {
   "cell_type": "markdown",
   "metadata": {
    "collapsed": true
   },
   "source": [
    "Combine stats into full dataframe."
   ]
  },
  {
   "cell_type": "code",
   "execution_count": 316,
   "metadata": {
    "collapsed": false
   },
   "outputs": [],
   "source": [
    "from itertools import izip\n",
    "def combine_stats(stat_names, stats, vocab):\n",
    "    full_stats = pd.DataFrame()\n",
    "    for i, (stat_name, stat) in enumerate(izip(stat_names, stats)):\n",
    "        # reshape stats!!\n",
    "        stat = stat.loc[vocab]\n",
    "        stat['word'] = stat.index\n",
    "        stat = pd.melt(stat, id_vars=['word'])\n",
    "        stat.rename(columns={'value' : stat_name, 'variable' : 'date'}, inplace=True)\n",
    "        if(i == 0):\n",
    "            full_stats = full_stats.append(stat)\n",
    "        else:\n",
    "            full_stats = full_stats.merge(stat, on=['date', 'word'], how='inner')\n",
    "    return full_stats"
   ]
  },
  {
   "cell_type": "code",
   "execution_count": 322,
   "metadata": {
    "collapsed": false
   },
   "outputs": [
    {
     "name": "stderr",
     "output_type": "stream",
     "text": [
      "/usr/local/lib/python2.7/site-packages/ipykernel/__main__.py:7: SettingWithCopyWarning: \n",
      "A value is trying to be set on a copy of a slice from a DataFrame.\n",
      "Try using .loc[row_indexer,col_indexer] = value instead\n",
      "\n",
      "See the caveats in the documentation: http://pandas.pydata.org/pandas-docs/stable/indexing.html#indexing-view-versus-copy\n"
     ]
    }
   ],
   "source": [
    "combined_words = embedding_growth_words + growth_word_matches\n",
    "stat_names = (['f', 'DU', 'DS', 'DT', 'C2', 'C3', 'N_med_f'])\n",
    "#               ['struc_N_%d'%(i) for i in range(top_k)] + \n",
    "#               ['unstruc_N_%d'%(i) for i in range(top_k)]\n",
    "stats = [tf, D_U, D_S, D_T, C2, C3, N_med_tf]\n",
    "combined_stats = combine_stats(stat_names, stats, combined_words)"
   ]
  },
  {
   "cell_type": "code",
   "execution_count": 323,
   "metadata": {
    "collapsed": false
   },
   "outputs": [
    {
     "name": "stdout",
     "output_type": "stream",
     "text": [
      "       word     date             f        DU        DS        DT           C2  \\\n",
      "0        af  2015-06  2.520786e-05  0.926840  0.955385  0.931142   622.449399   \n",
      "1  airburst  2015-06  1.348354e-07  0.920128  0.927301  0.891887   794.728983   \n",
      "2  altspace  2015-06  7.632193e-08  0.876831  0.871877  0.879764  1197.011027   \n",
      "3    antifa  2015-06  1.869887e-07  0.882261  0.969206  0.880973   566.505706   \n",
      "4       asf  2015-06  5.965831e-07  0.970299  0.960619  0.961612   -93.641243   \n",
      "\n",
      "            C3    N_med_f  \n",
      "0 -2451.871007   0.003322  \n",
      "1  2593.027439   6.677038  \n",
      "2  3807.476659  11.397165  \n",
      "3  1881.777553   3.208560  \n",
      "4  -531.591365   0.798865  \n"
     ]
    }
   ],
   "source": [
    "print(combined_stats.head())"
   ]
  },
  {
   "cell_type": "code",
   "execution_count": 207,
   "metadata": {
    "collapsed": false
   },
   "outputs": [
    {
     "name": "stdout",
     "output_type": "stream",
     "text": [
      "processing type user\n",
      "0.500 +/- 0.007\n",
      "0.506 +/- 0.008\n",
      "0.537 +/- 0.075\n",
      "0.541 +/- 0.071\n",
      "0.609 +/- 0.058\n",
      "0.690 +/- 0.058\n",
      "0.695 +/- 0.060\n",
      "0.693 +/- 0.059\n",
      "0.698 +/- 0.050\n",
      "0.700 +/- 0.053\n",
      "0.695 +/- 0.051\n",
      "processing type subreddit\n",
      "0.500 +/- 0.007\n",
      "0.503 +/- 0.010\n",
      "0.512 +/- 0.049\n",
      "0.530 +/- 0.072\n",
      "0.612 +/- 0.052\n",
      "0.698 +/- 0.072\n",
      "0.714 +/- 0.070\n",
      "0.701 +/- 0.063\n",
      "0.719 +/- 0.051\n",
      "0.731 +/- 0.044\n",
      "0.725 +/- 0.053\n",
      "processing type thread\n",
      "0.500 +/- 0.007\n",
      "0.506 +/- 0.008\n",
      "0.490 +/- 0.040\n",
      "0.492 +/- 0.044\n",
      "0.588 +/- 0.027\n",
      "0.700 +/- 0.050\n",
      "0.700 +/- 0.058\n",
      "0.690 +/- 0.053\n",
      "0.704 +/- 0.040\n",
      "0.708 +/- 0.035\n",
      "0.701 +/- 0.048\n"
     ]
    }
   ],
   "source": [
    "# better baseline: diffusion\n",
    "lr = LogisticRegression()\n",
    "diffusion_types = ['user', 'subreddit', 'thread']\n",
    "for diffusion_type in diffusion_types:\n",
    "    print('processing type %s'%(diffusion_type))\n",
    "    D = pd.read_csv('../../data/frequency/2015_2016_%s_diffusion.tsv'%(diffusion_type), sep='\\t', index_col=0)\n",
    "    D.fillna(0, inplace=True)\n",
    "    D_smooth = D[D > 0.].min().min()\n",
    "    D = D + D_smooth\n",
    "    N = tf_2015_2016.shape[1]\n",
    "    for i in range(1, N):\n",
    "        embedding_growth_words_D = D.ix[embedding_growth_words, :i]\n",
    "        match_growth_words_D = D.ix[growth_word_matches, :i]\n",
    "        growth_words_D_norm = embedding_growth_words_D.values / match_growth_words_D.values\n",
    "        match_words_D_norm = match_growth_words_D.values / embedding_growth_words_D.values\n",
    "        X = pd.np.vstack([growth_words_D_norm, match_words_D_norm])#.reshape(-1,1)\n",
    "        Y = pd.np.array([[1,]*len(embedding_growth_words) + [0,]*len(growth_word_matches)]).T[:,0]\n",
    "        cv = 10\n",
    "        scores = cross_val_score(lr, X, Y, cv=cv)\n",
    "        print('%.3f +/- %.3f'%(pd.np.mean(scores), pd.np.std(scores)))"
   ]
  },
  {
   "cell_type": "markdown",
   "metadata": {},
   "source": [
    "Actually worse prediction? So frequency is better overall predictor. Although subreddit looks pretty good overall."
   ]
  },
  {
   "cell_type": "markdown",
   "metadata": {},
   "source": [
    "Another baseline: context diversity."
   ]
  },
  {
   "cell_type": "code",
   "execution_count": 257,
   "metadata": {
    "collapsed": false
   },
   "outputs": [
    {
     "name": "stdout",
     "output_type": "stream",
     "text": [
      "True\n"
     ]
    }
   ],
   "source": [
    "print(pd.np.any(pd.np.isinf(match_words_C_norm)))"
   ]
  },
  {
   "cell_type": "code",
   "execution_count": 259,
   "metadata": {
    "collapsed": false
   },
   "outputs": [
    {
     "name": "stdout",
     "output_type": "stream",
     "text": [
      "2gram\n",
      "0.500 +/- 0.000\n",
      "0.505 +/- 0.057\n",
      "0.519 +/- 0.067\n",
      "0.528 +/- 0.074\n",
      "0.537 +/- 0.031\n",
      "0.511 +/- 0.053\n",
      "0.550 +/- 0.077\n",
      "0.549 +/- 0.062\n",
      "0.557 +/- 0.065\n",
      "0.514 +/- 0.035\n",
      "0.527 +/- 0.039\n",
      "3gram\n",
      "0.500 +/- 0.000\n",
      "0.478 +/- 0.027\n",
      "0.490 +/- 0.072\n",
      "0.493 +/- 0.081\n",
      "0.531 +/- 0.075\n",
      "0.533 +/- 0.059\n",
      "0.544 +/- 0.048\n",
      "0.533 +/- 0.042\n",
      "0.517 +/- 0.046\n",
      "0.527 +/- 0.065\n",
      "0.523 +/- 0.048\n"
     ]
    }
   ],
   "source": [
    "context_types = ['2gram', '3gram']\n",
    "for context_type in context_types:\n",
    "    print(context_type)\n",
    "    context = pd.read_csv('../../data/frequency/2015_2016_%s_resids.tsv'%(context_type), sep='\\t', index_col=0)\n",
    "    context.fillna(0, inplace=True)\n",
    "    context_smoothr = context[context > 0.].min().min()\n",
    "    context_smooth = context + context_smoothr\n",
    "    N = tf_2015_2016.shape[1]\n",
    "    for i in range(1, N):\n",
    "        embedding_growth_words_C = context_smooth.ix[embedding_growth_words, :i].fillna(context_smoothr, inplace=False)\n",
    "        match_growth_words_C = context_smooth.ix[growth_word_matches, :i].fillna(context_smoothr, inplace=False)\n",
    "        growth_words_C_norm = embedding_growth_words_C.values / match_growth_words_C.values\n",
    "        match_words_C_norm = match_growth_words_C.values / embedding_growth_words_C.values\n",
    "        X = pd.np.vstack([growth_words_C_norm, match_words_C_norm])#.reshape(-1,1)\n",
    "        Y = pd.np.array([[1,]*len(embedding_growth_words) + [0,]*len(growth_word_matches)]).T[:,0]\n",
    "        cv = 10\n",
    "        scores = cross_val_score(lr, X, Y, cv=cv)\n",
    "        print('%.3f +/- %.3f'%(pd.np.mean(scores), pd.np.std(scores)))"
   ]
  },
  {
   "cell_type": "markdown",
   "metadata": {},
   "source": [
    "Now use neighbor frequency."
   ]
  },
  {
   "cell_type": "code",
   "execution_count": 200,
   "metadata": {
    "collapsed": false
   },
   "outputs": [
    {
     "name": "stdout",
     "output_type": "stream",
     "text": [
      "(636, 10)\n",
      "(636, 11)\n",
      "0.632 +/- 0.036\n"
     ]
    }
   ],
   "source": [
    "# neighbor prediction\n",
    "lr = LogisticRegression()\n",
    "X1 = pd.np.vstack([growth_word_neighbor_tf, match_neighbor_tf])\n",
    "X2 = pd.np.vstack([embedding_growth_words_tf, match_growth_words_tf])#.reshape(-1,1)\n",
    "print(X1.shape)\n",
    "print(X2.shape)\n",
    "X = pd.np.hstack([X1, X2])\n",
    "X = MinMaxScaler().fit_transform(X)\n",
    "Y = pd.np.array([[1,]*len(growth_word_neighbor_tf) + [0,]*len(match_neighbor_tf)]).T[:,0]\n",
    "cv = 10\n",
    "scores = cross_val_score(lr, X, Y, cv=cv)\n",
    "print('%.3f +/- %.3f'%(pd.np.mean(scores), pd.np.std(scores)))\n",
    "# print(scores)"
   ]
  },
  {
   "cell_type": "markdown",
   "metadata": {
    "collapsed": true
   },
   "source": [
    "## Combined stat prediction"
   ]
  },
  {
   "cell_type": "code",
   "execution_count": 1,
   "metadata": {
    "collapsed": true
   },
   "outputs": [],
   "source": [
    "import pandas as pd\n",
    "from gensim.models import Word2Vec"
   ]
  },
  {
   "cell_type": "code",
   "execution_count": 2,
   "metadata": {
    "collapsed": false
   },
   "outputs": [
    {
     "name": "stdout",
     "output_type": "stream",
     "text": [
      "1184\n",
      "['abetted', 'abjectly', 'accosting', 'acidosis', 'acks', 'acquiescing', 'adblocker', 'adblockers', 'adhesions', 'adlibs', 'adventurism', 'af', 'airburst', 'airdrop', 'airdrops', 'airgun', 'algs', 'altspace', 'amalgamate', 'ammos', 'anglerfish', 'anhydrous', 'anology', 'anotha', 'antifa', 'antinatalism', 'antinatalist', 'antiquarian', 'antiwar', 'apportion', 'apportioned', 'arranger', 'asf', 'assinine', 'asst', 'astroturfers', 'async', 'atm', 'attesting', 'augs', 'autism', 'automagically', 'aviable', 'awaking', 'ayye', 'babyyy', 'backdated', 'backlink', 'backpay', 'backported', 'backtracks', 'badman', 'baity', 'balloting', 'banrate', 'bantz', 'bartard', 'bby', 'beasting', 'beatdown', 'beatdowns', 'beaut', 'bec', 'beep', 'believeth', 'belter', 'belters', 'berthing', 'biebs', 'binged', 'binging', 'bioload', 'birther', 'bitting', 'blackscreen', 'blathers', 'blendable', 'blep', 'blockable', 'blocker', 'blockers', 'blowout', 'blowouts', 'blustering', 'blustery', 'bodying', 'boi', 'bois', 'bombast', 'boomin', 'boop', 'booped', 'booping', 'boops', 'bootloop', 'bork', 'botter', 'botters', 'botting', 'bottlers', 'bourgeoisie', 'boutta', 'bpd', 'bpds', 'brainz', 'bralette', 'bralettes', 'bricked', 'bricking', 'britpop', 'broads', 'brobots', 'brolly', 'broo', 'brownshirts', 'brownstone', 'brownstones', 'brushstrokes', 'bruv', 'btfo', 'buckaroo', 'buckaroos', 'bucko', 'buildable', 'buildables', 'bullshittery', 'buoyed', 'bused', 'businessperson', 'bussy', 'buzzy', 'calamitous', 'callable', 'camara', 'cammer', 'cammie', 'camo', 'camos', 'caregiving', 'carpetbagger', 'casteism', 'cellspot', 'certitude', 'chalking', 'cheekily', 'chicky', 'chintzy', 'choreo', 'chum', 'chummy', 'ciggies', 'clickbaity', 'cloister', 'clowned', 'clunkiness', 'coagulate', 'colicky', 'collab', 'collabs', 'collectivists', 'colorism', 'colorscheme', 'comeup', 'commodified', 'compy', 'conection', 'confederalism', 'confidante', 'conning', 'conscientousness', 'consonance', 'constabulary', 'contestable', 'contortion', 'contrivances', 'convo', 'convolutional', 'cooch', 'coroutines', 'corporatist', 'corporatists', 'cosleep', 'couchpotato', 'couldve', 'counterintelligence', 'counterpunch', 'courseload', 'courtly', 'crampons', 'crashlands', 'creamers', 'credentialed', 'creds', 'cresting', 'crikey', 'criminalizes', 'cringefest', 'cringeworthy', 'cringey', 'cringiest', 'cringy', 'crit', 'critchance', 'cronies', 'crony', 'crony', 'crosscheck', 'crosscut', 'crossplay', 'crossrail', 'crybullies', 'crypto', 'cryptokey', 'cuck', 'cucked', 'cuckhold', 'cucking', 'cuckold', 'cuckoldry', 'cuckolds', 'cucks', 'cuckservative', 'cuckservatives', 'cultivators', 'cummies', 'cummy', 'daaamn', 'daamn', 'dab', 'dabbed', 'dabbing', 'dabs', 'dailies', 'dailys', 'dammmn', 'damnn', 'damnnn', 'datapoints', 'daypack', 'dboy', 'deadass', 'debited', 'debuffed', 'debuffer', 'debuffing', 'debuffs', 'decarb', 'decarbed', 'deciders', 'declassify', 'decongestant', 'decrypting', 'deduplication', 'deflectors', 'defo', 'deforest', 'delerium', 'destress', 'dgaf', 'dicked', 'dicker', 'diffs', 'digestives', 'dilettante', 'dimmable', 'disavowing', 'disavows', 'discombobulated', 'disrupters', 'dmg', 'dming', 'dms', 'doesent', 'doggo', 'doggos', 'dogshit', 'dogwhistle', 'dollarydoos', 'dommes', 'dop', 'dops', 'dosing', 'doublecast', 'downclocking', 'downed', 'downlow', 'downrange', 'draftable', 'drawstrings', 'drooped', 'droprate', 'droprates', 'dropshipping', 'dumpstered', 'dup', 'duped', 'dups', 'dutchies', 'dutchy', 'dyslexics', 'earing', 'earings', 'earworm', 'eccentrics', 'edgelord', 'edgelords', 'edgey', 'edgy', 'effector', 'effectual', 'effusive', 'egret', 'electorally', 'elopement', 'embalmed', 'emo', 'emojis', 'emplacement', 'emulations', 'endos', 'energizes', 'ennemies', 'entirity', 'equalities', 'espically', 'estrangement', 'estrogens', 'eta', 'evac', 'evangelicalism', 'expedience', 'explodey', 'expropriated', 'expy', 'eyestrain', 'facesitting', 'faceswap', 'factotum', 'faggoty', 'fah', 'fam', 'fanarts', 'fancam', 'fanfics', 'farmable', 'farmboy', 'farmed', 'farmhand', 'fatalist', 'fathead', 'favorables', 'favourable', 'feeemales', 'feeing', 'feelsbadman', 'feelsgoodman', 'feminizing', 'fest', 'fests', 'ffs', 'filers', 'firming', 'flappers', 'flashbang', 'fleeb', 'floof', 'floofy', 'floozies', 'flopped', 'flopper', 'flowey', 'flowy', 'flubbing', 'flyovers', 'fmil', 'fml', 'fomo', 'footfalls', 'foreshortening', 'forgers', 'forgetti', 'foriegn', 'fracked', 'frackers', 'frameless', 'freeload', 'freeloaders', 'freeloading', 'friendo', 'frontliners', 'frontload', 'fsil', 'fsils', 'fucc', 'fuck', 'fuckbois', 'fuckery', 'fuckfuck', 'fucko', 'fucksticks', 'fucky', 'fuckyou', 'fug', 'func', 'funnelled', 'funnelling', 'funtime', 'furrowing', 'gaffs', 'galvanizing', 'gamemaker', 'gamethrowing', 'gangbanger', 'garbo', 'gaslighted', 'genned', 'genocided', 'genociding', 'genuinly', 'gfriend', 'ghosted', 'ghosting', 'ghosty', 'gilf', 'girlz', 'glitzy', 'gobs', 'gobsmacked', 'golly', 'goodjob', 'goof', 'goofs', 'goon', 'goons', 'gooo', 'gope', 'gopers', 'gotchu', 'grammy', 'grandbaby', 'grandmom', 'grassroot', 'gratefulness', 'grinded', 'grinding', 'gtfoh', 'guac', 'guesthouse', 'guilter', 'guilters', 'gumshoe', 'gurl', 'habibi', 'hafa', 'hahaa', 'hahhahaha', 'hammed', 'handheld', 'handholding', 'hapa', 'hapas', 'hapiness', 'hardmod', 'hardscoping', 'hasted', 'hattie', 'hatty', 'havent', 'havnt', 'headcannon', 'headcanon', 'headshot', 'heartthrob', 'hella', 'hellscape', 'helmetless', 'heyguys', 'highend', 'hisss', 'hitcount', 'hiting', 'hmu', 'hollers', 'homebrew', 'homebrewed', 'homelab', 'homie', 'honeymooned', 'hoodrats', 'hopefulness', 'hotswap', 'howww', 'hubpot', 'huffpo', 'huffpost', 'huhu', 'hunty', 'husbando', 'husbandos', 'hussy', 'huuuge', 'hypebeast', 'hypebeasts', 'hyperfocus', 'illiberal', 'imao', 'immedietly', 'incel', 'incels', 'incivility', 'incompressible', 'indie', 'individualists', 'inequitable', 'influencer', 'influencers', 'ingrates', 'initialisms', 'injuried', 'insidiously', 'insta', 'instakilled', 'insufflated', 'insufflation', 'intergovernmental', 'internetisbeautiful', 'intrests', 'involvements', 'islamaphobe', 'islamaphobia', 'islamaphobic', 'islamization', 'islamophobe', 'islamophobia', 'islamophobic', 'islams', 'isolator', 'itemless', 'jabronis', 'jailbreakable', 'jailers', 'japed', 'jfc', 'jihadism', 'jittery', 'jobbed', 'keycap', 'killcam', 'killcams', 'killshot', 'knawledge', 'kys', 'laboured', 'lacerate', 'lackeys', 'lampooned', 'languished', 'lbr', 'leaners', 'leftism', 'leftist', 'leftists', 'lem', 'lenin', 'leninism', 'leninist', 'leninists', 'lesbos', 'libtards', 'lifehacks', 'likeability', 'lipsyncing', 'listers', 'lit', 'litterally', 'litteraly', 'lmao', 'lmaoo', 'lmaooo', 'lmfao', 'lmfaoo', 'lmfaooo', 'longneck', 'loo', 'lool', 'loool', 'loosies', 'lowkey', 'lowlight', 'lowlights', 'lul', 'lulling', 'lvling', 'lyin', 'manip', 'mansplaining', 'marketcap', 'mashers', 'masterworks', 'meaningfulness', 'measurables', 'mechanised', 'medevac', 'medpacks', 'meirl', 'meme', 'memed', 'memeing', 'memelord', 'memery', 'memes', 'memester', 'memetics', 'memey', 'meming', 'merced', 'mesmerize', 'metas', 'methylated', 'mgtow', 'microdose', 'microdosing', 'microtransactions', 'militarist', 'millenial', 'millenials', 'millennial', 'millennials', 'mils', 'minimax', 'minimises', 'minks', 'mishandle', 'mispoke', 'misquotes', 'misreported', 'misreporting', 'misspeak', 'mixtape', 'modalert', 'modmailing', 'modpost', 'mollies', 'mollys', 'monomyth', 'mooch', 'mooks', 'moonlights', 'moshpit', 'moslem', 'motherships', 'movembers', 'moviegoer', 'mudslinging', 'muling', 'multidisciplinary', 'multihit', 'multikill', 'multikills', 'multilayered', 'multipart', 'multiversal', 'muncher', 'munchers', 'murdery', 'murked', 'muzzies', 'naded', 'naiive', 'nailbiter', 'nakedly', 'nands', 'nanoscience', 'nationhood', 'nativism', 'naturopath', 'naturopathic', 'naturopaths', 'naturopathy', 'neet', 'neocon', 'neocons', 'nerdy', 'neurodiversity', 'ngl', 'nibs', 'nimbly', 'nimby', 'nimbys', 'nonbinary', 'nonmagical', 'nonstarter', 'nontoxic', 'nonviable', 'nonwhite', 'nonwhites', 'nooch', 'novelizations', 'npcs', 'nuker', 'nukers', 'numba', 'numbah', 'nutted', 'nuzzled', 'observables', 'obstructionists', 'obviosuly', 'ofc', 'offshoring', 'omf', 'oneshot', 'oneshots', 'oped', 'opiod', 'opiods', 'opioid', 'opioids', 'ortho', 'otp', 'otps', 'outshot', 'outspending', 'outspent', 'overbought', 'overdiscussed', 'overdrafts', 'overemphasize', 'overheal', 'overlanding', 'overperform', 'overperformed', 'overperforming', 'oversharing', 'oversleeping', 'overstays', 'overstuffed', 'oversubscribed', 'overtrain', 'packable', 'pantsuit', 'parlament', 'partys', 'pastafarian', 'pastafarianism', 'pastafarians', 'pasting', 'patois', 'pawpaw', 'paywall', 'pdq', 'pedigrees', 'peekers', 'peeper', 'pep', 'pepperspray', 'percenter', 'perf', 'perhpas', 'perjured', 'persuader', 'perturbator', 'pervading', 'pewds', 'philandering', 'phonebanking', 'pickable', 'pigsty', 'pikey', 'pillager', 'pinchy', 'platinumed', 'playrate', 'playspace', 'plinth', 'plumping', 'pmd', 'polarisation', 'polarizes', 'polypropylene', 'poots', 'possibe', 'postcolonial', 'postmarked', 'potentiates', 'pourover', 'pple', 'pragmatics', 'prattling', 'preciate', 'precip', 'prefaces', 'prehab', 'primitivism', 'prioritises', 'proced', 'procedurals', 'prodrug', 'proletariat', 'provisioner', 'psychs', 'pupper', 'puppers', 'purp', 'purps', 'pushback', 'pussys', 'putback', 'pvping', 'pwned', 'qotd', 'quantums', 'qubits', 'quickdraw', 'quickstart', 'quippy', 'rabbithole', 'ragdolled', 'ragequitting', 'rando', 'randoms', 'randos', 'ransomware', 'rapidfire', 'readded', 'realigning', 'reallocating', 'recalibrating', 'recked', 'reclass', 'reclassed', 'reclassing', 'recomping', 'reconditioning', 'recyclers', 'redial', 'reentered', 'refi', 'reformulation', 'regressives', 'rehosted', 'reincarnating', 'repacked', 'repacking', 'repeatably', 'repub', 'reraise', 'rerunning', 'resettling', 'resistible', 'respeck', 'respek', 'resubmit', 'retrofits', 'retweeted', 'retweets', 'reupload', 'reuploaded', 'revite', 'rlly', 'rmv', 'rn', 'roguish', 'roomscale', 'ropey', 'roughnecks', 'royalists', 'rt', 'rump', 'saaame', 'saddly', 'safespace', 'safespot', 'safezone', 'sameee', 'sandbagging', 'savage', 'savagery', 'savescum', 'savescumming', 'scaleable', 'scanlations', 'scannable', 'scapegoated', 'scaremongering', 'scatterer', 'schizoid', 'schmeckles', 'schmoozing', 'scootaloo', 'scoresheet', 'scrams', 'screencapping', 'screentime', 'scriptwriters', 'scrounger', 'scumming', 'seaworthy', 'secs', 'segmenting', 'sekrit', 'semblances', 'semicircle', 'sexting', 'shadiness', 'shadowboxing', 'shakeup', 'shambolic', 'sharts', 'shieldbearer', 'shill', 'shilled', 'shilling', 'shills', 'shipper', 'shippers', 'shitbot', 'shitfest', 'shitlord', 'shitlords', 'shitpost', 'shitposted', 'shitposter', 'shitposters', 'shitposting', 'shitposts', 'shitsauce', 'shitshow', 'shitshows', 'shortlisted', 'shotgunner', 'shotgunners', 'shotted', 'shotting', 'shouldnt', 'shtick', 'sideload', 'sideloaded', 'sideloading', 'siiick', 'sinergy', 'skellies', 'skidrow', 'slabbed', 'sleuths', 'slithers', 'slog', 'slurps', 'smashy', 'smd', 'smdh', 'smh', 'smol', 'smth', 'smthing', 'snacky', 'snakey', 'snarking', 'snek', 'sneks', 'snoot', 'socketing', 'softban', 'softies', 'softshell', 'soldiered', 'soneone', 'soopers', 'sorc', 'soundbyte', 'soundbytes', 'soundcards', 'spammer', 'spawner', 'spawners', 'spergs', 'spiciest', 'spinned', 'squaddie', 'squanch', 'srpgs', 'staffy', 'stanning', 'stap', 'stat', 'stationing', 'statted', 'stenographer', 'stickered', 'stickied', 'stickying', 'stim', 'stimmed', 'stonewalled', 'stonewalling', 'streamables', 'stunlocked', 'stunners', 'sublets', 'subpixel', 'subtheme', 'succ', 'succotash', 'suicider', 'suiciders', 'summonable', 'sumptuous', 'sunlit', 'sunnier', 'superhot', 'superlist', 'superstate', 'superthread', 'supps', 'supress', 'supression', 'swifties', 'swingy', 'synergized', 'synth', 'systemless', 'systolic', 'sysupdater', 'tankie', 'tankier', 'tankies', 'tarrifs', 'tbf', 'tbh', 'tbis', 'tbqh', 'tbt', 'teamkills', 'telegrams', 'tesseracts', 'theatrically', 'theocrat', 'theyd', 'theyll', 'theyre', 'theyve', 'tho', 'thoe', 'thoroughly', 'thrifted', 'thta', 'thumper', 'thumpers', 'tiddies', 'tiering', 'tierlist', 'tldw', 'tmw', 'toot', 'tooty', 'tradies', 'trama', 'transness', 'trappy', 'trashing', 'triggered', 'tropey', 'trouncing', 'trynna', 'tweet', 'twink', 'twinking', 'twinks', 'twinky', 'twinned', 'udf', 'ultrawide', 'unbias', 'uncharismatic', 'uncloak', 'unconsoled', 'uncrackable', 'uncured', 'underachieved', 'undercosted', 'undereyes', 'underlay', 'underoos', 'underperforming', 'underplaying', 'unduped', 'unfavorability', 'unfavored', 'unflappable', 'unfuck', 'unfuckable', 'unfucked', 'unhackable', 'unisex', 'unkillable', 'unlistenable', 'unmastered', 'unmirrored', 'unmissable', 'unpromoted', 'unstickied', 'unsticky', 'unsubstantial', 'unsuprassed', 'untagged', 'untangled', 'untended', 'untimed', 'untruth', 'unupgraded', 'unviable', 'unwatchable', 'unwearable', 'updrafts', 'upheavals', 'uppers', 'userprofile', 'usurpation', 'vainly', 'veiling', 'veterancy', 'vetted', 'vetting', 'vibing', 'vid', 'vids', 'viewbots', 'viewbotting', 'viz', 'vlog', 'vlogging', 'vlogs', 'voluntarism', 'volunteerism', 'waddup', 'waffled', 'wagged', 'walkies', 'wapo', 'weaponised', 'webcast', 'weeb', 'weebs', 'wehraboo', 'wehraboos', 'wewlad', 'wfh', 'whaddup', 'whap', 'whelmed', 'whitesplaining', 'whitout', 'wht', 'winglets', 'woild', 'wonk', 'wonks', 'worlders', 'wouldnt', 'wowie', 'wowow', 'wth', 'wubs', 'wutface', 'wuz', 'xans', 'xenophile', 'xenophobe', 'xenophobes', 'xers', 'xps', 'yaas', 'yas', 'yasss', 'yday', 'yknow', 'yolos', 'youtubers', 'yt', 'yuge', 'yuuuge', 'zapatistas', 'zoomies', 'zuck']\n"
     ]
    }
   ],
   "source": [
    "growth_words = pd.read_csv('../../data/frequency/growth_words/2015_2016_growth_words_clean.csv', index_col=False)\n",
    "growth_words = growth_words['words'][0].split('/')\n",
    "print(len(growth_words))\n",
    "print(sorted(growth_words))"
   ]
  },
  {
   "cell_type": "code",
   "execution_count": 3,
   "metadata": {
    "collapsed": false
   },
   "outputs": [
    {
     "name": "stdout",
     "output_type": "stream",
     "text": [
      "1166\n",
      "['abetted', 'abjectly', 'accosting', 'acidosis', 'acks', 'acquiescing', 'adblocker', 'adblockers', 'adhesions', 'adlibs', 'adventurism', 'af', 'airburst', 'airdrop', 'airdrops', 'airgun', 'algs', 'altspace', 'amalgamate', 'ammos', 'anglerfish', 'anhydrous', 'anology', 'anotha', 'antifa', 'antinatalism', 'antinatalist', 'antiquarian', 'antiwar', 'apportion', 'apportioned', 'arranger', 'asf', 'assinine', 'asst', 'astroturfers', 'async', 'atm', 'attesting', 'augs', 'autism', 'automagically', 'aviable', 'awaking', 'ayye', 'babyyy', 'backdated', 'backlink', 'backpay', 'backported', 'backtracks', 'badman', 'baity', 'balloting', 'banrate', 'bantz', 'bartard', 'bby', 'beasting', 'beatdown', 'beatdowns', 'beaut', 'bec', 'beep', 'believeth', 'belter', 'belters', 'berthing', 'biebs', 'binged', 'binging', 'bioload', 'birther', 'bitting', 'blackscreen', 'blathers', 'blendable', 'blep', 'blockable', 'blocker', 'blockers', 'blowout', 'blowouts', 'blustering', 'blustery', 'bodying', 'boi', 'bois', 'bombast', 'boomin', 'boop', 'booped', 'booping', 'boops', 'bootloop', 'bork', 'botter', 'botters', 'botting', 'bottlers', 'bourgeoisie', 'boutta', 'bpd', 'bpds', 'brainz', 'bralette', 'bralettes', 'bricked', 'bricking', 'britpop', 'broads', 'brobots', 'brolly', 'broo', 'brownshirts', 'brownstone', 'brownstones', 'brushstrokes', 'bruv', 'btfo', 'buckaroo', 'buckaroos', 'bucko', 'buildable', 'buildables', 'bullshittery', 'buoyed', 'bused', 'businessperson', 'bussy', 'buzzy', 'calamitous', 'callable', 'camara', 'cammer', 'cammie', 'camo', 'camos', 'caregiving', 'carpetbagger', 'casteism', 'cellspot', 'certitude', 'chalking', 'cheekily', 'chicky', 'chintzy', 'choreo', 'chum', 'chummy', 'ciggies', 'clickbaity', 'cloister', 'clowned', 'clunkiness', 'coagulate', 'colicky', 'collab', 'collabs', 'collectivists', 'colorism', 'colorscheme', 'comeup', 'commodified', 'compy', 'conection', 'confederalism', 'confidante', 'conning', 'consonance', 'constabulary', 'contestable', 'contortion', 'contrivances', 'convo', 'convolutional', 'cooch', 'coroutines', 'corporatist', 'corporatists', 'cosleep', 'couchpotato', 'couldve', 'counterintelligence', 'counterpunch', 'courseload', 'courtly', 'crampons', 'crashlands', 'creamers', 'credentialed', 'creds', 'cresting', 'crikey', 'criminalizes', 'cringefest', 'cringeworthy', 'cringey', 'cringiest', 'cringy', 'crit', 'critchance', 'cronies', 'crony', 'crosscheck', 'crosscut', 'crossplay', 'crossrail', 'crypto', 'cuck', 'cucked', 'cuckhold', 'cucking', 'cuckold', 'cuckoldry', 'cuckolds', 'cucks', 'cuckservative', 'cuckservatives', 'cultivators', 'cummies', 'cummy', 'daaamn', 'daamn', 'dab', 'dabbed', 'dabbing', 'dabs', 'dailies', 'dailys', 'dammmn', 'damnn', 'damnnn', 'datapoints', 'daypack', 'dboy', 'deadass', 'debited', 'debuffed', 'debuffer', 'debuffing', 'debuffs', 'decarb', 'decarbed', 'deciders', 'declassify', 'decongestant', 'decrypting', 'deduplication', 'deflectors', 'defo', 'deforest', 'delerium', 'destress', 'dgaf', 'dicked', 'dicker', 'diffs', 'digestives', 'dilettante', 'dimmable', 'disavowing', 'disavows', 'discombobulated', 'disrupters', 'dmg', 'dming', 'dms', 'doesent', 'doggo', 'dogshit', 'dogwhistle', 'dollarydoos', 'dommes', 'dop', 'dops', 'dosing', 'doublecast', 'downclocking', 'downed', 'downlow', 'downrange', 'draftable', 'drawstrings', 'drooped', 'droprate', 'droprates', 'dropshipping', 'dumpstered', 'dup', 'duped', 'dups', 'dutchies', 'dutchy', 'dyslexics', 'earing', 'earings', 'earworm', 'eccentrics', 'edgelord', 'edgelords', 'edgey', 'edgy', 'effector', 'effectual', 'effusive', 'egret', 'electorally', 'elopement', 'embalmed', 'emo', 'emojis', 'emplacement', 'emulations', 'endos', 'energizes', 'ennemies', 'entirity', 'equalities', 'espically', 'estrangement', 'estrogens', 'eta', 'evac', 'evangelicalism', 'expedience', 'explodey', 'expropriated', 'expy', 'eyestrain', 'facesitting', 'faceswap', 'factotum', 'faggoty', 'fah', 'fam', 'fanarts', 'fancam', 'fanfics', 'farmable', 'farmboy', 'farmed', 'farmhand', 'fatalist', 'fathead', 'favorables', 'favourable', 'feeemales', 'feeing', 'feelsbadman', 'feelsgoodman', 'feminizing', 'fest', 'fests', 'ffs', 'filers', 'firming', 'flappers', 'flashbang', 'floof', 'floofy', 'floozies', 'flopped', 'flopper', 'flowey', 'flowy', 'flubbing', 'flyovers', 'fmil', 'fml', 'fomo', 'footfalls', 'foreshortening', 'forgers', 'forgetti', 'foriegn', 'fracked', 'frackers', 'frameless', 'freeload', 'freeloaders', 'freeloading', 'friendo', 'frontliners', 'frontload', 'fsil', 'fucc', 'fuck', 'fuckbois', 'fuckery', 'fuckfuck', 'fucko', 'fucksticks', 'fucky', 'fuckyou', 'fug', 'func', 'funnelled', 'funnelling', 'funtime', 'furrowing', 'gaffs', 'galvanizing', 'gamemaker', 'gamethrowing', 'gangbanger', 'garbo', 'gaslighted', 'genned', 'genocided', 'genociding', 'genuinly', 'gfriend', 'ghosted', 'ghosting', 'ghosty', 'gilf', 'girlz', 'glitzy', 'gobs', 'gobsmacked', 'golly', 'goodjob', 'goof', 'goofs', 'goon', 'goons', 'gooo', 'gope', 'gopers', 'gotchu', 'grammy', 'grandbaby', 'grandmom', 'grassroot', 'gratefulness', 'grinded', 'grinding', 'gtfoh', 'guac', 'guesthouse', 'guilter', 'guilters', 'gumshoe', 'gurl', 'habibi', 'hafa', 'hahaa', 'hahhahaha', 'hammed', 'handheld', 'handholding', 'hapa', 'hapas', 'hapiness', 'hardmod', 'hardscoping', 'hasted', 'hattie', 'hatty', 'havent', 'havnt', 'headcannon', 'headcanon', 'headshot', 'heartthrob', 'hella', 'hellscape', 'helmetless', 'heyguys', 'highend', 'hisss', 'hitcount', 'hiting', 'hmu', 'hollers', 'homebrew', 'homebrewed', 'homelab', 'homie', 'honeymooned', 'hoodrats', 'hopefulness', 'hotswap', 'howww', 'huffpo', 'huffpost', 'huhu', 'hunty', 'husbando', 'husbandos', 'hussy', 'huuuge', 'hypebeast', 'hypebeasts', 'hyperfocus', 'illiberal', 'imao', 'immedietly', 'incel', 'incels', 'incivility', 'incompressible', 'indie', 'individualists', 'inequitable', 'influencer', 'influencers', 'ingrates', 'initialisms', 'injuried', 'insidiously', 'insta', 'instakilled', 'insufflated', 'insufflation', 'intergovernmental', 'internetisbeautiful', 'intrests', 'involvements', 'islamaphobe', 'islamaphobia', 'islamaphobic', 'islamization', 'islamophobe', 'islamophobia', 'islamophobic', 'islams', 'isolator', 'itemless', 'jabronis', 'jailbreakable', 'jailers', 'japed', 'jfc', 'jihadism', 'jittery', 'jobbed', 'keycap', 'killcam', 'killcams', 'killshot', 'knawledge', 'kys', 'laboured', 'lacerate', 'lackeys', 'lampooned', 'languished', 'lbr', 'leaners', 'leftism', 'leftist', 'leftists', 'lem', 'lenin', 'leninism', 'leninist', 'leninists', 'lesbos', 'libtards', 'lifehacks', 'likeability', 'lipsyncing', 'listers', 'lit', 'litterally', 'litteraly', 'lmao', 'lmaoo', 'lmaooo', 'lmfao', 'lmfaoo', 'lmfaooo', 'longneck', 'loo', 'lool', 'loool', 'loosies', 'lowkey', 'lowlight', 'lowlights', 'lul', 'lulling', 'lvling', 'lyin', 'manip', 'mansplaining', 'marketcap', 'mashers', 'masterworks', 'meaningfulness', 'measurables', 'mechanised', 'medevac', 'medpacks', 'meirl', 'meme', 'memed', 'memeing', 'memelord', 'memery', 'memes', 'memester', 'memetics', 'memey', 'meming', 'merced', 'mesmerize', 'metas', 'methylated', 'mgtow', 'microdose', 'microdosing', 'microtransactions', 'militarist', 'millenial', 'millenials', 'millennial', 'millennials', 'mils', 'minimax', 'minimises', 'minks', 'mishandle', 'mispoke', 'misquotes', 'misreported', 'misreporting', 'misspeak', 'mixtape', 'modalert', 'modmailing', 'modpost', 'mollies', 'mollys', 'monomyth', 'mooch', 'mooks', 'moonlights', 'moshpit', 'moslem', 'motherships', 'movembers', 'moviegoer', 'mudslinging', 'muling', 'multidisciplinary', 'multihit', 'multikill', 'multikills', 'multilayered', 'multipart', 'multiversal', 'muncher', 'munchers', 'murdery', 'murked', 'muzzies', 'naded', 'naiive', 'nailbiter', 'nakedly', 'nands', 'nanoscience', 'nationhood', 'nativism', 'naturopath', 'naturopathic', 'naturopaths', 'naturopathy', 'neet', 'neocon', 'neocons', 'nerdy', 'neurodiversity', 'ngl', 'nibs', 'nimbly', 'nimby', 'nimbys', 'nonbinary', 'nonmagical', 'nonstarter', 'nontoxic', 'nonviable', 'nonwhite', 'nonwhites', 'nooch', 'novelizations', 'npcs', 'nuker', 'nukers', 'numba', 'numbah', 'nutted', 'nuzzled', 'observables', 'obstructionists', 'obviosuly', 'ofc', 'offshoring', 'omf', 'oneshot', 'oneshots', 'oped', 'opiod', 'opiods', 'opioid', 'opioids', 'ortho', 'otp', 'otps', 'outshot', 'outspending', 'outspent', 'overbought', 'overdrafts', 'overemphasize', 'overheal', 'overlanding', 'overperform', 'overperformed', 'overperforming', 'oversharing', 'oversleeping', 'overstays', 'overstuffed', 'oversubscribed', 'overtrain', 'packable', 'pantsuit', 'parlament', 'partys', 'pastafarian', 'pastafarianism', 'pastafarians', 'pasting', 'patois', 'pawpaw', 'paywall', 'pdq', 'pedigrees', 'peekers', 'peeper', 'pep', 'pepperspray', 'percenter', 'perf', 'perhpas', 'perjured', 'persuader', 'perturbator', 'pervading', 'pewds', 'philandering', 'phonebanking', 'pickable', 'pigsty', 'pikey', 'pillager', 'pinchy', 'platinumed', 'playrate', 'playspace', 'plinth', 'plumping', 'pmd', 'polarisation', 'polarizes', 'polypropylene', 'poots', 'possibe', 'postcolonial', 'postmarked', 'potentiates', 'pourover', 'pple', 'pragmatics', 'prattling', 'preciate', 'precip', 'prefaces', 'prehab', 'primitivism', 'prioritises', 'proced', 'procedurals', 'prodrug', 'proletariat', 'provisioner', 'psychs', 'pupper', 'puppers', 'purp', 'purps', 'pushback', 'pussys', 'putback', 'pvping', 'pwned', 'qotd', 'quantums', 'qubits', 'quickdraw', 'quickstart', 'quippy', 'rabbithole', 'ragdolled', 'ragequitting', 'rando', 'randoms', 'randos', 'ransomware', 'rapidfire', 'readded', 'realigning', 'reallocating', 'recalibrating', 'recked', 'reclass', 'reclassed', 'reclassing', 'recomping', 'reconditioning', 'recyclers', 'redial', 'reentered', 'refi', 'reformulation', 'regressives', 'rehosted', 'reincarnating', 'repacked', 'repacking', 'repeatably', 'repub', 'reraise', 'rerunning', 'resettling', 'resistible', 'respeck', 'respek', 'resubmit', 'retrofits', 'retweeted', 'retweets', 'reupload', 'reuploaded', 'revite', 'rlly', 'rmv', 'rn', 'roguish', 'roomscale', 'ropey', 'roughnecks', 'royalists', 'rt', 'rump', 'saaame', 'saddly', 'safespace', 'safespot', 'safezone', 'sameee', 'sandbagging', 'savage', 'savagery', 'savescum', 'savescumming', 'scaleable', 'scanlations', 'scannable', 'scapegoated', 'scaremongering', 'scatterer', 'schizoid', 'schmeckles', 'schmoozing', 'scootaloo', 'scoresheet', 'scrams', 'screencapping', 'screentime', 'scrounger', 'scumming', 'seaworthy', 'secs', 'segmenting', 'sekrit', 'semblances', 'semicircle', 'sexting', 'shadiness', 'shadowboxing', 'shakeup', 'shambolic', 'sharts', 'shieldbearer', 'shill', 'shilled', 'shilling', 'shills', 'shipper', 'shippers', 'shitbot', 'shitfest', 'shitlord', 'shitlords', 'shitpost', 'shitposted', 'shitposter', 'shitposters', 'shitposting', 'shitposts', 'shitshow', 'shitshows', 'shortlisted', 'shotgunner', 'shotgunners', 'shotted', 'shotting', 'shouldnt', 'shtick', 'sideload', 'sideloaded', 'sideloading', 'siiick', 'sinergy', 'skellies', 'skidrow', 'slabbed', 'sleuths', 'slithers', 'slog', 'slurps', 'smashy', 'smd', 'smdh', 'smh', 'smol', 'smth', 'smthing', 'snacky', 'snakey', 'snarking', 'snek', 'sneks', 'snoot', 'socketing', 'softban', 'softies', 'softshell', 'soldiered', 'soneone', 'soopers', 'sorc', 'soundbyte', 'soundbytes', 'soundcards', 'spammer', 'spawner', 'spawners', 'spergs', 'spiciest', 'spinned', 'squaddie', 'squanch', 'srpgs', 'staffy', 'stanning', 'stap', 'stat', 'stationing', 'statted', 'stenographer', 'stickered', 'stickied', 'stickying', 'stim', 'stimmed', 'stonewalled', 'stonewalling', 'streamables', 'stunlocked', 'stunners', 'sublets', 'subpixel', 'subtheme', 'succ', 'succotash', 'suicider', 'suiciders', 'summonable', 'sumptuous', 'sunlit', 'sunnier', 'superhot', 'superlist', 'superstate', 'supps', 'supress', 'supression', 'swifties', 'swingy', 'synergized', 'synth', 'systolic', 'sysupdater', 'tankie', 'tankier', 'tankies', 'tarrifs', 'tbf', 'tbh', 'tbis', 'tbqh', 'tbt', 'teamkills', 'telegrams', 'tesseracts', 'theatrically', 'theocrat', 'theyd', 'theyll', 'theyre', 'theyve', 'tho', 'thoe', 'thoroughly', 'thrifted', 'thta', 'thumper', 'thumpers', 'tiddies', 'tiering', 'tierlist', 'tldw', 'tmw', 'toot', 'tooty', 'tradies', 'trama', 'transness', 'trappy', 'trashing', 'triggered', 'tropey', 'trouncing', 'trynna', 'tweet', 'twink', 'twinking', 'twinks', 'twinky', 'twinned', 'udf', 'ultrawide', 'unbias', 'uncharismatic', 'uncloak', 'uncrackable', 'uncured', 'underachieved', 'undercosted', 'undereyes', 'underlay', 'underoos', 'underperforming', 'underplaying', 'unduped', 'unfavorability', 'unfavored', 'unflappable', 'unfuck', 'unfuckable', 'unfucked', 'unhackable', 'unisex', 'unkillable', 'unlistenable', 'unmastered', 'unmissable', 'unpromoted', 'unstickied', 'unsticky', 'unsubstantial', 'untagged', 'untangled', 'untended', 'untimed', 'untruth', 'unupgraded', 'unviable', 'unwatchable', 'unwearable', 'updrafts', 'upheavals', 'uppers', 'userprofile', 'usurpation', 'vainly', 'veiling', 'veterancy', 'vetted', 'vetting', 'vibing', 'vid', 'vids', 'viewbots', 'viewbotting', 'viz', 'vlog', 'vlogging', 'vlogs', 'voluntarism', 'volunteerism', 'waddup', 'waffled', 'wagged', 'walkies', 'wapo', 'weaponised', 'webcast', 'weeb', 'weebs', 'wehraboo', 'wehraboos', 'wewlad', 'wfh', 'whaddup', 'whap', 'whelmed', 'whitesplaining', 'whitout', 'wht', 'winglets', 'woild', 'wonk', 'wonks', 'worlders', 'wouldnt', 'wowie', 'wowow', 'wth', 'wubs', 'wutface', 'wuz', 'xans', 'xenophobe', 'xenophobes', 'xers', 'xps', 'yaas', 'yas', 'yasss', 'yday', 'yknow', 'yolos', 'youtubers', 'yt', 'yuge', 'zapatistas', 'zoomies', 'zuck']\n"
     ]
    }
   ],
   "source": [
    "# filter words for embedding vocab\n",
    "embeddings = Word2Vec.load_word2vec_format('../../data/embeddings/2015-06_wang2vec_100_5_embeddings', binary=True)\n",
    "embedding_vocab = set(embeddings.vocab.keys())\n",
    "growth_words = list(set(growth_words) & embedding_vocab)\n",
    "print(len(growth_words))\n",
    "print(sorted(growth_words))"
   ]
  },
  {
   "cell_type": "code",
   "execution_count": 4,
   "metadata": {
    "collapsed": true
   },
   "outputs": [],
   "source": [
    "# match growth words\n",
    "def match_word(tf_w, tf):\n",
    "    match = abs(tf_w - tf).argmin()\n",
    "    return match\n",
    "def match_words(words, tf, candidates=None):\n",
    "    if(candidates is None):\n",
    "        candidates = set(tf.index) - set(words)\n",
    "    candidate_tf = tf.loc[candidates]\n",
    "    matches = []\n",
    "    for i, w in enumerate(words):\n",
    "        tf_w = tf.loc[w]\n",
    "        match = match_word(tf_w, candidate_tf)\n",
    "        # get rid of match\n",
    "        candidate_tf.drop(match, inplace=True)\n",
    "        matches.append(match)\n",
    "        if(i % 100 == 0):\n",
    "            print(i)\n",
    "    return matches"
   ]
  },
  {
   "cell_type": "code",
   "execution_count": 10,
   "metadata": {
    "collapsed": false
   },
   "outputs": [
    {
     "name": "stdout",
     "output_type": "stream",
     "text": [
      "0\n",
      "100\n",
      "200\n",
      "300\n",
      "400\n",
      "500\n",
      "600\n",
      "700\n",
      "800\n",
      "900\n",
      "1000\n",
      "1100\n",
      "0.085 sec/word\n"
     ]
    }
   ],
   "source": [
    "# TODO: cut down candidates with Spearman??\n",
    "# correls = pd.read_csv('../../data/frequency/2015_2016_tf_correls.tsv', sep='\\t', index_col=0)\n",
    "# non_growth_upper = 0.3\n",
    "# candidates = correls[correls['correl'] <= non_growth_upper].index.tolist()\n",
    "# match_words = match_words(growth_words, tf_2015_2016.ix[:,0], candidates=candidates)\n",
    "tf_2015_2016 = pd.read_csv('../../data/frequency/2015_2016_tf_norm.tsv', sep='\\t', index_col=0)\n",
    "from time import time\n",
    "start = time()\n",
    "tf_2015_2016_valid = tf_2015_2016.ix[embedding_vocab, 0]\n",
    "candidates = set(tf_2015_2016_valid.index) - set(growth_words)\n",
    "matched_words = match_words(growth_words, tf_2015_2016_valid, candidates)\n",
    "print('%.3f sec/word'%((time() - start) / len(matched_words)))"
   ]
  },
  {
   "cell_type": "code",
   "execution_count": 11,
   "metadata": {
    "collapsed": false
   },
   "outputs": [
    {
     "name": "stdout",
     "output_type": "stream",
     "text": [
      "1166\n",
      "1166\n",
      "[u'droped', u'leases', u'wans', u'venden', u'machs', u'globbyy', u'rbf', u'vivillion', u'engg', u'bips', u'sunbeams', u'tyre', u'zucker', u'protags', u'ofte', u'leroux', u'kiloton', u'magickal', u'accually', u'lovecas', u'salad', u'ugghhh', u'mifi', u'trickery', u'televangelists', u'afterglow', u'biab', u'stormtrance', u'dashboard', u'uptiered', u'torched', u'pariston', u'conciously', u'gastroparesis', u'halbs', u'tresspassing', u'exonerating', u'haran', u'majid', u'footnotes', u'rechecking', u'platt', u'knc', u'astroglide', u'ravenously', u'susana', u'pursuit', u'tillamook', u'siete', u'brutal', u'loren', u'deepthroating', u'kinsella', u'ciudades', u'torpedoes', u'zob', u'alai', u'rifting', u'fishbone', u'jera', u'goggins', u'coke', u'maata', u'tsukai', u'gnr', u'tamara', u'voicework', u'aaannd', u'cashews', u'shaitan', u'varient', u'starfleet', u'westy', u'ptr', u'precluding', u'dragonbone', u'miia', u'irt', u'colonnade', u'dnr', u'emg', u'nibbling', u'alexandrian', u'ergot', u'joyner', u'sterben', u'deterministically', u'skyfall', u'nrt', u'misophonia', u'graag', u'dedupe', u'bazz', u'hac', u'bankrupts', u'letro', u'psat', u'jobmine', u'machu', u'documentaries', u'candlejack', u'iss', u'lapierre', u'armenia', u'martz', u'essie', u'violette', u'kida', u'nettle', u'krayt', u'comstock', u'herndon', u'hastag', u'foreal', u'gromm', u'giolito', u'lcsw', u'gwo', u'hierophant', u'scrolled', u'fis', u'wickedly', u'steamanalyst', u'beckmans', u'denoting', u'hardshell', u'cadres', u'garvin', u'expeditionary', u'sylvania', u'hydrate', u'probabilistic', u'nichushkin', u'miyako', u'ggez', u'kegging', u'nixie', u'irreversible', u'firelight', u'mpe', u'sexus', u'kurupt', u'brownells', u'ranted', u'abba', u'mountie', u'narrate', u'lattimore', u'fim', u'dybala', u'pharisee', u'thrace', u'eradicated', u'mereen', u'transact', u'trio', u'highpass', u'momment', u'whirlipede', u'dng', u'colombians', u'nightblood', u'pratar', u'petrification', u'birdwatching', u'mariokart', u'smashers', u'reining', u'wonderbread', u'boren', u'eyeholes', u'mishra', u'pavilions', u'undeads', u'dni', u'piloswine', u'sociopaths', u'ird', u'legumes', u'kjenner', u'uruks', u'biafra', u'shelmet', u'callahan', u'touchline', u'barbaracle', u'cerebro', u'bygger', u'emulsions', u'nevill', u'uop', u'caskets', u'yeni', u'eikaiwa', u'delen', u'colfer', u'ingrid', u'represents', u'sanctimony', u'brindle', u'big', u'redirection', u'creo', u'httt', u'unified', u'syringes', u'unstick', u'amda', u'kogan', u'perfekt', u'rescaled', u'belk', u'kiya', u'bou', u'cyoa', u'pateryn', u'hofstra', u'quesarito', u'thaat', u'bratz', u'iia', u'clumsiness', u'lenny', u'harmor', u'metamorphoses', u'starbow', u'gosick', u'tourist', u'coupla', u'moderns', u'npsl', u'buspar', u'broward', u'perforations', u'videodrome', u'edibles', u'barbri', u'mayes', u'akantor', u'triton', u'americanised', u'saria', u'iheanacho', u'adventist', u'hepa', u'crackdowns', u'teamless', u'wholemeal', u'lorien', u'irv', u'ouroboros', u'casualness', u'nicu', u'twerking', u'spielman', u'honeslty', u'smallwood', u'critted', u'shiii', u'yogg', u'shakib', u'juicebox', u'vgr', u'partial', u'borla', u'exclaimed', u'periodic', u'norcos', u'nrf', u'enkei', u'dowager', u'brawny', u'boudica', u'smoggy', u'dijeron', u'downstairs', u'osheaga', u'hulkster', u'combinatorial', u'uprise', u'fluorite', u'wacky', u'morbius', u'existentialist', u'hooray', u'witb', u'artem', u'naito', u'uryuu', u'kojipro', u'manor', u'upstream', u'scarification', u'incrimination', u'glee', u'robo', u'pelagos', u'romita', u'prostrate', u'amph', u'jebs', u'freebooting', u'volta', u'frr', u'lundquist', u'whalen', u'thumbsup', u'communists', u'calidad', u'isntead', u'nro', u'chiaotzu', u'supermodel', u'mtsu', u'destabilised', u'mcgonagall', u'incinerator', u'forwarder', u'megaminx', u'cms', u'kring', u'socrethar', u'breedables', u'haslam', u'granade', u'varje', u'chokers', u'rby', u'deadheads', u'coiling', u'fluster', u'chewie', u'sayaka', u'sym', u'jawing', u'periodicals', u'mile', u'deles', u'unarguable', u'morgan', u'finkel', u'sixx', u'trialled', u'jeri', u'traction', u'kaputt', u'mcchickens', u'stalled', u'wesa', u'marik', u'fii', u'amerinide', u'uselessness', u'squatty', u'hardforks', u'gimple', u'pushrod', u'lyonar', u'bellemare', u'humour', u'mesmerising', u'francis', u'indebted', u'gnw', u'arado', u'vegapunk', u'ramps', u'thaan', u'madstone', u'affix', u'ngp', u'stargaze', u'hovind', u'aurors', u'echoes', u'sensitivity', u'unterhaltsam', u'inositol', u'ayami', u'garanteed', u'preliminaries', u'lameness', u'dathomir', u'cardioid', u'inexplicable', u'haw', u'cvn', u'zonked', u'labradors', u'zerged', u'chopsticks', u'emotions', u'catmull', u'fuso', u'indestructible', u'snacking', u'zlatan', u'unconditionally', u'rediscovery', u'depreciate', u'provably', u'shivas', u'cmo', u'fiduciary', u'thrashing', u'condones', u'undefined', u'guildenstern', u'undodgeable', u'dnt', u'facemasks', u'csa', u'ferromagnetic', u'woking', u'zander', u'foretelling', u'orakpo', u'absalom', u'orcane', u'tennants', u'metrodome', u'sggs', u'brukt', u'hitmontop', u'tonic', u'clotheslines', u'brietbart', u'lipo', u'sequestering', u'lookie', u'tibs', u'losin', u'mathewson', u'richelle', u'mathing', u'watchmakers', u'seraphin', u'waterboard', u'tensioned', u'precedent', u'hdrip', u'worte', u'gae', u'aganist', u'aec', u'mija', u'ambiente', u'onces', u'spygate', u'rematcher', u'assimilated', u'fuera', u'indiscretion', u'heenan', u'mcgloin', u'mazzy', u'myocardial', u'alessandra', u'platy', u'curiouser', u'wildcat', u'christ', u'raised', u'tomkins', u'unter', u'perfumed', u'vbox', u'suplexing', u'peculiarities', u'mistrustful', u'bitpay', u'crus', u'jbls', u'cmf', u'hugz', u'scenic', u'taqiyya', u'quaithe', u'signifigant', u'babar', u'apfsds', u'icewall', u'isic', u'apsc', u'cavanaugh', u'opta', u'depraved', u'njd', u'aerion', u'notepad', u'wano', u'raidou', u'clotted', u'vibrational', u'qooapp', u'stringy', u'artes', u'littres', u'vorthos', u'coliseum', u'creat', u'fbb', u'fif', u'camps', u'sodom', u'commandant', u'airball', u'km', u'subraces', u'hazing', u'willful', u'kilgore', u'mexes', u'spellbinding', u'pinoy', u'lavas', u'boneshaker', u'flordia', u'poate', u'orlovsky', u'squaw', u'gitignore', u'alguns', u'disadvantages', u'laine', u'mcnamara', u'ahriman', u'cima', u'chillers', u'christology', u'munroe', u'ibb', u'kns', u'sansan', u'nichiren', u'hjelpe', u'afte', u'entitled', u'jrs', u'wohooo', u'repotting', u'droppin', u'bludgeons', u'automating', u'nighthawk', u'qtips', u'dobar', u'shacked', u'inty', u'explored', u'marriageable', u'hovered', u'aeo', u'upthread', u'wazzu', u'wilco', u'influencial', u'compaction', u'unready', u'generously', u'humbles', u'cmg', u'srssucks', u'gunnitbot', u'humalog', u'moneyless', u'tortie', u'perished', u'cursed', u'shurmur', u'mcgarry', u'clairefontaine', u'hurin', u'thyrus', u'wmt', u'ramstein', u'liveship', u'monopole', u'retaliatory', u'dnf', u'evgeny', u'rayon', u'pregnancies', u'villarreal', u'avexir', u'barkov', u'euston', u'spams', u'elwynn', u'seizures', u'disheveled', u'redoubt', u'jenna', u'windia', u'tked', u'ofta', u'steadying', u'soka', u'rezz', u'schmitz', u'commo', u'sitio', u'kizer', u'unrehearsed', u'emmon', u'henning', u'abbi', u'pup', u'periodization', u'hawkes', u'pollan', u'disparages', u'stl', u'mixdown', u'mev', u'colorized', u'disparagement', u'revelant', u'otherway', u'preying', u'circumcised', u'fails', u'forehand', u'byomkesh', u'peters', u'nightstalkers', u'snakk', u'svega', u'programmatic', u'readability', u'bonecrusher', u'chyba', u'khem', u'freebirds', u'nubian', u'grana', u'sanitization', u'teavana', u'povetkin', u'yogs', u'keatley', u'landau', u'hemorrhoids', u'dwells', u'pubbie', u'grint', u'notting', u'inti', u'kandahar', u'ofr', u'mccray', u'finest', u'kirkpatrick', u'duckworth', u'canonicity', u'wubrg', u'stackhouse', u'wubba', u'desi', u'pims', u'manningface', u'exposes', u'lacroix', u'natura', u'etext', u'raper', u'eyedea', u'sumi', u'bija', u'fiu', u'sharer', u'carth', u'dasanfall', u'machinima', u'georgina', u'wuuut', u'fawk', u'chaim', u'glendening', u'nikolai', u'tchaikovsky', u'septimus', u'amdgpu', u'sufis', u'bombings', u'historian', u'fetchable', u'bakelite', u'honeybee', u'seuss', u'sye', u'natuurlijk', u'zakum', u'orgrim', u'sexpats', u'montclair', u'nila', u'capably', u'rylance', u'gorman', u'pikachu', u'cubism', u'espns', u'blowdry', u'iger', u'macaroon', u'keyan', u'longinus', u'raygun', u'hono', u'touchdowns', u'haruspex', u'lyoko', u'doctype', u'brontos', u'uscf', u'mapo', u'cantha', u'cordoned', u'selden', u'peshawar', u'excersise', u'breville', u'westbrooks', u'fabolous', u'momonga', u'consoled', u'jif', u'farnham', u'katia', u'slayin', u'olineman', u'theoddone', u'mthfr', u'zeon', u'chiyo', u'rages', u'priori', u'gui', u'broadsword', u'crewe', u'shooty', u'cleanliness', u'jehova', u'festus', u'protos', u'mangos', u'imgs', u'reconciling', u'rbk', u'vickers', u'carnivores', u'evrytiem', u'mccloskey', u'fru', u'stimulant', u'bonzai', u'dolomite', u'distances', u'vinegar', u'testerkorea', u'mrsa', u'personae', u'wmf', u'gillar', u'jds', u'pansear', u'unimas', u'repudiation', u'lexol', u'workpiece', u'iri', u'heyman', u'hamiltons', u'immobilizing', u'roina', u'eery', u'blatt', u'retyping', u'aphra', u'sondheim', u'buttoning', u'hussle', u'chutiyas', u'mossadegh', u'thiiink', u'ristolainen', u'manon', u'uncharacteristically', u'evicting', u'liebe', u'knowyourmeme', u'osan', u'resync', u'danske', u'pregabalin', u'kronor', u'headsets', u'volke', u'tsun', u'toybox', u'alipay', u'prisoner', u'garner', u'clojurescript', u'jie', u'sickeningly', u'mundi', u'chainwax', u'toledo', u'lesner', u'karta', u'mustachioed', u'abject', u'janitor', u'arty', u'hvilken', u'veela', u'alibris', u'assorted', u'malaya', u'durango', u'officials', u'rescuing', u'redeployment', u'multitrack', u'felder', u'uranium', u'roblox', u'rutherford', u'narayan', u'gundam', u'reagents', u'fashionably', u'oaths', u'decanting', u'erick', u'codeword', u'emv', u'connectwise', u'rolster', u'retells', u'carmilla', u'zog', u'discomforts', u'trollers', u'huffy', u'cgs', u'viewings', u'buckshot', u'thompson', u'sao', u'garchomp', u'petri', u'eugenio', u'gaffe', u'dialed', u'janikowski', u'executed', u'afraid', u'brassard', u'etiz', u'paytm', u'lagan', u'hpb', u'breadbasket', u'exclusions', u'mayer', u'buttload', u'pashtun', u'igglybuff', u'evolutionist', u'sektor', u'obsessiveness', u'catherby', u'kem', u'rejoiced', u'murasame', u'shitstomped', u'colum', u'sensitively', u'taillon', u'redouble', u'damnit', u'catalonian', u'thinktank', u'kantor', u'bharati', u'stalagg', u'leached', u'psychosomatic', u'sliske', u'sargasso', u'afo', u'volte', u'susann', u'arstotzka', u'marta', u'kearns', u'synagogue', u'windfalls', u'cuddly', u'gradeaundera', u'ozium', u'replacer', u'beezus', u'vomits', u'meus', u'mui', u'upgradeability', u'cups', u'narukami', u'miniclip', u'roald', u'votto', u'inwardly', u'yayo', u'swellow', u'securing', u'jerb', u'watercolour', u'trotskyists', u'nut', u'prizing', u'dameron', u'mirage', u'vertices', u'ahmet', u'dsmash', u'iwork', u'mane', u'hav', u'gerbils', u'shakti', u'battlefleet', u'shunning', u'beheading', u'norv', u'siskel', u'kelman', u'propellants', u'fentanyl', u'rabe', u'chandigarh', u'ases', u'salvages', u'busybody', u'flipflops', u'oldies', u'yeun', u'godsend', u'grieving', u'memebers', u'frq', u'kayaba', u'limping', u'refiners', u'maction', u'fio', u'fort', u'krays', u'thompkins', u'inimitable', u'myung', u'aadhar', u'drenching', u'lynette', u'thundaga', u'electron', u'unesco', u'intro', u'snc', u'calhanoglu', u'yeay', u'nozaki', u'miseries', u'tiniest', u'mandi', u'canterlot', u'hau', u'gjoni', u'windowing', u'swabbing', u'elementalist', u'rechargable', u'pomades', u'frood', u'omake', u'oils', u'spirulina', u'workgroup', u'snax', u'instr', u'microtech', u'nobbel', u'ineffectively', u'voldermort', u'babbage', u'dorfs', u'fondled', u'iro', u'espescially', u'twox', u'hydrazine', u'babywearing', u'bud', u'kellerman', u'enrolled', u'dingit', u'chinups', u'kronwall', u'kep', u'shitstorms', u'satires', u'scotts', u'garble', u'reprocessing', u'freire', u'nss', u'orms', u'maintenances', u'sculpt', u'jip', u'propagandizing', u'resourceful', u'lurches', u'indycar', u'zor', u'bogs', u'emhyr', u'bree', u'christus', u'carruth', u'celebs', u'armello', u'revolutionized', u'stabby', u'bibliographies', u'ttip', u'nsh', u'booky', u'dozer', u'rubric', u'adaptable', u'baristas', u'eneloop', u'qmjhl', u'reiterating', u'encyclical', u'ohv', u'aghanims', u'tynamo', u'dgpu', u'bouche', u'niners', u'steelhead', u'toning', u'clary', u'legalese', u'nome', u'interactions', u'biopics', u'pains', u'metaprogramming', u'firenze', u'issac', u'numeral', u'atwater', u'bogglingly', u'colorblindness', u'troubadour', u'doflamingo', u'nibbana', u'aventures', u'giacomo', u'recombination', u'attacke', u'jaysh', u'vespiquen', u'hastega', u'flamers', u'duncans', u'sujet', u'weigl', u'sie', u'idleness', u'targa', u'yayy', u'resumen', u'cobblers', u'pfa', u'pum', u'btsync', u'cespy', u'vossler', u'yannick', u'foolin', u'amyr', u'mutineers', u'silicones', u'dida', u'antler', u'deductible', u'bombshells', u'toughness', u'tortas', u'welll', u'kef', u'vhp', u'saiyans', u'overmatch', u'usecase', u'ghostfire', u'wonderboy', u'giantess', u'guapo', u'gewissen', u'tumble', u'heroscape', u'panderer', u'jere', u'mapquest', u'collided', u'megawatts', u'makoto', u'dail', u'genre', u'curbs', u'starkville', u'gpgpu', u'fellers', u'cubo', u'wurtzel', u'erh', u'guanajuato', u'sleepwalkers', u'maersk', u'pigment', u'cogliano', u'corporately', u'usefullness', u'politic', u'produkt', u'hogyoku', u'lokis', u'cataplexy', u'unfavourable', u'forrester', u'iwas', u'antagonizes', u'elr', u'staters', u'majespecters', u'brainwashes', u'blabbed', u'sidesteps', u'poza', u'adament', u'jarry', u'cashback', u'earthlike', u'fallin', u'fredrik', u'warmongering', u'islamist', u'nicholls']\n"
     ]
    }
   ],
   "source": [
    "print(len(matched_words))\n",
    "print(len(set(matched_words)))\n",
    "print(matched_words)"
   ]
  },
  {
   "cell_type": "markdown",
   "metadata": {},
   "source": [
    "Get neighbor frequency."
   ]
  },
  {
   "cell_type": "code",
   "execution_count": 48,
   "metadata": {
    "collapsed": false
   },
   "outputs": [
    {
     "name": "stdout",
     "output_type": "stream",
     "text": [
      "                                                  2015-06\n",
      "aa      [2.77175801292e-06, 0.0001742480494, 0.0001445...\n",
      "aaa     [3.6888931792e-07, 1.41577176153e-06, 1.042303...\n",
      "aaages  [5.32752497004e-05, 6.24822182628e-06, 3.33272...\n",
      "aaagh   [2.22605622883e-06, 3.96874024797e-07, 3.72705...\n",
      "aaah    [2.79338255915e-05, 2.0098107666e-06, 2.172122...\n"
     ]
    }
   ],
   "source": [
    "# get neighbor frequency\n",
    "from ast import literal_eval\n",
    "# all_neighbors = pd.read_csv('../../data/embeddings/2015-06_wang2vec_100_5_nearest_neighbors.tsv', sep='\\t', index_col=0)\n",
    "# all_neighbors = all_neighbors.apply(lambda x: list(x.apply(lambda y: literal_eval(y)[0])), axis=1)\n",
    "# print(all_neighbors.head())\n",
    "neighbor_tf = pd.read_csv('../../data/frequency/2015-06_neighbor_2015-06_tf_norm.tsv', sep='\\t', index_col=0)\n",
    "neighbor_tf.columns = sorted(tf_2015_2016.columns)[:neighbor_tf.shape[1]]\n",
    "neighbor_tf = neighbor_tf.applymap(literal_eval)\n",
    "print(neighbor_tf.head())"
   ]
  },
  {
   "cell_type": "code",
   "execution_count": 21,
   "metadata": {
    "collapsed": false
   },
   "outputs": [
    {
     "data": {
      "text/plain": [
       "array([  2.77175801e-06,   1.74248049e-04,   1.44537195e-04,\n",
       "         5.89777697e-05,   2.56950490e-07,   1.22115085e-07,\n",
       "         2.11030130e-06,   7.31418475e-07,   1.78084498e-08,\n",
       "         1.09394763e-07])"
      ]
     },
     "execution_count": 21,
     "metadata": {},
     "output_type": "execute_result"
    }
   ],
   "source": [
    "pd.np.array(neighbor_tf.ix[0,0])"
   ]
  },
  {
   "cell_type": "code",
   "execution_count": 109,
   "metadata": {
    "collapsed": true
   },
   "outputs": [],
   "source": [
    "def get_stat_norm(neighbor_stat, stat):\n",
    "    all_dates = sorted(neighbor_stat.columns)\n",
    "    stat_norm = []\n",
    "    for d in all_dates:\n",
    "        neighbor_stat_d = neighbor_stat.ix[:, d].apply(lambda x: pd.Series(x))\n",
    "        stat_d = stat.ix[:, d]\n",
    "        neighbor_stat_d = neighbor_stat_d.div(stat_d, axis=0)\n",
    "        neighbor_stat_d = pd.Series(dict(zip(neighbor_stat_d.index, (r for r in neighbor_stat_d.values))))\n",
    "        stat_norm.append(neighbor_stat_d)\n",
    "    stat_norm = pd.concat(stat_norm, axis=1)\n",
    "    return stat_norm"
   ]
  },
  {
   "cell_type": "code",
   "execution_count": 115,
   "metadata": {
    "collapsed": false
   },
   "outputs": [],
   "source": [
    "def get_stat_summary(neighbor_stat, stat, summary_stat=pd.np.median):\n",
    "    \"\"\"\n",
    "    Normalize neighbor stats by corresponding\n",
    "    word stat, then compute summary stat over\n",
    "    normalized stats.\n",
    "    \"\"\"\n",
    "    stat_norm = get_stat_norm(neighbor_stat, stat)\n",
    "#     stat_median = stat_norm.applymap(pd.np.median)\n",
    "    stat_median = stat_norm.applymap(lambda x: summary_stat(pd.Series(x).dropna(inplace=False)))\n",
    "    stat_median.columns = sorted(neighbor_stat.columns)\n",
    "    return stat_median"
   ]
  },
  {
   "cell_type": "code",
   "execution_count": 116,
   "metadata": {
    "collapsed": false
   },
   "outputs": [],
   "source": [
    "# normalize by original term frequency, then get median\n",
    "all_words = growth_words + matched_words\n",
    "# print(neighbor_tf.loc[all_words[:100]].apply(lambda x: pd.np.array(x), axis=1).head())\n",
    "# neighbor_tf_norm = (neighbor_tf.loc[all_words[:5]].apply(lambda x: x.values[0], axis=1))\n",
    "# print(neighbor_tf_norm)\n",
    "# neighbor_tf_norm = []\n",
    "# all_dates = sorted(neighbor_tf.columns)\n",
    "# for d in all_dates:\n",
    "#     neighbor_tf_d = neighbor_tf.ix[all_words, d].apply(lambda x: pd.Series(x))\n",
    "# #     print(neighbor_tf_d.head())\n",
    "#     tf_d = tf_2015_2016.ix[all_words, d]\n",
    "# #     print(tf_d.head())\n",
    "#     neighbor_tf_d = neighbor_tf_d.div(tf_d, axis=0)\n",
    "#     # collapse to a list...again\n",
    "#     neighbor_tf_d = pd.Series(dict(zip(all_words, (r for r in neighbor_tf_d.values))))\n",
    "#     neighbor_tf_norm.append(neighbor_tf_d)\n",
    "# neighbor_tf_norm = pd.concat(neighbor_tf_norm, axis=1)\n",
    "# neighbor_tf_norm = get_stat_norm(neighbor_tf, tf_2015_2016)\n",
    "summary_stat = pd.np.median\n",
    "neighbor_tf_median = get_stat_summary(neighbor_tf.ix[all_words,:], tf_2015_2016.ix[all_words,:], summary_stat=summary_stat)\n",
    "# print(neighbor_tf_norm.head())\n",
    "# test_word = 'proletariat'\n",
    "# print(neighbor_tf_norm.loc[test_word])\n",
    "# print(neighbor_tf.ix[test_word, 0])\n",
    "# print(tf_2015_2016.ix[test_word, 0])\n",
    "# print(neighbor_tf.ix[test_word, 0] / tf_2015_2016.ix[test_word, 0])"
   ]
  },
  {
   "cell_type": "code",
   "execution_count": 117,
   "metadata": {
    "collapsed": false
   },
   "outputs": [
    {
     "name": "stdout",
     "output_type": "stream",
     "text": [
      "           2015-06\n",
      "aaannd   13.604167\n",
      "aadhar    5.151163\n",
      "abba      0.163265\n",
      "abbi      1.570175\n",
      "abetted   6.639241\n",
      "                 2015-06\n",
      "gopers        295.672131\n",
      "electorally   193.016129\n",
      "foriegn       189.907186\n",
      "worlders      187.031847\n",
      "unfucked      171.123853\n",
      "flordia       153.875000\n",
      "grandmom      149.795918\n",
      "pigsty        147.007692\n",
      "qotd          140.421512\n",
      "memebers      127.522727\n",
      "anology       100.601124\n",
      "naiive         91.510309\n",
      "leaners        89.513333\n",
      "intrests       83.023364\n",
      "trouncing      79.821429\n",
      "assinine       78.093333\n",
      "repub          74.213270\n",
      "nonwhites      74.129921\n",
      "capably        72.844086\n",
      "conection      71.887850\n",
      "cellspot       71.598214\n",
      "corporatists   69.847561\n",
      "flubbing       69.433333\n",
      "sexus          67.839286\n",
      "dogwhistle     67.143382\n",
      "thoe           64.146667\n",
      "veterancy      60.226415\n",
      "reentered      59.771605\n",
      "rechecking     57.565000\n",
      "rerunning      56.000000\n",
      "...                  ...\n",
      "sensitivity     0.076980\n",
      "camo            0.076395\n",
      "havent          0.074917\n",
      "shitpost        0.074535\n",
      "fort            0.069402\n",
      "eta             0.068624\n",
      "afraid          0.067173\n",
      "gundam          0.066434\n",
      "lit             0.059435\n",
      "notepad         0.056143\n",
      "tourist         0.054284\n",
      "homebrew        0.051638\n",
      "shill           0.047777\n",
      "headshot        0.047355\n",
      "intro           0.043881\n",
      "mane            0.041573\n",
      "lmao            0.040974\n",
      "christ          0.037634\n",
      "entitled        0.036849\n",
      "memes           0.036457\n",
      "rt              0.029630\n",
      "genre           0.025674\n",
      "edgy            0.024878\n",
      "fuck            0.023748\n",
      "mile            0.023742\n",
      "meme            0.019624\n",
      "bud             0.018024\n",
      "crit            0.017592\n",
      "trio            0.013479\n",
      "af              0.003280\n",
      "\n",
      "[2332 rows x 1 columns]\n"
     ]
    }
   ],
   "source": [
    "print(neighbor_tf_median.head())\n",
    "print(neighbor_tf_median.sort_values(neighbor_tf_median.columns[0], ascending=False))"
   ]
  },
  {
   "cell_type": "markdown",
   "metadata": {},
   "source": [
    "Slang neighbors (`shill`) tend to be less frequent than the slang itself, and the more standard words like `capably` have higher neighbor frequency."
   ]
  },
  {
   "cell_type": "markdown",
   "metadata": {},
   "source": [
    "Compare median distance for growth vs. non-growth words."
   ]
  },
  {
   "cell_type": "code",
   "execution_count": 174,
   "metadata": {
    "collapsed": true
   },
   "outputs": [],
   "source": [
    "import matplotlib\n",
    "%matplotlib inline\n",
    "import matplotlib.pyplot as plt"
   ]
  },
  {
   "cell_type": "code",
   "execution_count": 180,
   "metadata": {
    "collapsed": false
   },
   "outputs": [
    {
     "data": {
      "image/png": "[encoded data removed]",
      "text/plain": [
       "<matplotlib.figure.Figure at 0x7fd9fbd57290>"
      ]
     },
     "metadata": {},
     "output_type": "display_data"
    },
    {
     "name": "stdout",
     "output_type": "stream",
     "text": [
      "growth word median 3.481\n",
      "non-growth word median 1.824\n"
     ]
    }
   ],
   "source": [
    "plt.figure(figsize=(5,5))\n",
    "plt.boxplot([neighbor_tf_median.loc[growth_words], neighbor_tf_median.loc[matched_words]])\n",
    "plt.yscale('log')\n",
    "plt.xticks([1,2], ['growth', 'non-growth'])\n",
    "plt.title('Median normalized neighbor tf')\n",
    "plt.show()\n",
    "print('growth word median %.3f'%(neighbor_tf_median.loc[growth_words].median()))\n",
    "print('non-growth word median %.3f'%(neighbor_tf_median.loc[matched_words].median()))"
   ]
  },
  {
   "cell_type": "markdown",
   "metadata": {},
   "source": [
    "Growth words tend to have slightly HIGHER frequency than their nearest neighbors as compared to non-growth words. HMM."
   ]
  },
  {
   "cell_type": "markdown",
   "metadata": {},
   "source": [
    "## Gather all stats"
   ]
  },
  {
   "cell_type": "markdown",
   "metadata": {},
   "source": [
    "Combine all stats."
   ]
  },
  {
   "cell_type": "code",
   "execution_count": null,
   "metadata": {
    "collapsed": true
   },
   "outputs": [],
   "source": [
    "# combine all stats\n",
    "from itertools import izip\n",
    "def combine_stats(stat_names, stats, vocab):\n",
    "    full_stats = pd.DataFrame()\n",
    "    for i, (stat_name, stat) in enumerate(izip(stat_names, stats)):\n",
    "        # reshape stats!!\n",
    "        stat = stat.loc[vocab]\n",
    "        stat['word'] = stat.index\n",
    "        stat = pd.melt(stat, id_vars=['word'])\n",
    "        stat.rename(columns={'value' : stat_name, 'variable' : 'date'}, inplace=True)\n",
    "        if(i == 0):\n",
    "            full_stats = full_stats.append(stat)\n",
    "        else:\n",
    "            full_stats = full_stats.merge(stat, on=['date', 'word'], how='inner')\n",
    "    return full_stats"
   ]
  },
  {
   "cell_type": "code",
   "execution_count": 118,
   "metadata": {
    "collapsed": true
   },
   "outputs": [],
   "source": [
    "from itertools import izip\n",
    "def combine_stats_simple(stat_names, stats):\n",
    "    full_stats = pd.DataFrame()\n",
    "    for i, (stat_name, stat) in enumerate(izip(stat_names, stats)):\n",
    "        full_stats[stat_name] = stat\n",
    "    return full_stats"
   ]
  },
  {
   "cell_type": "code",
   "execution_count": 131,
   "metadata": {
    "collapsed": false
   },
   "outputs": [],
   "source": [
    "all_words = growth_words + matched_words\n",
    "D_U = pd.read_csv('../../data/frequency/2015_2016_user_diffusion.tsv', sep='\\t', index_col=0)\n",
    "D_S = pd.read_csv('../../data/frequency/2015_2016_subreddit_diffusion.tsv', sep='\\t', index_col=0)\n",
    "D_T = pd.read_csv('../../data/frequency/2015_2016_thread_diffusion.tsv', sep='\\t', index_col=0)\n",
    "C2 = pd.read_csv('../../data/frequency/2015_2016_2gram_resids.tsv', sep='\\t', index_col=0)\n",
    "C3 = pd.read_csv('../../data/frequency/2015_2016_3gram_resids.tsv', sep='\\t', index_col=0)\n",
    "all_dates = sorted(tf_2015_2016.columns)\n",
    "date_idx = 0\n",
    "stats = [tf_2015_2016, D_U, D_S, D_T, C2, C3, neighbor_tf_median]\n",
    "stats = [s.ix[all_words, date_idx] for s in stats]\n",
    "stat_names = ['f', 'DU', 'DS', 'DT', 'C2', 'C3', 'N_f']\n",
    "all_stats = combine_stats_simple(stat_names, stats)"
   ]
  },
  {
   "cell_type": "code",
   "execution_count": 132,
   "metadata": {
    "collapsed": false
   },
   "outputs": [
    {
     "name": "stdout",
     "output_type": "stream",
     "text": [
      "                          f        DU        DS        DT           C2  \\\n",
      "mils           3.459927e-07  0.869085  0.920300  0.903602   100.496710   \n",
      "proletariat    2.119206e-06  0.811828  0.851984  0.811860 -1053.691787   \n",
      "equalities     9.921851e-08  0.952148  0.961905  0.921674   957.409892   \n",
      "savescumming   1.030346e-07  0.970418  0.899085  0.962700   938.180557   \n",
      "collectivists  8.522615e-08  0.973516  0.908456  0.934933  1074.129363   \n",
      "\n",
      "                        C3        N_f  \n",
      "mils            474.120462   3.104779  \n",
      "proletariat   -3396.487102   0.942077  \n",
      "equalities     3209.937791  17.160256  \n",
      "savescumming   3128.455370   2.567901  \n",
      "collectivists  3549.240786  15.574627  \n",
      "False\n",
      "Empty DataFrame\n",
      "Columns: [f, DU, DS, DT, C2, C3, N_f]\n",
      "Index: []\n"
     ]
    }
   ],
   "source": [
    "print(all_stats.head())\n",
    "print(pd.np.any(pd.np.isnan(all_stats)))\n",
    "print(all_stats[all_stats.isnull().any(axis=1)])"
   ]
  },
  {
   "cell_type": "markdown",
   "metadata": {},
   "source": [
    "Difference the positive and negative examples."
   ]
  },
  {
   "cell_type": "code",
   "execution_count": 144,
   "metadata": {
    "collapsed": true
   },
   "outputs": [],
   "source": [
    "from random import random\n",
    "def get_differenced_data(pos_words, neg_words, stats):\n",
    "    \"\"\"\n",
    "    Get differenced data from positive and \n",
    "    negative examples (f(p) - f(n)). \n",
    "    Randomly switch order of positive and negative to \n",
    "    approximately balance classes.\n",
    "    \n",
    "    Parameters:\n",
    "    -----------\n",
    "    pos_words : [str]\n",
    "    neg_words : [str]\n",
    "    stats : pandas.DataFrame\n",
    "    Rows = words, cols = stats.\n",
    "    \n",
    "    Returns:\n",
    "    X : pandas.DataFrame\n",
    "    Rows = words, cols = stats.\n",
    "    Y : \n",
    "    \"\"\"\n",
    "    X = []\n",
    "    Y = []\n",
    "    for p, n in izip(pos_words, neg_words):\n",
    "        if(random() < 0.5):\n",
    "            x = stats.loc[p] - stats.loc[n]\n",
    "            y = 1\n",
    "        else:\n",
    "            x = stats.loc[n] - stats.loc[p]\n",
    "            y = 0\n",
    "        X.append(x)\n",
    "        Y.append(y)\n",
    "#     X = pd.DataFrame(X)\n",
    "    X = pd.concat(X, axis=1).transpose()\n",
    "    Y = pd.Series(Y)\n",
    "    return X, Y"
   ]
  },
  {
   "cell_type": "code",
   "execution_count": 50,
   "metadata": {
    "collapsed": false
   },
   "outputs": [
    {
     "name": "stdout",
     "output_type": "stream",
     "text": [
      "     f        DU        DS        DT    C2    C3           N_f\n",
      "0  0.0 -0.117221 -0.099921 -0.071806 -10.0 -33.0  8.490814e-07\n",
      "1  0.0 -0.117221 -0.099921 -0.071806 -10.0 -33.0  8.490814e-07\n"
     ]
    }
   ],
   "source": [
    "t1 = all_stats.loc[growth_words[0]] - all_stats.loc[matched_words[0]]\n",
    "t2 = all_stats.loc[growth_words[0]] - all_stats.loc[matched_words[0]]\n",
    "t3 = pd.DataFrame([t1, t2])\n",
    "print(t3)"
   ]
  },
  {
   "cell_type": "code",
   "execution_count": 193,
   "metadata": {
    "collapsed": false
   },
   "outputs": [
    {
     "name": "stdout",
     "output_type": "stream",
     "text": [
      "     f        DU        DS        DT     C2     C3        N_f\n",
      "0  0.0 -0.117221 -0.099921 -0.071806  -10.0  -28.0   2.454044\n",
      "1  0.0 -0.096109 -0.103766 -0.105260 -215.0 -543.0  -0.969388\n",
      "2  0.0  0.070011  0.093088  0.052667  -12.0   -8.0  10.852564\n",
      "3  0.0 -0.013478  0.059939 -0.038001  -15.0   -2.0  -1.172840\n",
      "4  0.0  0.007878  0.043043  0.035333   14.0   10.0 -14.007463\n",
      "0    1\n",
      "1    1\n",
      "2    1\n",
      "3    0\n",
      "4    0\n",
      "dtype: int64\n"
     ]
    }
   ],
   "source": [
    "X, Y = get_differenced_data(growth_words, matched_words, all_stats)\n",
    "print(X.head())\n",
    "print(Y.head())"
   ]
  },
  {
   "cell_type": "code",
   "execution_count": 185,
   "metadata": {
    "collapsed": false
   },
   "outputs": [
    {
     "data": {
      "image/png": "[encoded data removed]",
      "text/plain": [
       "<matplotlib.figure.Figure at 0x7fd9d3e07c10>"
      ]
     },
     "metadata": {},
     "output_type": "display_data"
    }
   ],
   "source": [
    "# sanity check: f should be near zero for all samples\n",
    "plt.figure(figsize=(5,5))\n",
    "plt.hist(X['f'])\n",
    "plt.show()"
   ]
  },
  {
   "cell_type": "markdown",
   "metadata": {},
   "source": [
    "OK. There's a few pairs that have a noticeable frequency difference."
   ]
  },
  {
   "cell_type": "code",
   "execution_count": 194,
   "metadata": {
    "collapsed": true
   },
   "outputs": [],
   "source": [
    "from sklearn.preprocessing import MinMaxScaler\n",
    "scaler = MinMaxScaler()\n",
    "X = pd.DataFrame(scaler.fit_transform(X), columns=X.columns)"
   ]
  },
  {
   "cell_type": "code",
   "execution_count": 195,
   "metadata": {
    "collapsed": false
   },
   "outputs": [
    {
     "name": "stdout",
     "output_type": "stream",
     "text": [
      "          f        DU        DS        DT        C2        C3       N_f\n",
      "0  0.772727  0.269084  0.290257  0.319082  0.663079  0.205176  0.610062\n",
      "1  0.772727  0.286571  0.287145  0.291364  0.653223  0.199618  0.602990\n",
      "2  0.772727  0.424165  0.446497  0.422208  0.662982  0.205392  0.627409\n",
      "3  0.772727  0.355013  0.419663  0.347089  0.662838  0.205456  0.602570\n",
      "4  0.772727  0.372702  0.405986  0.407846  0.664232  0.205586  0.576059\n"
     ]
    }
   ],
   "source": [
    "print(X.head())"
   ]
  },
  {
   "cell_type": "code",
   "execution_count": 196,
   "metadata": {
    "collapsed": false
   },
   "outputs": [
    {
     "name": "stdout",
     "output_type": "stream",
     "text": [
      "[ 0.70338983  0.63559322  0.77118644  0.69827586  0.63793103  0.63793103\n",
      "  0.62931034  0.61206897  0.65517241  0.63793103]\n",
      "mean score: 6.619E-01 +/- 4.582E-02\n"
     ]
    }
   ],
   "source": [
    "from sklearn.linear_model import LogisticRegression\n",
    "from sklearn.cross_validation import cross_val_score\n",
    "lr = LogisticRegression()\n",
    "cv = 10\n",
    "scores = cross_val_score(lr, X, Y, cv=cv)\n",
    "print(scores)\n",
    "print('mean score: %.3E +/- %.3E'%(scores.mean(), scores.std()))"
   ]
  },
  {
   "cell_type": "markdown",
   "metadata": {},
   "source": [
    "Overall the prediction isn't terrible."
   ]
  },
  {
   "cell_type": "markdown",
   "metadata": {},
   "source": [
    "What do the feature weights tell us?"
   ]
  },
  {
   "cell_type": "code",
   "execution_count": 200,
   "metadata": {
    "collapsed": false
   },
   "outputs": [
    {
     "name": "stdout",
     "output_type": "stream",
     "text": [
      "const   -1.595186\n",
      "f       -0.892397\n",
      "DU       1.949011\n",
      "DS       2.274714\n",
      "DT       3.010416\n",
      "C2      -0.244575\n",
      "C3      -0.508241\n",
      "N_f      2.358976\n",
      "dtype: float64\n"
     ]
    }
   ],
   "source": [
    "X_const = add_constant(X)\n",
    "lr.fit(X_const, Y)\n",
    "print(pd.Series(lr.coef_[0], index=X_const.columns))"
   ]
  },
  {
   "cell_type": "markdown",
   "metadata": {},
   "source": [
    "If we're interpreting these coefficients literally:\n",
    "\n",
    "- higher $f$ leads to lower likelihood of growth. Doesn't make sense because of frequency matching.\n",
    "- higher diffusion $D$ leads to higher likelihood of growth. In line with prior work.\n",
    "- higher context diversity $C$ leads to lower likelihood of growth. Similar to `fleek` example of excessive diversity leading to decline?\n",
    "- higher neighbor frequency leads to higher likelihood of growth."
   ]
  },
  {
   "cell_type": "code",
   "execution_count": 201,
   "metadata": {
    "collapsed": false
   },
   "outputs": [
    {
     "name": "stdout",
     "output_type": "stream",
     "text": [
      "Optimization terminated successfully.\n",
      "         Current function value: 0.601727\n",
      "         Iterations 8\n",
      "                           Logit Regression Results                           \n",
      "==============================================================================\n",
      "Dep. Variable:                      y   No. Observations:                 1166\n",
      "Model:                          Logit   Df Residuals:                     1158\n",
      "Method:                           MLE   Df Model:                            7\n",
      "Date:                Wed, 19 Apr 2017   Pseudo R-squ.:                  0.1317\n",
      "Time:                        09:20:01   Log-Likelihood:                -701.61\n",
      "converged:                       True   LL-Null:                       -808.04\n",
      "                                        LLR p-value:                 2.171e-42\n",
      "==============================================================================\n",
      "                 coef    std err          z      P>|z|      [95.0% Conf. Int.]\n",
      "------------------------------------------------------------------------------\n",
      "const        -25.0632     14.395     -1.741      0.082       -53.277     3.151\n",
      "f             -2.3786     18.480     -0.129      0.898       -38.598    33.841\n",
      "DU            -1.9737      2.196     -0.899      0.369        -6.278     2.330\n",
      "DS             2.1726      1.372      1.584      0.113        -0.516     4.861\n",
      "DT             9.1389      2.675      3.417      0.001         3.897    14.381\n",
      "C2            23.7089     11.477      2.066      0.039         1.213    46.204\n",
      "C3           -15.9188     21.127     -0.753      0.451       -57.328    25.490\n",
      "N_f           17.9276      3.045      5.887      0.000        11.959    23.896\n",
      "==============================================================================\n"
     ]
    }
   ],
   "source": [
    "# double check with statsmodels\n",
    "from statsmodels.discrete.discrete_model import Logit\n",
    "from statsmodels.tools.tools import add_constant\n",
    "# add constant\n",
    "logit = Logit(Y, X_const)\n",
    "results = logit.fit()\n",
    "print(results.summary())"
   ]
  },
  {
   "cell_type": "markdown",
   "metadata": {},
   "source": [
    "OK! \n",
    "\n",
    "- $D_{S}$ and $D_{U}$ irrelevant\n",
    "- $D_{T}$ positively correlated with growth\n",
    "- $C2$ relevant but cancelled out by $C3$? unclear\n",
    "- $N_{f}$ positively correlated with success => more popular neighbors imply success more likely"
   ]
  },
  {
   "cell_type": "code",
   "execution_count": 205,
   "metadata": {
    "collapsed": false
   },
   "outputs": [
    {
     "name": "stdout",
     "output_type": "stream",
     "text": [
      "Optimization terminated successfully.\n",
      "         Current function value: 0.602321\n",
      "         Iterations 7\n",
      "                           Logit Regression Results                           \n",
      "==============================================================================\n",
      "Dep. Variable:                      y   No. Observations:                 1166\n",
      "Model:                          Logit   Df Residuals:                     1160\n",
      "Method:                           MLE   Df Model:                            5\n",
      "Date:                Wed, 19 Apr 2017   Pseudo R-squ.:                  0.1308\n",
      "Time:                        09:21:35   Log-Likelihood:                -702.31\n",
      "converged:                       True   LL-Null:                       -808.04\n",
      "                                        LLR p-value:                 1.000e-43\n",
      "==============================================================================\n",
      "                 coef    std err          z      P>|z|      [95.0% Conf. Int.]\n",
      "------------------------------------------------------------------------------\n",
      "const        -34.7283      8.209     -4.231      0.000       -50.817   -18.639\n",
      "f             11.0982      5.875      1.889      0.059        -0.417    22.613\n",
      "DS             2.1325      1.369      1.558      0.119        -0.551     4.816\n",
      "DT             7.2380      1.485      4.874      0.000         4.327    10.149\n",
      "C2            17.5399      7.102      2.470      0.014         3.621    31.459\n",
      "N_f           18.0689      3.037      5.949      0.000        12.115    24.022\n",
      "==============================================================================\n"
     ]
    }
   ],
   "source": [
    "factors = ['const', 'f', 'DS', 'DT', 'C2', 'N_f']\n",
    "logit = Logit(Y, X_const[factors])\n",
    "results = logit.fit()\n",
    "print(results.summary())"
   ]
  },
  {
   "cell_type": "markdown",
   "metadata": {},
   "source": [
    "TODO:\n",
    "\n",
    "- actual prediction lmao\n",
    "- percent of decline words among growth words vs. non-growth\n",
    "- neighbor frequency weighted by similarity\n",
    "- frequency delta regression/analysis of variance??"
   ]
  },
  {
   "cell_type": "code",
   "execution_count": null,
   "metadata": {
    "collapsed": true
   },
   "outputs": [],
   "source": []
  }
 ],
 "metadata": {
  "kernelspec": {
   "display_name": "Python 2",
   "language": "python",
   "name": "python2"
  },
  "language_info": {
   "codemirror_mode": {
    "name": "ipython",
    "version": 2
   },
   "file_extension": ".py",
   "mimetype": "text/x-python",
   "name": "python",
   "nbconvert_exporter": "python",
   "pygments_lexer": "ipython2",
   "version": "2.7.10"
  }
 },
 "nbformat": 4,
 "nbformat_minor": 0
}
