{
 "cells": [
  {
   "cell_type": "markdown",
   "metadata": {},
   "source": [
    "# Get growth and decline word category counts\n",
    "Compute the counts of word categories (clipping, blend, slang, etc.) for growth and decline words."
   ]
  },
  {
   "cell_type": "code",
   "execution_count": 1,
   "metadata": {
    "collapsed": true
   },
   "outputs": [],
   "source": [
    "import pandas as pd"
   ]
  },
  {
   "cell_type": "markdown",
   "metadata": {},
   "source": [
    "## Load data"
   ]
  },
  {
   "cell_type": "code",
   "execution_count": 37,
   "metadata": {},
   "outputs": [
    {
     "name": "stdout",
     "output_type": "stream",
     "text": [
      "1117/1117 growth word overlap\n",
      "530/530 decline word overlap\n"
     ]
    }
   ],
   "source": [
    "growth_words = pd.read_csv('../../data/frequency/word_lists/2013_2016_growth_words_clean_final.csv', sep=',', index_col=False)\n",
    "log_decline_words = pd.read_csv('../../data/frequency/word_lists/2013_2016_logistic_growth_decline_words.csv', sep=',', index_col=False)\n",
    "piecewise_decline_words = pd.read_csv('../../data/frequency/word_lists/2013_2016_piecewise_growth_decline_words.csv')\n",
    "decline_words = log_decline_words.append(piecewise_decline_words).drop_duplicates('word', inplace=False)\n",
    "decline_words_clean = decline_words[~decline_words.loc[:, 'word'].isin(growth_words.loc[:, 'word'])]\n",
    "growth_words_clean = growth_words[~growth_words.loc[:, 'word'].isin(decline_words.loc[:, 'word'])]\n",
    "decline_words = decline_words_clean\n",
    "growth_words = growth_words_clean\n",
    "word_categories = pd.read_csv('../../data/frequency/word_lists/2013_2016_word_categories.csv', sep=',', index_col=False)\n",
    "word_categories.head()\n",
    "print('%d/%d growth word overlap'%(len(set(word_categories.loc[:, 'word'].values) & set(growth_words.loc[:, 'word'].values)), len(growth_words)))\n",
    "print('%d/%d decline word overlap'%(len(set(word_categories.loc[:, 'word'].values) & set(decline_words.loc[:, 'word'].values)), len(decline_words)))"
   ]
  },
  {
   "cell_type": "markdown",
   "metadata": {},
   "source": [
    "After a bit of labeling, we have our final counts."
   ]
  },
  {
   "cell_type": "code",
   "execution_count": 38,
   "metadata": {},
   "outputs": [],
   "source": [
    "decline_word_categories = word_categories[word_categories.loc[:, 'word'].isin(decline_words.loc[:, 'word'])]\n",
    "growth_word_categories = word_categories[word_categories.loc[:, 'word'].isin(growth_words.loc[:, 'word'])]"
   ]
  },
  {
   "cell_type": "code",
   "execution_count": 39,
   "metadata": {},
   "outputs": [
    {
     "data": {
      "text/plain": [
       "K      334\n",
       "D      324\n",
       "C      198\n",
       "R       83\n",
       "A       81\n",
       "E       31\n",
       "O       30\n",
       "V       17\n",
       "C/K      8\n",
       "V/D      6\n",
       "C/D      2\n",
       "K/D      1\n",
       "D/K      1\n",
       "E/D      1\n",
       "Name: category, dtype: int64"
      ]
     },
     "execution_count": 39,
     "metadata": {},
     "output_type": "execute_result"
    }
   ],
   "source": [
    "growth_word_categories.loc[:, 'category'].value_counts()"
   ]
  },
  {
   "cell_type": "code",
   "execution_count": 40,
   "metadata": {},
   "outputs": [
    {
     "data": {
      "text/plain": [
       "D      168\n",
       "R      108\n",
       "K      100\n",
       "C       53\n",
       "O       35\n",
       "A       14\n",
       "V        9\n",
       "C/D      7\n",
       "K/D      7\n",
       "C/K      7\n",
       "E        7\n",
       "A/D      6\n",
       "R/K      6\n",
       "D/K      3\n",
       "E/D      1\n",
       "R/D      1\n",
       "V/D      1\n",
       "C/R      1\n",
       "Name: category, dtype: int64"
      ]
     },
     "execution_count": 40,
     "metadata": {},
     "output_type": "execute_result"
    }
   ],
   "source": [
    "decline_word_categories.loc[:, 'category'].value_counts()"
   ]
  },
  {
   "cell_type": "code",
   "execution_count": null,
   "metadata": {
    "collapsed": true
   },
   "outputs": [],
   "source": []
  }
 ],
 "metadata": {
  "kernelspec": {
   "display_name": "Python 3",
   "language": "python",
   "name": "python3"
  },
  "language_info": {
   "codemirror_mode": {
    "name": "ipython",
    "version": 3
   },
   "file_extension": ".py",
   "mimetype": "text/x-python",
   "name": "python",
   "nbconvert_exporter": "python",
   "pygments_lexer": "ipython3",
   "version": "3.4.3"
  }
 },
 "nbformat": 4,
 "nbformat_minor": 2
}
